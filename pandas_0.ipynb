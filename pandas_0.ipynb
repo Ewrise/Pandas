{
 "cells": [
  {
   "cell_type": "code",
   "execution_count": 1,
   "metadata": {},
   "outputs": [],
   "source": [
    "# Pandası içe aktarabilmemiz için öncelikle terminalden pip install pandas komutuyla yüklemesini yapmamız gerekiyor.\n",
    "# Pandas kullanırken genel olarak kısaltması olan pd komutu kullanılır.\n",
    "\n",
    "import pandas as pd"
   ]
  },
  {
   "cell_type": "code",
   "execution_count": 2,
   "metadata": {},
   "outputs": [
    {
     "name": "stdout",
     "output_type": "stream",
     "text": [
      "1.5.3\n"
     ]
    }
   ],
   "source": [
    "print(pd.__version__)\n",
    "\n",
    "# Bu komutla birlikte pandasın versiyonunun ne olduğunu öğrenebilirsiniz.\n",
    "# Eğer pandasınız güncel değilse pip install --user --upgrade pandas komutuyla güncelleyebilirsiniz."
   ]
  },
  {
   "cell_type": "code",
   "execution_count": 3,
   "metadata": {},
   "outputs": [],
   "source": [
    "# pip show pandas komutuyla da yüklü olan pandas hakkında bilgi olabilirsiniz."
   ]
  },
  {
   "cell_type": "code",
   "execution_count": 4,
   "metadata": {},
   "outputs": [],
   "source": [
    "# pandasta yapabileceğimiz her işlemi pythonun kendi gömülü kodlarıyla da yapabiliriz.\n",
    "# Ancak pandas kütüphanesi pythonun kodlarına göre çok daha hızlı olduğu ve bu da bize verim sağladığı için\n",
    "# biz pandas kütüphanesini kullanmayı tercih ederiz."
   ]
  },
  {
   "cell_type": "code",
   "execution_count": null,
   "metadata": {},
   "outputs": [],
   "source": []
  }
 ],
 "metadata": {
  "kernelspec": {
   "display_name": "Python 3.11.0 64-bit",
   "language": "python",
   "name": "python3"
  },
  "language_info": {
   "codemirror_mode": {
    "name": "ipython",
    "version": 3
   },
   "file_extension": ".py",
   "mimetype": "text/x-python",
   "name": "python",
   "nbconvert_exporter": "python",
   "pygments_lexer": "ipython3",
   "version": "3.11.0"
  },
  "orig_nbformat": 4,
  "vscode": {
   "interpreter": {
    "hash": "7c542dbbc07e6010b76b61de8a453dc04d29cd1fae7fbaa29851ecbad9aefb83"
   }
  }
 },
 "nbformat": 4,
 "nbformat_minor": 2
}
