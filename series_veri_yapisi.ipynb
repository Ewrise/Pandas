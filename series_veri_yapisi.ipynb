{
 "cells": [
  {
   "cell_type": "code",
   "execution_count": 1,
   "metadata": {},
   "outputs": [],
   "source": [
    "import pandas as pd\n",
    "\n",
    "# Pandas modülümüzü içe aktardık."
   ]
  },
  {
   "cell_type": "code",
   "execution_count": 2,
   "metadata": {},
   "outputs": [
    {
     "data": {
      "text/plain": [
       "0      1\n",
       "1    Ali\n",
       "2    3.5\n",
       "3    Hey\n",
       "dtype: object"
      ]
     },
     "execution_count": 2,
     "metadata": {},
     "output_type": "execute_result"
    }
   ],
   "source": [
    "obje = pd.Series([1, \"Ali\", 3.5, \"Hey\"])\n",
    "obje\n",
    "\n",
    "# Seriesler bir boyutludur.\n",
    "# İlk seriesimizi oluşturmuş olduk."
   ]
  },
  {
   "cell_type": "code",
   "execution_count": 3,
   "metadata": {},
   "outputs": [
    {
     "data": {
      "text/plain": [
       "1"
      ]
     },
     "execution_count": 3,
     "metadata": {},
     "output_type": "execute_result"
    }
   ],
   "source": [
    "obje[0]\n",
    "\n",
    "# Serieslerdeki verilere ulaşmak için aynı listelerdeki gibi index numarasını kullanabiliriz."
   ]
  },
  {
   "cell_type": "code",
   "execution_count": 4,
   "metadata": {},
   "outputs": [
    {
     "data": {
      "text/plain": [
       "'Hey'"
      ]
     },
     "execution_count": 4,
     "metadata": {},
     "output_type": "execute_result"
    }
   ],
   "source": [
    "obje[3]"
   ]
  },
  {
   "cell_type": "code",
   "execution_count": 5,
   "metadata": {},
   "outputs": [
    {
     "data": {
      "text/plain": [
       "array([1, 'Ali', 3.5, 'Hey'], dtype=object)"
      ]
     },
     "execution_count": 5,
     "metadata": {},
     "output_type": "execute_result"
    }
   ],
   "source": [
    "obje.values\n",
    "\n",
    "# values özelliği ile Series'imizi ndarray olarakta yazdırabiliriz."
   ]
  },
  {
   "cell_type": "code",
   "execution_count": 7,
   "metadata": {},
   "outputs": [
    {
     "data": {
      "text/plain": [
       "a      1\n",
       "b    Ali\n",
       "c    3.5\n",
       "d    Hey\n",
       "dtype: object"
      ]
     },
     "execution_count": 7,
     "metadata": {},
     "output_type": "execute_result"
    }
   ],
   "source": [
    "obje = pd.Series([1, \"Ali\", 3.5, \"Hey\"], index= [\"a\", \"b\", \"c\", \"d\"])\n",
    "obje\n",
    "# index parametresiyle indexleri kendimizde isimlendirebiliriz."
   ]
  },
  {
   "cell_type": "code",
   "execution_count": 8,
   "metadata": {},
   "outputs": [
    {
     "data": {
      "text/plain": [
       "1"
      ]
     },
     "execution_count": 8,
     "metadata": {},
     "output_type": "execute_result"
    }
   ],
   "source": [
    "obje[\"a\"]\n",
    "\n",
    "# Oluşturduğumuz isimlendirmelerle de verilere index numarasıyla ulaştığımız gibi ulaşabiliriz."
   ]
  },
  {
   "cell_type": "code",
   "execution_count": 9,
   "metadata": {},
   "outputs": [
    {
     "data": {
      "text/plain": [
       "Index(['a', 'b', 'c', 'd'], dtype='object')"
      ]
     },
     "execution_count": 9,
     "metadata": {},
     "output_type": "execute_result"
    }
   ],
   "source": [
    "obje.index\n",
    "\n",
    "# Aynı şekilde indexleri de verilerde yaptığımız gibi ndarray olarak yazdırabiliriz.\n",
    "# Bunu için index özelliğini kullanıyoruz."
   ]
  },
  {
   "cell_type": "code",
   "execution_count": 11,
   "metadata": {},
   "outputs": [
    {
     "data": {
      "text/plain": [
       "Ali     90\n",
       "Can     80\n",
       "Efe     75\n",
       "Buse    95\n",
       "dtype: int64"
      ]
     },
     "execution_count": 11,
     "metadata": {},
     "output_type": "execute_result"
    }
   ],
   "source": [
    "puan = {\"Ali\": 90, \"Can\": 80, \"Efe\": 75, \"Buse\": 95}\n",
    "nt = pd.Series(puan)\n",
    "nt\n",
    "\n",
    "# Elimizdeki dictionary tipindeki veri tipini Series veri tipine dönüştürdük.\n",
    "# key değerleri index ismini aldı.\n",
    "# value değerleri de verilerimiz oldu."
   ]
  },
  {
   "cell_type": "code",
   "execution_count": 12,
   "metadata": {},
   "outputs": [
    {
     "data": {
      "text/plain": [
       "80"
      ]
     },
     "execution_count": 12,
     "metadata": {},
     "output_type": "execute_result"
    }
   ],
   "source": [
    "nt[\"Can\"]"
   ]
  },
  {
   "cell_type": "code",
   "execution_count": 13,
   "metadata": {},
   "outputs": [
    {
     "data": {
      "text/plain": [
       "Ali     90\n",
       "Buse    95\n",
       "dtype: int64"
      ]
     },
     "execution_count": 13,
     "metadata": {},
     "output_type": "execute_result"
    }
   ],
   "source": [
    "nt[nt > 85]\n",
    "\n",
    "# Aynı zamanda çağırma yaparken şartta belirleyebiliriz.\n",
    "# Burada notu 85'ten büyük olanları ekrana yazdırdık."
   ]
  },
  {
   "cell_type": "code",
   "execution_count": 14,
   "metadata": {},
   "outputs": [
    {
     "data": {
      "text/plain": [
       "Ali     False\n",
       "Can      True\n",
       "Efe      True\n",
       "Buse    False\n",
       "dtype: bool"
      ]
     },
     "execution_count": 14,
     "metadata": {},
     "output_type": "execute_result"
    }
   ],
   "source": [
    "nt<85\n",
    "\n",
    "# Bool olarakta sonuç alabiliriz.\n",
    "# 85'ten küçük olanlar True diğerleri False olarak ekranımıza geldi."
   ]
  },
  {
   "cell_type": "code",
   "execution_count": 15,
   "metadata": {},
   "outputs": [
    {
     "data": {
      "text/plain": [
       "Ali     90\n",
       "Can     60\n",
       "Efe     75\n",
       "Buse    95\n",
       "dtype: int64"
      ]
     },
     "execution_count": 15,
     "metadata": {},
     "output_type": "execute_result"
    }
   ],
   "source": [
    "nt[\"Can\"] = 60\n",
    "nt\n",
    "\n",
    "# Belirli bir veriyi de index adını kullanarak değiştirmemiz mümkündür."
   ]
  },
  {
   "cell_type": "code",
   "execution_count": 16,
   "metadata": {},
   "outputs": [
    {
     "data": {
      "text/plain": [
       "Ali     90\n",
       "Can     83\n",
       "Efe     83\n",
       "Buse    95\n",
       "dtype: int64"
      ]
     },
     "execution_count": 16,
     "metadata": {},
     "output_type": "execute_result"
    }
   ],
   "source": [
    "nt[nt < 80] = 83\n",
    "nt\n",
    "\n",
    "# Aynı anda birden fazla değiştirme de yapabiliriz.\n",
    "# Burada sınırlarımızı zorlayıp hem koşul belirterek koşula uyanlarda değişim uyguladık."
   ]
  },
  {
   "cell_type": "code",
   "execution_count": 17,
   "metadata": {},
   "outputs": [
    {
     "data": {
      "text/plain": [
       "True"
      ]
     },
     "execution_count": 17,
     "metadata": {},
     "output_type": "execute_result"
    }
   ],
   "source": [
    "\"Efe\" in nt\n",
    "\n",
    "# Ayrıca Serieslerde sorgulama da yapabiliriz.\n",
    "# Efe isminin var olup olmadığını sorguladık ve True cevabını aldık. Yani varmış."
   ]
  },
  {
   "cell_type": "code",
   "execution_count": 18,
   "metadata": {},
   "outputs": [
    {
     "data": {
      "text/plain": [
       "False"
      ]
     },
     "execution_count": 18,
     "metadata": {},
     "output_type": "execute_result"
    }
   ],
   "source": [
    "\"Ahmet\" in nt"
   ]
  },
  {
   "cell_type": "code",
   "execution_count": 19,
   "metadata": {},
   "outputs": [
    {
     "data": {
      "text/plain": [
       "Ali     9.0\n",
       "Can     8.3\n",
       "Efe     8.3\n",
       "Buse    9.5\n",
       "dtype: float64"
      ]
     },
     "execution_count": 19,
     "metadata": {},
     "output_type": "execute_result"
    }
   ],
   "source": [
    "nt/10\n",
    "\n",
    "# Series değerler üzerinde matematiksel işlemler de yapabiliriz."
   ]
  },
  {
   "cell_type": "code",
   "execution_count": 20,
   "metadata": {},
   "outputs": [
    {
     "data": {
      "text/plain": [
       "Ali     8100\n",
       "Can     6889\n",
       "Efe     6889\n",
       "Buse    9025\n",
       "dtype: int64"
      ]
     },
     "execution_count": 20,
     "metadata": {},
     "output_type": "execute_result"
    }
   ],
   "source": [
    "nt ** 2"
   ]
  },
  {
   "cell_type": "code",
   "execution_count": 21,
   "metadata": {},
   "outputs": [
    {
     "data": {
      "text/plain": [
       "Ali     False\n",
       "Can     False\n",
       "Efe     False\n",
       "Buse    False\n",
       "dtype: bool"
      ]
     },
     "execution_count": 21,
     "metadata": {},
     "output_type": "execute_result"
    }
   ],
   "source": [
    "nt.isnull()\n",
    "\n",
    "# isnull() metodu ile değer var mı diye sorgulama yapabiliriz.\n",
    "# Hepsinden False değeri aldık çünkü bütün indexlerde değerler mevcut."
   ]
  },
  {
   "cell_type": "code",
   "execution_count": null,
   "metadata": {},
   "outputs": [],
   "source": []
  }
 ],
 "metadata": {
  "kernelspec": {
   "display_name": "Python 3.11.0 64-bit",
   "language": "python",
   "name": "python3"
  },
  "language_info": {
   "codemirror_mode": {
    "name": "ipython",
    "version": 3
   },
   "file_extension": ".py",
   "mimetype": "text/x-python",
   "name": "python",
   "nbconvert_exporter": "python",
   "pygments_lexer": "ipython3",
   "version": "3.11.0"
  },
  "orig_nbformat": 4,
  "vscode": {
   "interpreter": {
    "hash": "7c542dbbc07e6010b76b61de8a453dc04d29cd1fae7fbaa29851ecbad9aefb83"
   }
  }
 },
 "nbformat": 4,
 "nbformat_minor": 2
}
