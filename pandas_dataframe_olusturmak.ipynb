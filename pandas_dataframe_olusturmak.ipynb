{
 "cells": [
  {
   "cell_type": "code",
   "execution_count": 1,
   "metadata": {},
   "outputs": [],
   "source": [
    "import pandas as pd"
   ]
  },
  {
   "cell_type": "code",
   "execution_count": 4,
   "metadata": {},
   "outputs": [
    {
     "name": "stdout",
     "output_type": "stream",
     "text": [
      "[{'name': 'Arin', 'age': 21, 'gender': 'F'}, {'name': 'Fatih', 'age': 20, 'gender': 'M'}, {'name': 'Elis', 'age': 24, 'gender': 'F'}]\n",
      "<class 'list'>\n"
     ]
    }
   ],
   "source": [
    "students = [\n",
    "    {\n",
    "        \"name\" : \"Arin\",\n",
    "        \"age\" : 21,\n",
    "        \"gender\" : \"F\"\n",
    "    },\n",
    "    {\n",
    "        \"name\" : \"Fatih\",\n",
    "        \"age\" : 20,\n",
    "        \"gender\" : \"M\"\n",
    "    },\n",
    "    {\n",
    "        \"name\" : \"Elis\",\n",
    "        \"age\" : 24,\n",
    "        \"gender\" : \"F\"\n",
    "    }\n",
    "]\n",
    "\n",
    "print(students)\n",
    "print(type(students))"
   ]
  },
  {
   "cell_type": "code",
   "execution_count": 5,
   "metadata": {},
   "outputs": [
    {
     "name": "stdout",
     "output_type": "stream",
     "text": [
      "    name  age gender\n",
      "0   Arin   21      F\n",
      "1  Fatih   20      M\n",
      "2   Elis   24      F\n",
      "<class 'pandas.core.frame.DataFrame'>\n"
     ]
    }
   ],
   "source": [
    "df_students = pd.DataFrame(students)\n",
    "\n",
    "print(df_students)\n",
    "print(type(df_students))\n",
    "\n",
    "# Bir listeyi 2 boyutlu bir dataframe'e dönüştürdük.\n",
    "# Parametre olarak daha önce yazdığımız students tanımını kullandık.\n",
    "# Sütun isimleri bizim students tanımımızdaki keylerden oluştuğunu görebiliyoruz."
   ]
  },
  {
   "cell_type": "code",
   "execution_count": 6,
   "metadata": {},
   "outputs": [
    {
     "name": "stdout",
     "output_type": "stream",
     "text": [
      "{'names': ['Ahmet', 'Cansu', 'Hakan'], 'age': [41, 36, 40], 'gender': ['M', 'F', 'M']}\n",
      "<class 'dict'>\n"
     ]
    }
   ],
   "source": [
    "teachers = {\n",
    "    \"names\" : [\"Ahmet\", \"Cansu\", \"Hakan\"],\n",
    "    \"age\" : [41, 36, 40],\n",
    "    \"gender\" : [\"M\", \"F\", \"M\"]\n",
    "}\n",
    "\n",
    "print(teachers)\n",
    "print(type(teachers))\n",
    "\n",
    "# Bu seferde bir dictionary yapısı oluşturduk."
   ]
  },
  {
   "cell_type": "code",
   "execution_count": 7,
   "metadata": {},
   "outputs": [
    {
     "name": "stdout",
     "output_type": "stream",
     "text": [
      "   names  age gender\n",
      "0  Ahmet   41      M\n",
      "1  Cansu   36      F\n",
      "2  Hakan   40      M\n",
      "<class 'pandas.core.frame.DataFrame'>\n"
     ]
    }
   ],
   "source": [
    "df_teachers = pd.DataFrame(teachers)\n",
    "\n",
    "print(df_teachers)\n",
    "print(type(df_teachers))\n",
    "\n",
    "# Bu sefer liste yerine dictionaryden bir dataframe oluşturduk.\n",
    "# Yine dictionarynin key değerleri sütun ismi olarak yazdırıldı."
   ]
  },
  {
   "cell_type": "code",
   "execution_count": 8,
   "metadata": {},
   "outputs": [
    {
     "name": "stdout",
     "output_type": "stream",
     "text": [
      "[['Ahmet', 'Mehmet', 'Ayşe'], [44, 39, 51]]\n",
      "<class 'list'>\n"
     ]
    }
   ],
   "source": [
    "list_of_list = [\n",
    "    [\"Ahmet\", \"Mehmet\", \"Ayşe\"],\n",
    "    [44, 39, 51]\n",
    "]\n",
    "\n",
    "print(list_of_list)\n",
    "print(type(list_of_list))\n",
    "\n",
    "# Liste içinde liste oluşturduk."
   ]
  },
  {
   "cell_type": "code",
   "execution_count": 9,
   "metadata": {},
   "outputs": [
    {
     "name": "stdout",
     "output_type": "stream",
     "text": [
      "       0       1     2\n",
      "0  Ahmet  Mehmet  Ayşe\n",
      "1     44      39    51\n",
      "<class 'pandas.core.frame.DataFrame'>\n"
     ]
    }
   ],
   "source": [
    "df_list_of_list = pd.DataFrame(list_of_list)\n",
    "\n",
    "print(df_list_of_list)\n",
    "print(type(df_list_of_list))\n",
    "\n",
    "# Liste içinde listeden bir dataframe oluşturduk.\n",
    "# Ancak key değeri olmadığı için görüyorsunuz ki sütun isimleri de satır isimleri gibi index numaralarından oluşturuldu."
   ]
  },
  {
   "cell_type": "code",
   "execution_count": 10,
   "metadata": {},
   "outputs": [
    {
     "name": "stdout",
     "output_type": "stream",
     "text": [
      "['Ahmet', 'Mahmut', 'Fatih']\n",
      "<class 'list'>\n"
     ]
    }
   ],
   "source": [
    "names = [\"Ahmet\", \"Mahmut\", \"Fatih\"]\n",
    "\n",
    "print(names)\n",
    "print(type(names))\n",
    "\n",
    "# Liste oluşturduk."
   ]
  },
  {
   "cell_type": "code",
   "execution_count": 11,
   "metadata": {},
   "outputs": [
    {
     "name": "stdout",
     "output_type": "stream",
     "text": [
      "        0\n",
      "0   Ahmet\n",
      "1  Mahmut\n",
      "2   Fatih\n",
      "<class 'pandas.core.frame.DataFrame'>\n"
     ]
    }
   ],
   "source": [
    "df_names = pd.DataFrame(names)\n",
    "\n",
    "print(df_names)\n",
    "print(type(df_names))\n",
    "\n",
    "# Tek bir listeden dataframe oluşturduk. Bunu typeını görüntülediğimiz yerden de görebilirsiniz.\n",
    "# Bunu ilk görüşte Series sanabilirsiniz. Ancak bu Series gibi tek boyutlu değil iki boyutludur."
   ]
  },
  {
   "cell_type": "code",
   "execution_count": 13,
   "metadata": {},
   "outputs": [
    {
     "name": "stdout",
     "output_type": "stream",
     "text": [
      "2\n"
     ]
    }
   ],
   "source": [
    "print(df_names.ndim)\n",
    "\n",
    "# ndim metoduyla da iki boyutlu olduğunu kanıtlayabiliriz."
   ]
  },
  {
   "cell_type": "code",
   "execution_count": 14,
   "metadata": {},
   "outputs": [
    {
     "name": "stdout",
     "output_type": "stream",
     "text": [
      "{'name': 'Hale', 'age': 24}\n",
      "<class 'dict'>\n"
     ]
    }
   ],
   "source": [
    "students = {\"name\" : \"Hale\", \"age\" : 24}\n",
    "\n",
    "print(students)\n",
    "print(type(students))\n",
    "\n",
    "# Basitçe bir dictionary oluşturduk."
   ]
  },
  {
   "cell_type": "code",
   "execution_count": 15,
   "metadata": {},
   "outputs": [
    {
     "ename": "ValueError",
     "evalue": "If using all scalar values, you must pass an index",
     "output_type": "error",
     "traceback": [
      "\u001b[1;31m---------------------------------------------------------------------------\u001b[0m",
      "\u001b[1;31mValueError\u001b[0m                                Traceback (most recent call last)",
      "Cell \u001b[1;32mIn [15], line 1\u001b[0m\n\u001b[1;32m----> 1\u001b[0m df_students \u001b[39m=\u001b[39m pd\u001b[39m.\u001b[39;49mDataFrame(students)\n\u001b[0;32m      3\u001b[0m \u001b[39mprint\u001b[39m(df_students)\n\u001b[0;32m      4\u001b[0m \u001b[39mprint\u001b[39m(\u001b[39mtype\u001b[39m(df_students))\n",
      "File \u001b[1;32mc:\\Users\\Fallrytme\\AppData\\Local\\Programs\\Python\\Python311\\Lib\\site-packages\\pandas\\core\\frame.py:664\u001b[0m, in \u001b[0;36mDataFrame.__init__\u001b[1;34m(self, data, index, columns, dtype, copy)\u001b[0m\n\u001b[0;32m    658\u001b[0m     mgr \u001b[39m=\u001b[39m \u001b[39mself\u001b[39m\u001b[39m.\u001b[39m_init_mgr(\n\u001b[0;32m    659\u001b[0m         data, axes\u001b[39m=\u001b[39m{\u001b[39m\"\u001b[39m\u001b[39mindex\u001b[39m\u001b[39m\"\u001b[39m: index, \u001b[39m\"\u001b[39m\u001b[39mcolumns\u001b[39m\u001b[39m\"\u001b[39m: columns}, dtype\u001b[39m=\u001b[39mdtype, copy\u001b[39m=\u001b[39mcopy\n\u001b[0;32m    660\u001b[0m     )\n\u001b[0;32m    662\u001b[0m \u001b[39melif\u001b[39;00m \u001b[39misinstance\u001b[39m(data, \u001b[39mdict\u001b[39m):\n\u001b[0;32m    663\u001b[0m     \u001b[39m# GH#38939 de facto copy defaults to False only in non-dict cases\u001b[39;00m\n\u001b[1;32m--> 664\u001b[0m     mgr \u001b[39m=\u001b[39m dict_to_mgr(data, index, columns, dtype\u001b[39m=\u001b[39;49mdtype, copy\u001b[39m=\u001b[39;49mcopy, typ\u001b[39m=\u001b[39;49mmanager)\n\u001b[0;32m    665\u001b[0m \u001b[39melif\u001b[39;00m \u001b[39misinstance\u001b[39m(data, ma\u001b[39m.\u001b[39mMaskedArray):\n\u001b[0;32m    666\u001b[0m     \u001b[39mimport\u001b[39;00m \u001b[39mnumpy\u001b[39;00m\u001b[39m.\u001b[39;00m\u001b[39mma\u001b[39;00m\u001b[39m.\u001b[39;00m\u001b[39mmrecords\u001b[39;00m \u001b[39mas\u001b[39;00m \u001b[39mmrecords\u001b[39;00m\n",
      "File \u001b[1;32mc:\\Users\\Fallrytme\\AppData\\Local\\Programs\\Python\\Python311\\Lib\\site-packages\\pandas\\core\\internals\\construction.py:493\u001b[0m, in \u001b[0;36mdict_to_mgr\u001b[1;34m(data, index, columns, dtype, typ, copy)\u001b[0m\n\u001b[0;32m    489\u001b[0m     \u001b[39melse\u001b[39;00m:\n\u001b[0;32m    490\u001b[0m         \u001b[39m# dtype check to exclude e.g. range objects, scalars\u001b[39;00m\n\u001b[0;32m    491\u001b[0m         arrays \u001b[39m=\u001b[39m [x\u001b[39m.\u001b[39mcopy() \u001b[39mif\u001b[39;00m \u001b[39mhasattr\u001b[39m(x, \u001b[39m\"\u001b[39m\u001b[39mdtype\u001b[39m\u001b[39m\"\u001b[39m) \u001b[39melse\u001b[39;00m x \u001b[39mfor\u001b[39;00m x \u001b[39min\u001b[39;00m arrays]\n\u001b[1;32m--> 493\u001b[0m \u001b[39mreturn\u001b[39;00m arrays_to_mgr(arrays, columns, index, dtype\u001b[39m=\u001b[39;49mdtype, typ\u001b[39m=\u001b[39;49mtyp, consolidate\u001b[39m=\u001b[39;49mcopy)\n",
      "File \u001b[1;32mc:\\Users\\Fallrytme\\AppData\\Local\\Programs\\Python\\Python311\\Lib\\site-packages\\pandas\\core\\internals\\construction.py:118\u001b[0m, in \u001b[0;36marrays_to_mgr\u001b[1;34m(arrays, columns, index, dtype, verify_integrity, typ, consolidate)\u001b[0m\n\u001b[0;32m    115\u001b[0m \u001b[39mif\u001b[39;00m verify_integrity:\n\u001b[0;32m    116\u001b[0m     \u001b[39m# figure out the index, if necessary\u001b[39;00m\n\u001b[0;32m    117\u001b[0m     \u001b[39mif\u001b[39;00m index \u001b[39mis\u001b[39;00m \u001b[39mNone\u001b[39;00m:\n\u001b[1;32m--> 118\u001b[0m         index \u001b[39m=\u001b[39m _extract_index(arrays)\n\u001b[0;32m    119\u001b[0m     \u001b[39melse\u001b[39;00m:\n\u001b[0;32m    120\u001b[0m         index \u001b[39m=\u001b[39m ensure_index(index)\n",
      "File \u001b[1;32mc:\\Users\\Fallrytme\\AppData\\Local\\Programs\\Python\\Python311\\Lib\\site-packages\\pandas\\core\\internals\\construction.py:656\u001b[0m, in \u001b[0;36m_extract_index\u001b[1;34m(data)\u001b[0m\n\u001b[0;32m    653\u001b[0m         \u001b[39mraise\u001b[39;00m \u001b[39mValueError\u001b[39;00m(\u001b[39m\"\u001b[39m\u001b[39mPer-column arrays must each be 1-dimensional\u001b[39m\u001b[39m\"\u001b[39m)\n\u001b[0;32m    655\u001b[0m \u001b[39mif\u001b[39;00m \u001b[39mnot\u001b[39;00m indexes \u001b[39mand\u001b[39;00m \u001b[39mnot\u001b[39;00m raw_lengths:\n\u001b[1;32m--> 656\u001b[0m     \u001b[39mraise\u001b[39;00m \u001b[39mValueError\u001b[39;00m(\u001b[39m\"\u001b[39m\u001b[39mIf using all scalar values, you must pass an index\u001b[39m\u001b[39m\"\u001b[39m)\n\u001b[0;32m    658\u001b[0m \u001b[39melif\u001b[39;00m have_series:\n\u001b[0;32m    659\u001b[0m     index \u001b[39m=\u001b[39m union_indexes(indexes)\n",
      "\u001b[1;31mValueError\u001b[0m: If using all scalar values, you must pass an index"
     ]
    }
   ],
   "source": [
    "df_students = pd.DataFrame(students)\n",
    "\n",
    "print(df_students)\n",
    "print(type(df_students))\n",
    "\n",
    "# Bir hata aldık gördüğünüz gibi.\n",
    "# Bunun sebebi klasik dictionaryi dataframe'e dönüştürmeye çalışmamız.\n",
    "# Çünkü dictionary verisi iki boyutluya dönüştürülemiyor. Index belirlenemiyor ve bu şekilde hata alıyoruz."
   ]
  },
  {
   "cell_type": "code",
   "execution_count": 16,
   "metadata": {},
   "outputs": [
    {
     "name": "stdout",
     "output_type": "stream",
     "text": [
      "{'Hale': age           25\n",
      "gender         F\n",
      "department    CE\n",
      "dtype: object, 'Ahmet': age           32\n",
      "gender         M\n",
      "department    EE\n",
      "dtype: object}\n",
      "<class 'dict'>\n"
     ]
    }
   ],
   "source": [
    "students = {\"Hale\" : pd.Series(data= [25, \"F\", \"CE\"], index= [\"age\", \"gender\", \"department\"]),\n",
    "    \"Ahmet\" : pd.Series(data= [32, \"M\", \"EE\"], index= [\"age\", \"gender\", \"department\"])\n",
    "}\n",
    "\n",
    "print(students)\n",
    "print(type(students))\n",
    "\n",
    "# Yine klasik bir dictionary oluşturduk ancak bu kez indeximizi parametre olarak belirttik."
   ]
  },
  {
   "cell_type": "code",
   "execution_count": 18,
   "metadata": {},
   "outputs": [
    {
     "name": "stdout",
     "output_type": "stream",
     "text": [
      "           Hale Ahmet\n",
      "age          25    32\n",
      "gender        F     M\n",
      "department   CE    EE\n",
      "<class 'pandas.core.frame.DataFrame'>\n"
     ]
    }
   ],
   "source": [
    "df_students = pd.DataFrame(students)\n",
    "\n",
    "print(df_students)\n",
    "print(type(df_students))\n",
    "\n",
    "# Dictionary'de girdiğimiz keyler yine sütuna yazdırıldı.\n",
    "# Index olarak belirttiklerimiz ise satır ismi olarak yazdırıldı.\n",
    "# ve dataframe yapısını da index parametresiyle oluşturmayı başardık."
   ]
  },
  {
   "cell_type": "code",
   "execution_count": 19,
   "metadata": {},
   "outputs": [
    {
     "name": "stdout",
     "output_type": "stream",
     "text": [
      "           Hale Ahmet\n",
      "age          25    32\n",
      "department   CE    EE\n",
      "gender        F     M\n",
      "height      172   NaN\n",
      "weight      NaN    83\n",
      "<class 'pandas.core.frame.DataFrame'>\n"
     ]
    }
   ],
   "source": [
    "students = {\"Hale\" : pd.Series(data= [25, \"F\", \"CE\", 172], index= [\"age\", \"gender\", \"department\", \"height\"]),\n",
    "    \"Ahmet\" : pd.Series(data= [32, \"M\", \"EE\",83], index= [\"age\", \"gender\", \"department\", \"weight\"])\n",
    "}\n",
    "\n",
    "df_students = pd.DataFrame(students)\n",
    "\n",
    "print(df_students)\n",
    "print(type(df_students))\n",
    "\n",
    "# Dictionaryimizin içinde indexleri farklı olan ifadeler kullandık.\n",
    "# Bunun sonucunda bu dictionaryi dataframe'e dönüştürdüğümüzde height ve weight değerleri iki ayrı satır olarak yazdırıldı.\n",
    "# height indexinde bilgisi bulunmayan Ahmet ve weight indexinde bilgisi bulunmayan Hale'nin dataları NaN olarak yazdırıldı.\n",
    "# Bu da bilgi girilmediğini bize gösteriyor."
   ]
  },
  {
   "cell_type": "code",
   "execution_count": null,
   "metadata": {},
   "outputs": [],
   "source": []
  }
 ],
 "metadata": {
  "kernelspec": {
   "display_name": "Python 3.11.0 64-bit",
   "language": "python",
   "name": "python3"
  },
  "language_info": {
   "codemirror_mode": {
    "name": "ipython",
    "version": 3
   },
   "file_extension": ".py",
   "mimetype": "text/x-python",
   "name": "python",
   "nbconvert_exporter": "python",
   "pygments_lexer": "ipython3",
   "version": "3.11.0"
  },
  "orig_nbformat": 4,
  "vscode": {
   "interpreter": {
    "hash": "7c542dbbc07e6010b76b61de8a453dc04d29cd1fae7fbaa29851ecbad9aefb83"
   }
  }
 },
 "nbformat": 4,
 "nbformat_minor": 2
}
