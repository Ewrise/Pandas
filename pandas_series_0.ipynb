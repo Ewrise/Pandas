{
 "cells": [
  {
   "cell_type": "code",
   "execution_count": 1,
   "metadata": {},
   "outputs": [
    {
     "name": "stdout",
     "output_type": "stream",
     "text": [
      "['Arin', 23, 'CE']\n"
     ]
    }
   ],
   "source": [
    "import pandas as pd\n",
    "\n",
    "student = [\"Arin\", 23, \"CE\"]\n",
    "\n",
    "print(student)"
   ]
  },
  {
   "cell_type": "code",
   "execution_count": 3,
   "metadata": {},
   "outputs": [
    {
     "name": "stdout",
     "output_type": "stream",
     "text": [
      "<class 'list'>\n"
     ]
    }
   ],
   "source": [
    "print(type(student))"
   ]
  },
  {
   "cell_type": "code",
   "execution_count": 5,
   "metadata": {},
   "outputs": [
    {
     "name": "stdout",
     "output_type": "stream",
     "text": [
      "0    Arin\n",
      "1      23\n",
      "2      CE\n",
      "dtype: object\n",
      "<class 'pandas.core.series.Series'>\n"
     ]
    }
   ],
   "source": [
    "ps_student = pd.Series(student)\n",
    "\n",
    "print(ps_student)\n",
    "print(type(ps_student))\n",
    "\n",
    "# Pandasın Series metoduyla bir pandas serisi oluşturmayı başardık. Tek sütunlu bir pandas nesnesi oluşturduk.\n",
    "# 2 sütun olarak görebilirsiniz. Ancak 0, 1, 2 olarak görünen aslında index numarasıdır."
   ]
  },
  {
   "cell_type": "code",
   "execution_count": 6,
   "metadata": {},
   "outputs": [
    {
     "name": "stdout",
     "output_type": "stream",
     "text": [
      "{'name': 'Arin', 'age': 23, 'department': 'CE'}\n",
      "<class 'dict'>\n"
     ]
    }
   ],
   "source": [
    "student = {\n",
    "    \"name\": \"Arin\",\n",
    "    \"age\": 23,\n",
    "    \"department\": \"CE\"\n",
    "}\n",
    "\n",
    "print(student)\n",
    "print(type(student))\n",
    "\n",
    "# Bu sefer liste yerine bir dictionary tanımladık. Bakalım dictionary nasıl pandas seriese çevriliyor."
   ]
  },
  {
   "cell_type": "code",
   "execution_count": 7,
   "metadata": {},
   "outputs": [
    {
     "name": "stdout",
     "output_type": "stream",
     "text": [
      "name          Arin\n",
      "age             23\n",
      "department      CE\n",
      "dtype: object\n",
      "<class 'pandas.core.series.Series'>\n"
     ]
    }
   ],
   "source": [
    "ps_student = pd.Series(student)\n",
    "\n",
    "print(ps_student)\n",
    "print(type(ps_student))\n",
    "\n",
    "# Dictionaryi pandas seriese çevirdiğimizde daha önce gördüğümüz index numaraları yerine \n",
    "# dictionaryide belirttiğimiz key değerleri yazıldı."
   ]
  },
  {
   "cell_type": "code",
   "execution_count": 8,
   "metadata": {},
   "outputs": [
    {
     "name": "stdout",
     "output_type": "stream",
     "text": [
      "0    Arin\n",
      "1      23\n",
      "2      CE\n",
      "dtype: object\n",
      "<class 'pandas.core.series.Series'>\n"
     ]
    }
   ],
   "source": [
    "student = pd.Series([\"Arin\", 23, \"CE\"])\n",
    "\n",
    "print(student)\n",
    "print(type(student))\n",
    "\n",
    "# Bu şekilde de listeyi tanımlarken onun bir pandas series olduğunu belirtebiliriz."
   ]
  },
  {
   "cell_type": "code",
   "execution_count": 9,
   "metadata": {},
   "outputs": [
    {
     "name": "stdout",
     "output_type": "stream",
     "text": [
      "0    24\n",
      "1    37\n",
      "2    43\n",
      "dtype: int64\n",
      "<class 'pandas.core.series.Series'>\n"
     ]
    }
   ],
   "source": [
    "numbers = pd.Series([24, 37, 43])\n",
    "\n",
    "print(numbers)\n",
    "print(type(numbers))\n",
    "\n",
    "# Çıktıda aldığımız dtype'ın değiştiğini görebiliyoruz.\n",
    "# Series'in içindeki bütün değerler tam sayı olduğu için int64 olarak dtype yazdırıldı."
   ]
  },
  {
   "cell_type": "code",
   "execution_count": 10,
   "metadata": {},
   "outputs": [
    {
     "name": "stdout",
     "output_type": "stream",
     "text": [
      "0     True\n",
      "1    False\n",
      "2     True\n",
      "dtype: bool\n",
      "<class 'pandas.core.series.Series'>\n"
     ]
    }
   ],
   "source": [
    "booleans = pd.Series([True, False, True])\n",
    "\n",
    "print(booleans)\n",
    "print(type(booleans))\n",
    "\n",
    "# Boolean değerlerden oluşturduğumuzda bunun dtype'ı da bool olarak yazdırılıyor."
   ]
  },
  {
   "cell_type": "code",
   "execution_count": 11,
   "metadata": {},
   "outputs": [
    {
     "name": "stdout",
     "output_type": "stream",
     "text": [
      "name          Arin\n",
      "age             23\n",
      "department      CE\n",
      "dtype: object\n",
      "<class 'pandas.core.series.Series'>\n"
     ]
    }
   ],
   "source": [
    "student = pd.Series(data= [\"Arin\", 23, \"CE\"], index= [\"name\", \"age\", \"department\"])\n",
    "\n",
    "print(student)\n",
    "print(type(student))\n",
    "\n",
    "# Dictionary'de yaptığımız gibi bu şekilde de indexlerimizi değiştirebiliyoruz."
   ]
  },
  {
   "cell_type": "code",
   "execution_count": 13,
   "metadata": {},
   "outputs": [
    {
     "name": "stdout",
     "output_type": "stream",
     "text": [
      "['Arin' 23 'CE']\n"
     ]
    }
   ],
   "source": [
    "print(student.values)\n",
    "\n",
    "# values'i ayrı olarak yazdırabiliyoruz."
   ]
  },
  {
   "cell_type": "code",
   "execution_count": 14,
   "metadata": {},
   "outputs": [
    {
     "name": "stdout",
     "output_type": "stream",
     "text": [
      "Index(['name', 'age', 'department'], dtype='object')\n"
     ]
    }
   ],
   "source": [
    "print(student.index)\n",
    "\n",
    "# index'i ayrı olarak yazdırabiliyoruz."
   ]
  },
  {
   "cell_type": "code",
   "execution_count": 15,
   "metadata": {},
   "outputs": [
    {
     "name": "stdout",
     "output_type": "stream",
     "text": [
      "(3,)\n"
     ]
    }
   ],
   "source": [
    "print(student.shape)\n",
    "\n",
    "# Series'ler aynı zamanda tek boyutlu matrislerdir.\n",
    "# Shape komutuyla da bu kaç satır ve sütundan oluştuğunu öğrenebiliyoruz.\n",
    "# Ancak tek boyutlu olduğu için tek sütundan oluşuyor ve sütun kısmında bir çıktı alamıyoruz.\n",
    "# Bu sayede kaç satırlık bir Series olduğunu öğrenebiliriz."
   ]
  },
  {
   "cell_type": "code",
   "execution_count": 16,
   "metadata": {},
   "outputs": [
    {
     "name": "stdout",
     "output_type": "stream",
     "text": [
      "1\n"
     ]
    }
   ],
   "source": [
    "print(student.ndim)\n",
    "\n",
    "# Series'lerin tek boyutlu olduğundan bahsetmiştik. ndim komutu da bize bunu geri döndürüyor."
   ]
  },
  {
   "cell_type": "code",
   "execution_count": 17,
   "metadata": {},
   "outputs": [
    {
     "name": "stdout",
     "output_type": "stream",
     "text": [
      "3\n"
     ]
    }
   ],
   "source": [
    "print(student.size)\n",
    "\n",
    "# Series'in size'ını da öğrenebiliriz. 3 satırlı veya elemanlı olduğunu zaten biliyoruz."
   ]
  },
  {
   "cell_type": "code",
   "execution_count": 18,
   "metadata": {},
   "outputs": [
    {
     "name": "stdout",
     "output_type": "stream",
     "text": [
      "None\n"
     ]
    }
   ],
   "source": [
    "print(student.name)\n",
    "\n",
    "# None değeri alarak Series'imize bir isim vermediğimizi görebiliyoruz."
   ]
  },
  {
   "cell_type": "code",
   "execution_count": 19,
   "metadata": {},
   "outputs": [
    {
     "name": "stdout",
     "output_type": "stream",
     "text": [
      "object\n"
     ]
    }
   ],
   "source": [
    "print(student.dtype)\n",
    "\n",
    "# Series'imiz str ifadeler içerdiği için bize object olarak geri döndürüldü."
   ]
  },
  {
   "cell_type": "code",
   "execution_count": 20,
   "metadata": {},
   "outputs": [
    {
     "name": "stdout",
     "output_type": "stream",
     "text": [
      "Maradona\n"
     ]
    }
   ],
   "source": [
    "student.name = \"Maradona\"\n",
    "\n",
    "print(student.name)\n",
    "\n",
    "# Series'imize isim atadık ve ismini sorduğumuzda bizim atadığımız isim yazdırıldı."
   ]
  },
  {
   "cell_type": "code",
   "execution_count": 21,
   "metadata": {},
   "outputs": [
    {
     "name": "stdout",
     "output_type": "stream",
     "text": [
      "True\n"
     ]
    }
   ],
   "source": [
    "X = \"name\" in student\n",
    "\n",
    "print(X)\n",
    "\n",
    "# student'ın içinde \"name\" var mı diye sorduk. Bulunduğu için bize True değerini yazdırdı."
   ]
  },
  {
   "cell_type": "code",
   "execution_count": 22,
   "metadata": {},
   "outputs": [
    {
     "name": "stdout",
     "output_type": "stream",
     "text": [
      "False\n"
     ]
    }
   ],
   "source": [
    "Y = \"job\" in student\n",
    "\n",
    "print(Y)\n",
    "\n",
    "# student'ın içinde \"job\" var mı diye sorduk. Bulunmadığı için bize False değerini yazdırdı."
   ]
  },
  {
   "cell_type": "code",
   "execution_count": 23,
   "metadata": {},
   "outputs": [
    {
     "name": "stdout",
     "output_type": "stream",
     "text": [
      "False\n"
     ]
    }
   ],
   "source": [
    "x = \"Ahmet\" in student.values\n",
    "\n",
    "print(x)\n",
    "\n",
    "# Series'in value değerlerinde bir arama yapacağımız zaman bunu belirtmemiz gerekiyor.\n",
    "# Aksi takdirde sadece index değerlerini kontrol eder.\n",
    "# \"Ahmet\" değeri olmadığı için False çıktısı aldık."
   ]
  },
  {
   "cell_type": "code",
   "execution_count": 24,
   "metadata": {},
   "outputs": [
    {
     "name": "stdout",
     "output_type": "stream",
     "text": [
      "True\n"
     ]
    }
   ],
   "source": [
    "y = \"Arin\" in student.values\n",
    "\n",
    "print(y)\n",
    "\n",
    "# \"Arin\" değeri olduğu için True çıktısı aldık."
   ]
  },
  {
   "cell_type": "code",
   "execution_count": 25,
   "metadata": {},
   "outputs": [
    {
     "name": "stdout",
     "output_type": "stream",
     "text": [
      "False\n"
     ]
    }
   ],
   "source": [
    "y = \"Arin\" in student\n",
    "\n",
    "print(y)\n",
    "\n",
    "# Eğer dediğim gibi value'de arama yapacağımızda bunu belirtmezsek sadece index'e bakar.\n",
    "# İndex değerlerinde \"Arin\" olmadığı için False çıktısı yazdırıldı."
   ]
  },
  {
   "cell_type": "code",
   "execution_count": 26,
   "metadata": {},
   "outputs": [
    {
     "name": "stdout",
     "output_type": "stream",
     "text": [
      "0    4.0\n",
      "1    2.5\n",
      "2    2.0\n",
      "dtype: float64\n"
     ]
    }
   ],
   "source": [
    "numbers = pd.Series([4, 2.5, 2])\n",
    "\n",
    "print(numbers)\n",
    "\n",
    "# Series'imizin içinde float bulunduğu için dtype'ının ne çıktısı verdiğini görebiliyorsunuz."
   ]
  },
  {
   "cell_type": "code",
   "execution_count": 27,
   "metadata": {},
   "outputs": [
    {
     "name": "stdout",
     "output_type": "stream",
     "text": [
      "8.5\n"
     ]
    }
   ],
   "source": [
    "print(numbers.sum())\n",
    "\n",
    "# sum metoduyla hepsinin toplamını alabiliriz."
   ]
  },
  {
   "cell_type": "code",
   "execution_count": 28,
   "metadata": {},
   "outputs": [
    {
     "name": "stdout",
     "output_type": "stream",
     "text": [
      "2.8333333333333335\n"
     ]
    }
   ],
   "source": [
    "print(numbers.mean())\n",
    "\n",
    "# mean metoduyla hepsinin ortalamasını alabiliriz."
   ]
  },
  {
   "cell_type": "code",
   "execution_count": 29,
   "metadata": {},
   "outputs": [
    {
     "name": "stdout",
     "output_type": "stream",
     "text": [
      "20.0\n"
     ]
    }
   ],
   "source": [
    "print(numbers.product())\n",
    "\n",
    "# product metoduyla hepsinin çarpımını alabiliriz."
   ]
  },
  {
   "cell_type": "code",
   "execution_count": null,
   "metadata": {},
   "outputs": [],
   "source": []
  }
 ],
 "metadata": {
  "kernelspec": {
   "display_name": "Python 3.11.0 64-bit",
   "language": "python",
   "name": "python3"
  },
  "language_info": {
   "codemirror_mode": {
    "name": "ipython",
    "version": 3
   },
   "file_extension": ".py",
   "mimetype": "text/x-python",
   "name": "python",
   "nbconvert_exporter": "python",
   "pygments_lexer": "ipython3",
   "version": "3.11.0"
  },
  "orig_nbformat": 4,
  "vscode": {
   "interpreter": {
    "hash": "7c542dbbc07e6010b76b61de8a453dc04d29cd1fae7fbaa29851ecbad9aefb83"
   }
  }
 },
 "nbformat": 4,
 "nbformat_minor": 2
}
