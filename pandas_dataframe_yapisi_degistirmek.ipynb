{
 "cells": [
  {
   "cell_type": "code",
   "execution_count": 1,
   "metadata": {},
   "outputs": [],
   "source": [
    "import pandas as pd"
   ]
  },
  {
   "cell_type": "code",
   "execution_count": 4,
   "metadata": {},
   "outputs": [
    {
     "name": "stdout",
     "output_type": "stream",
     "text": [
      "           Hale Ahmet Fatma\n",
      "age          25    32    40\n",
      "gender        F     M     M\n",
      "department   CE    EE    TT\n",
      "weight       61    83    55\n"
     ]
    }
   ],
   "source": [
    "students = {\"Hale\" : pd.Series(data= [25, \"F\", \"CE\", 61], index= [\"age\", \"gender\", \"department\", \"weight\"]),\n",
    "    \"Ahmet\" : pd.Series(data= [32, \"M\", \"EE\", 83], index= [\"age\", \"gender\", \"department\", \"weight\"]),\n",
    "    \"Fatma\" : pd.Series(data= [40, \"M\", \"TT\", 55], index= [\"age\", \"gender\", \"department\", \"weight\"])\n",
    "}\n",
    "\n",
    "df_students = pd.DataFrame(students)\n",
    "\n",
    "print(df_students)\n",
    "\n",
    "# Dictionaryden bir dataframe oluşturduk."
   ]
  },
  {
   "cell_type": "code",
   "execution_count": 6,
   "metadata": {},
   "outputs": [
    {
     "name": "stdout",
     "output_type": "stream",
     "text": [
      "           Hale\n",
      "age          25\n",
      "gender        F\n",
      "department   CE\n",
      "weight       61\n"
     ]
    }
   ],
   "source": [
    "df_students_2 = pd.DataFrame(students, columns= [\"Hale\"])\n",
    "\n",
    "print(df_students_2)\n",
    "\n",
    "# columns parametresiyle istediğimiz sütuna ulabiliyoruz."
   ]
  },
  {
   "cell_type": "code",
   "execution_count": 7,
   "metadata": {},
   "outputs": [
    {
     "name": "stdout",
     "output_type": "stream",
     "text": [
      "           Hale Ahmet\n",
      "age          25    32\n",
      "gender        F     M\n",
      "department   CE    EE\n",
      "weight       61    83\n"
     ]
    }
   ],
   "source": [
    "df_students_2 = pd.DataFrame(students, columns= [\"Hale\", \"Ahmet\"])\n",
    "\n",
    "print(df_students_2)\n",
    "\n",
    "# Birden fazla sütuna ulaşmaya çalışırsak sadece virgülle ayırıp yazmamız yeterli oluyor."
   ]
  },
  {
   "cell_type": "code",
   "execution_count": 8,
   "metadata": {},
   "outputs": [
    {
     "name": "stdout",
     "output_type": "stream",
     "text": [
      "       Hale Ahmet Fatma\n",
      "age      25    32    40\n",
      "gender    F     M     M\n"
     ]
    }
   ],
   "source": [
    "df_students_3 = pd.DataFrame(students, index= [\"age\", \"gender\"])\n",
    "\n",
    "print(df_students_3)\n",
    "\n",
    "# Satırlara ulaşmak içinde columns parametresi yerine index parametresini kullanıyoruz."
   ]
  },
  {
   "cell_type": "code",
   "execution_count": 9,
   "metadata": {},
   "outputs": [
    {
     "name": "stdout",
     "output_type": "stream",
     "text": [
      "           Hale Ahmet\n",
      "department   CE    EE\n",
      "weight       61    83\n"
     ]
    }
   ],
   "source": [
    "df_students_4 = pd.DataFrame(students, columns= [\"Hale\", \"Ahmet\"], index= [\"department\", \"weight\"])\n",
    "\n",
    "print(df_students_4)\n",
    "\n",
    "# columns ve index parametrelerini beraber kullanarakta spesifik olarak datalara ulaşabiliriz."
   ]
  },
  {
   "cell_type": "code",
   "execution_count": 10,
   "metadata": {},
   "outputs": [
    {
     "name": "stdout",
     "output_type": "stream",
     "text": [
      "           Hale Ahmet Fatma\n",
      "age          25    32    40\n",
      "gender        F     M     M\n",
      "department   CE    EE    TT\n",
      "weight       61    83    55\n"
     ]
    }
   ],
   "source": [
    "students = {\"Hale\" : pd.Series(data= [25, \"F\", \"CE\", 61], index= [\"age\", \"gender\", \"department\", \"weight\"]),\n",
    "    \"Ahmet\" : pd.Series(data= [32, \"M\", \"EE\", 83], index= [\"age\", \"gender\", \"department\", \"weight\"]),\n",
    "    \"Fatma\" : pd.Series(data= [40, \"M\", \"TT\", 55], index= [\"age\", \"gender\", \"department\", \"weight\"])\n",
    "}\n",
    "\n",
    "df_students = pd.DataFrame(students)\n",
    "\n",
    "print(df_students)\n",
    "\n",
    "# Dictionaryden bir dataframe oluşturduk."
   ]
  },
  {
   "cell_type": "code",
   "execution_count": 12,
   "metadata": {},
   "outputs": [
    {
     "name": "stdout",
     "output_type": "stream",
     "text": [
      "age           32\n",
      "gender         M\n",
      "department    EE\n",
      "weight        83\n",
      "Name: Ahmet, dtype: object\n",
      "<class 'pandas.core.series.Series'>\n"
     ]
    }
   ],
   "source": [
    "print(df_students[\"Ahmet\"])\n",
    "print(type(df_students[\"Ahmet\"]))\n",
    "\n",
    "# Tanımlanmış bir dataframeden de bu şekilde sütunları gösterebiliriz.\n",
    "# Ve bu artık bir dataframe değil Series'tir. Çünkü tek sütunlu ve tek boyutludur."
   ]
  },
  {
   "cell_type": "code",
   "execution_count": 13,
   "metadata": {},
   "outputs": [
    {
     "name": "stdout",
     "output_type": "stream",
     "text": [
      "           Ahmet\n",
      "age           32\n",
      "gender         M\n",
      "department    EE\n",
      "weight        83\n",
      "<class 'pandas.core.frame.DataFrame'>\n"
     ]
    }
   ],
   "source": [
    "print(df_students[[\"Ahmet\"]])\n",
    "print(type(df_students[[\"Ahmet\"]]))\n",
    "\n",
    "# Ancak \"Ahmet\" parametremizi tekrar bir liste içine alırsak yani onun 2 boyutlu olduğunu gösterirsek\n",
    "# Aldığımız çıktımız bize dataframe olarak geri döner."
   ]
  },
  {
   "cell_type": "code",
   "execution_count": 14,
   "metadata": {},
   "outputs": [
    {
     "ename": "KeyError",
     "evalue": "('Ahmet', 'Hale')",
     "output_type": "error",
     "traceback": [
      "\u001b[1;31m---------------------------------------------------------------------------\u001b[0m",
      "\u001b[1;31mKeyError\u001b[0m                                  Traceback (most recent call last)",
      "File \u001b[1;32mc:\\Users\\Fallrytme\\AppData\\Local\\Programs\\Python\\Python311\\Lib\\site-packages\\pandas\\core\\indexes\\base.py:3802\u001b[0m, in \u001b[0;36mIndex.get_loc\u001b[1;34m(self, key, method, tolerance)\u001b[0m\n\u001b[0;32m   3801\u001b[0m \u001b[39mtry\u001b[39;00m:\n\u001b[1;32m-> 3802\u001b[0m     \u001b[39mreturn\u001b[39;00m \u001b[39mself\u001b[39;49m\u001b[39m.\u001b[39;49m_engine\u001b[39m.\u001b[39;49mget_loc(casted_key)\n\u001b[0;32m   3803\u001b[0m \u001b[39mexcept\u001b[39;00m \u001b[39mKeyError\u001b[39;00m \u001b[39mas\u001b[39;00m err:\n",
      "File \u001b[1;32mc:\\Users\\Fallrytme\\AppData\\Local\\Programs\\Python\\Python311\\Lib\\site-packages\\pandas\\_libs\\index.pyx:138\u001b[0m, in \u001b[0;36mpandas._libs.index.IndexEngine.get_loc\u001b[1;34m()\u001b[0m\n",
      "File \u001b[1;32mc:\\Users\\Fallrytme\\AppData\\Local\\Programs\\Python\\Python311\\Lib\\site-packages\\pandas\\_libs\\index.pyx:165\u001b[0m, in \u001b[0;36mpandas._libs.index.IndexEngine.get_loc\u001b[1;34m()\u001b[0m\n",
      "File \u001b[1;32mpandas\\_libs\\hashtable_class_helper.pxi:5745\u001b[0m, in \u001b[0;36mpandas._libs.hashtable.PyObjectHashTable.get_item\u001b[1;34m()\u001b[0m\n",
      "File \u001b[1;32mpandas\\_libs\\hashtable_class_helper.pxi:5753\u001b[0m, in \u001b[0;36mpandas._libs.hashtable.PyObjectHashTable.get_item\u001b[1;34m()\u001b[0m\n",
      "\u001b[1;31mKeyError\u001b[0m: ('Ahmet', 'Hale')",
      "\nThe above exception was the direct cause of the following exception:\n",
      "\u001b[1;31mKeyError\u001b[0m                                  Traceback (most recent call last)",
      "Cell \u001b[1;32mIn [14], line 1\u001b[0m\n\u001b[1;32m----> 1\u001b[0m \u001b[39mprint\u001b[39m(df_students[\u001b[39m\"\u001b[39;49m\u001b[39mAhmet\u001b[39;49m\u001b[39m\"\u001b[39;49m, \u001b[39m\"\u001b[39;49m\u001b[39mHale\u001b[39;49m\u001b[39m\"\u001b[39;49m])\n\u001b[0;32m      3\u001b[0m \u001b[39m# Tek boyutlu Series'e iki sütun girmeye çalışırsak bu şekilde hata alırız.\u001b[39;00m\n",
      "File \u001b[1;32mc:\\Users\\Fallrytme\\AppData\\Local\\Programs\\Python\\Python311\\Lib\\site-packages\\pandas\\core\\frame.py:3807\u001b[0m, in \u001b[0;36mDataFrame.__getitem__\u001b[1;34m(self, key)\u001b[0m\n\u001b[0;32m   3805\u001b[0m \u001b[39mif\u001b[39;00m \u001b[39mself\u001b[39m\u001b[39m.\u001b[39mcolumns\u001b[39m.\u001b[39mnlevels \u001b[39m>\u001b[39m \u001b[39m1\u001b[39m:\n\u001b[0;32m   3806\u001b[0m     \u001b[39mreturn\u001b[39;00m \u001b[39mself\u001b[39m\u001b[39m.\u001b[39m_getitem_multilevel(key)\n\u001b[1;32m-> 3807\u001b[0m indexer \u001b[39m=\u001b[39m \u001b[39mself\u001b[39;49m\u001b[39m.\u001b[39;49mcolumns\u001b[39m.\u001b[39;49mget_loc(key)\n\u001b[0;32m   3808\u001b[0m \u001b[39mif\u001b[39;00m is_integer(indexer):\n\u001b[0;32m   3809\u001b[0m     indexer \u001b[39m=\u001b[39m [indexer]\n",
      "File \u001b[1;32mc:\\Users\\Fallrytme\\AppData\\Local\\Programs\\Python\\Python311\\Lib\\site-packages\\pandas\\core\\indexes\\base.py:3804\u001b[0m, in \u001b[0;36mIndex.get_loc\u001b[1;34m(self, key, method, tolerance)\u001b[0m\n\u001b[0;32m   3802\u001b[0m     \u001b[39mreturn\u001b[39;00m \u001b[39mself\u001b[39m\u001b[39m.\u001b[39m_engine\u001b[39m.\u001b[39mget_loc(casted_key)\n\u001b[0;32m   3803\u001b[0m \u001b[39mexcept\u001b[39;00m \u001b[39mKeyError\u001b[39;00m \u001b[39mas\u001b[39;00m err:\n\u001b[1;32m-> 3804\u001b[0m     \u001b[39mraise\u001b[39;00m \u001b[39mKeyError\u001b[39;00m(key) \u001b[39mfrom\u001b[39;00m \u001b[39merr\u001b[39;00m\n\u001b[0;32m   3805\u001b[0m \u001b[39mexcept\u001b[39;00m \u001b[39mTypeError\u001b[39;00m:\n\u001b[0;32m   3806\u001b[0m     \u001b[39m# If we have a listlike key, _check_indexing_error will raise\u001b[39;00m\n\u001b[0;32m   3807\u001b[0m     \u001b[39m#  InvalidIndexError. Otherwise we fall through and re-raise\u001b[39;00m\n\u001b[0;32m   3808\u001b[0m     \u001b[39m#  the TypeError.\u001b[39;00m\n\u001b[0;32m   3809\u001b[0m     \u001b[39mself\u001b[39m\u001b[39m.\u001b[39m_check_indexing_error(key)\n",
      "\u001b[1;31mKeyError\u001b[0m: ('Ahmet', 'Hale')"
     ]
    }
   ],
   "source": [
    "print(df_students[\"Ahmet\", \"Hale\"])\n",
    "\n",
    "# Tek boyutlu Series'e iki sütun girmeye çalışırsak bu şekilde hata alırız."
   ]
  },
  {
   "cell_type": "code",
   "execution_count": 17,
   "metadata": {},
   "outputs": [
    {
     "name": "stdout",
     "output_type": "stream",
     "text": [
      "           Ahmet Hale\n",
      "age           32   25\n",
      "gender         M    F\n",
      "department    EE   CE\n",
      "weight        83   61\n"
     ]
    }
   ],
   "source": [
    "print(df_students[[\"Ahmet\", \"Hale\"]])\n",
    "\n",
    "# İkinci bir boyut ekleyerek Seriesten kurtarıp onu dataframe yaparak 2. bir sütunu da aynı anda yazdırabiliriz."
   ]
  },
  {
   "cell_type": "code",
   "execution_count": 18,
   "metadata": {},
   "outputs": [
    {
     "name": "stdout",
     "output_type": "stream",
     "text": [
      "           Hale Ahmet Fatma\n",
      "age          25    32    40\n",
      "gender        F     M     M\n",
      "department   CE    EE    TT\n",
      "weight       61    83    55\n"
     ]
    }
   ],
   "source": [
    "students = {\"Hale\" : pd.Series(data= [25, \"F\", \"CE\", 61], index= [\"age\", \"gender\", \"department\", \"weight\"]),\n",
    "    \"Ahmet\" : pd.Series(data= [32, \"M\", \"EE\", 83], index= [\"age\", \"gender\", \"department\", \"weight\"]),\n",
    "    \"Fatma\" : pd.Series(data= [40, \"M\", \"TT\", 55], index= [\"age\", \"gender\", \"department\", \"weight\"])\n",
    "}\n",
    "\n",
    "df_students = pd.DataFrame(students)\n",
    "\n",
    "print(df_students)\n",
    "\n",
    "# Orjinal dataframemimizi gözden kaybetmemek için tekrardan buraya aldım."
   ]
  },
  {
   "cell_type": "code",
   "execution_count": 22,
   "metadata": {},
   "outputs": [
    {
     "name": "stdout",
     "output_type": "stream",
     "text": [
      "Hale     25\n",
      "Ahmet    32\n",
      "Fatma    40\n",
      "Name: age, dtype: object\n",
      "<class 'pandas.core.series.Series'>\n"
     ]
    }
   ],
   "source": [
    "# loc , iloc\n",
    "\n",
    "print(df_students.loc[\"age\"])\n",
    "print(type(df_students.loc[\"age\"]))\n",
    "\n",
    "# loc ile age bilgilerine ulaştık. \n",
    "# Ancak bunu bize bir Series yapısı olarak verir."
   ]
  },
  {
   "cell_type": "code",
   "execution_count": 24,
   "metadata": {},
   "outputs": [
    {
     "name": "stdout",
     "output_type": "stream",
     "text": [
      "       Hale Ahmet Fatma\n",
      "age      25    32    40\n",
      "gender    F     M     M\n",
      "<class 'pandas.core.frame.DataFrame'>\n"
     ]
    }
   ],
   "source": [
    "print(df_students.loc[[\"age\", \"gender\"]])\n",
    "print(type(df_students.loc[[\"age\", \"gender\"]]))\n",
    "\n",
    "# loc metoduna iki parametre girdiğimiz için onları 2 liste içine aldık ki hata almayalım.\n",
    "# Tabi ki artık iki boyutlu olduğu için type'ı da dataframe oldu."
   ]
  },
  {
   "cell_type": "code",
   "execution_count": 27,
   "metadata": {},
   "outputs": [
    {
     "name": "stdout",
     "output_type": "stream",
     "text": [
      "25\n"
     ]
    }
   ],
   "source": [
    "# DF[col][row]\n",
    "\n",
    "print(df_students[\"Hale\"][\"age\"])\n",
    "\n",
    "# Önce sütun sonra satırı liste içinde belirterek istediğimiz spesifik veriye ulaşabiliriz."
   ]
  },
  {
   "cell_type": "code",
   "execution_count": 26,
   "metadata": {},
   "outputs": [
    {
     "name": "stdout",
     "output_type": "stream",
     "text": [
      "TT\n"
     ]
    }
   ],
   "source": [
    "print(df_students[\"Fatma\"][\"department\"])\n",
    "\n",
    "# Bu da bir başka örnek."
   ]
  },
  {
   "cell_type": "code",
   "execution_count": 28,
   "metadata": {},
   "outputs": [
    {
     "name": "stdout",
     "output_type": "stream",
     "text": [
      "25\n"
     ]
    }
   ],
   "source": [
    "print(df_students[\"Hale\"][0])\n",
    "\n",
    "# Bu şekilde index numarasını da satır ismi yerine kullanabiliriz."
   ]
  },
  {
   "cell_type": "code",
   "execution_count": 29,
   "metadata": {},
   "outputs": [
    {
     "ename": "KeyError",
     "evalue": "0",
     "output_type": "error",
     "traceback": [
      "\u001b[1;31m---------------------------------------------------------------------------\u001b[0m",
      "\u001b[1;31mKeyError\u001b[0m                                  Traceback (most recent call last)",
      "File \u001b[1;32mc:\\Users\\Fallrytme\\AppData\\Local\\Programs\\Python\\Python311\\Lib\\site-packages\\pandas\\core\\indexes\\base.py:3802\u001b[0m, in \u001b[0;36mIndex.get_loc\u001b[1;34m(self, key, method, tolerance)\u001b[0m\n\u001b[0;32m   3801\u001b[0m \u001b[39mtry\u001b[39;00m:\n\u001b[1;32m-> 3802\u001b[0m     \u001b[39mreturn\u001b[39;00m \u001b[39mself\u001b[39;49m\u001b[39m.\u001b[39;49m_engine\u001b[39m.\u001b[39;49mget_loc(casted_key)\n\u001b[0;32m   3803\u001b[0m \u001b[39mexcept\u001b[39;00m \u001b[39mKeyError\u001b[39;00m \u001b[39mas\u001b[39;00m err:\n",
      "File \u001b[1;32mc:\\Users\\Fallrytme\\AppData\\Local\\Programs\\Python\\Python311\\Lib\\site-packages\\pandas\\_libs\\index.pyx:138\u001b[0m, in \u001b[0;36mpandas._libs.index.IndexEngine.get_loc\u001b[1;34m()\u001b[0m\n",
      "File \u001b[1;32mc:\\Users\\Fallrytme\\AppData\\Local\\Programs\\Python\\Python311\\Lib\\site-packages\\pandas\\_libs\\index.pyx:165\u001b[0m, in \u001b[0;36mpandas._libs.index.IndexEngine.get_loc\u001b[1;34m()\u001b[0m\n",
      "File \u001b[1;32mpandas\\_libs\\hashtable_class_helper.pxi:5745\u001b[0m, in \u001b[0;36mpandas._libs.hashtable.PyObjectHashTable.get_item\u001b[1;34m()\u001b[0m\n",
      "File \u001b[1;32mpandas\\_libs\\hashtable_class_helper.pxi:5753\u001b[0m, in \u001b[0;36mpandas._libs.hashtable.PyObjectHashTable.get_item\u001b[1;34m()\u001b[0m\n",
      "\u001b[1;31mKeyError\u001b[0m: 0",
      "\nThe above exception was the direct cause of the following exception:\n",
      "\u001b[1;31mKeyError\u001b[0m                                  Traceback (most recent call last)",
      "Cell \u001b[1;32mIn [29], line 1\u001b[0m\n\u001b[1;32m----> 1\u001b[0m \u001b[39mprint\u001b[39m(df_students[\u001b[39m0\u001b[39;49m][\u001b[39m0\u001b[39m])\n",
      "File \u001b[1;32mc:\\Users\\Fallrytme\\AppData\\Local\\Programs\\Python\\Python311\\Lib\\site-packages\\pandas\\core\\frame.py:3807\u001b[0m, in \u001b[0;36mDataFrame.__getitem__\u001b[1;34m(self, key)\u001b[0m\n\u001b[0;32m   3805\u001b[0m \u001b[39mif\u001b[39;00m \u001b[39mself\u001b[39m\u001b[39m.\u001b[39mcolumns\u001b[39m.\u001b[39mnlevels \u001b[39m>\u001b[39m \u001b[39m1\u001b[39m:\n\u001b[0;32m   3806\u001b[0m     \u001b[39mreturn\u001b[39;00m \u001b[39mself\u001b[39m\u001b[39m.\u001b[39m_getitem_multilevel(key)\n\u001b[1;32m-> 3807\u001b[0m indexer \u001b[39m=\u001b[39m \u001b[39mself\u001b[39;49m\u001b[39m.\u001b[39;49mcolumns\u001b[39m.\u001b[39;49mget_loc(key)\n\u001b[0;32m   3808\u001b[0m \u001b[39mif\u001b[39;00m is_integer(indexer):\n\u001b[0;32m   3809\u001b[0m     indexer \u001b[39m=\u001b[39m [indexer]\n",
      "File \u001b[1;32mc:\\Users\\Fallrytme\\AppData\\Local\\Programs\\Python\\Python311\\Lib\\site-packages\\pandas\\core\\indexes\\base.py:3804\u001b[0m, in \u001b[0;36mIndex.get_loc\u001b[1;34m(self, key, method, tolerance)\u001b[0m\n\u001b[0;32m   3802\u001b[0m     \u001b[39mreturn\u001b[39;00m \u001b[39mself\u001b[39m\u001b[39m.\u001b[39m_engine\u001b[39m.\u001b[39mget_loc(casted_key)\n\u001b[0;32m   3803\u001b[0m \u001b[39mexcept\u001b[39;00m \u001b[39mKeyError\u001b[39;00m \u001b[39mas\u001b[39;00m err:\n\u001b[1;32m-> 3804\u001b[0m     \u001b[39mraise\u001b[39;00m \u001b[39mKeyError\u001b[39;00m(key) \u001b[39mfrom\u001b[39;00m \u001b[39merr\u001b[39;00m\n\u001b[0;32m   3805\u001b[0m \u001b[39mexcept\u001b[39;00m \u001b[39mTypeError\u001b[39;00m:\n\u001b[0;32m   3806\u001b[0m     \u001b[39m# If we have a listlike key, _check_indexing_error will raise\u001b[39;00m\n\u001b[0;32m   3807\u001b[0m     \u001b[39m#  InvalidIndexError. Otherwise we fall through and re-raise\u001b[39;00m\n\u001b[0;32m   3808\u001b[0m     \u001b[39m#  the TypeError.\u001b[39;00m\n\u001b[0;32m   3809\u001b[0m     \u001b[39mself\u001b[39m\u001b[39m.\u001b[39m_check_indexing_error(key)\n",
      "\u001b[1;31mKeyError\u001b[0m: 0"
     ]
    }
   ],
   "source": [
    "print(df_students[0][0])\n",
    "\n",
    "# Ancak sütunlar için bu özelliği kullanırsak hata alırız.\n",
    "# Sütunlarda sütunun ismini her halükarda yazmamız gerekiyor."
   ]
  },
  {
   "cell_type": "code",
   "execution_count": 30,
   "metadata": {},
   "outputs": [
    {
     "name": "stdout",
     "output_type": "stream",
     "text": [
      "           Hale Ahmet Fatma\n",
      "age          25    32    40\n",
      "gender        F     M     M\n",
      "department   CE    EE    TT\n",
      "weight       61    83    55\n"
     ]
    }
   ],
   "source": [
    "students = {\"Hale\" : pd.Series(data= [25, \"F\", \"CE\", 61], index= [\"age\", \"gender\", \"department\", \"weight\"]),\n",
    "    \"Ahmet\" : pd.Series(data= [32, \"M\", \"EE\", 83], index= [\"age\", \"gender\", \"department\", \"weight\"]),\n",
    "    \"Fatma\" : pd.Series(data= [40, \"M\", \"TT\", 55], index= [\"age\", \"gender\", \"department\", \"weight\"])\n",
    "}\n",
    "\n",
    "df_students = pd.DataFrame(students)\n",
    "\n",
    "print(df_students)\n",
    "\n",
    "# Orjinal dataframemimizi gözden kaybetmemek için tekrardan buraya aldım."
   ]
  },
  {
   "cell_type": "code",
   "execution_count": 31,
   "metadata": {},
   "outputs": [
    {
     "name": "stdout",
     "output_type": "stream",
     "text": [
      "           Hale Ahmet Fatma Fatih\n",
      "age          25    32    40    17\n",
      "gender        F     M     M     M\n",
      "department   CE    EE    TT   ELH\n",
      "weight       61    83    55    90\n"
     ]
    }
   ],
   "source": [
    "df_students[\"Fatih\"] = [17, \"M\", \"ELH\", 90]\n",
    "\n",
    "print(df_students)\n",
    "\n",
    "# Gördüğünüz şekilde dataframe'imize yeni datalarda ekleme yapabiliriz."
   ]
  },
  {
   "cell_type": "code",
   "execution_count": 32,
   "metadata": {},
   "outputs": [
    {
     "name": "stdout",
     "output_type": "stream",
     "text": [
      "           Hale Ahmet Fatma Fatih  Hasan\n",
      "age          25    32    40    17     57\n",
      "gender        F     M     M     M     MM\n",
      "department   CE    EE    TT   ELH  TTELH\n",
      "weight       61    83    55    90    145\n"
     ]
    }
   ],
   "source": [
    "df_students[\"Hasan\"] = df_students[\"Fatma\"] + df_students[\"Fatih\"]\n",
    "\n",
    "print(df_students)\n",
    "\n",
    "# Zaten dataframemizin içinde bulunan dataların üzerinde işlemler yapıp bunları yeni datalar oluşturmak için kullanabiliriz."
   ]
  },
  {
   "cell_type": "code",
   "execution_count": 33,
   "metadata": {},
   "outputs": [
    {
     "name": "stdout",
     "output_type": "stream",
     "text": [
      "             Hale  Ahmet  Fatma  Fatih   Hasan\n",
      "age            25     32     40     17      57\n",
      "gender          F      M      M      M      MM\n",
      "department     CE     EE     TT    ELH   TTELH\n",
      "weight         61     83     55     90     145\n",
      "surname     Kürek  Manav  Küçük  Yolcu  Kılınç\n"
     ]
    },
    {
     "name": "stderr",
     "output_type": "stream",
     "text": [
      "C:\\Users\\Fallrytme\\AppData\\Local\\Temp\\ipykernel_8624\\3253252879.py:4: FutureWarning: The frame.append method is deprecated and will be removed from pandas in a future version. Use pandas.concat instead.\n",
      "  df_students = df_students.append(new_row)\n"
     ]
    }
   ],
   "source": [
    "new_row = pd.DataFrame({\"Hale\": \"Kürek\", \"Ahmet\": \"Manav\", \"Fatma\": \"Küçük\", \"Fatih\": \"Yolcu\", \"Hasan\": \"Kılınç\"},\n",
    "     index= [\"surname\"])\n",
    "\n",
    "df_students = df_students.append(new_row)\n",
    "\n",
    "print(df_students)\n",
    "\n",
    "# Yeni bir satır işleme yapmak için birazcık uğraş istiyor.\n",
    "# Ekleme yapmadan önce yeni bir dataframe oluşturmamız gerekiyor.\n",
    "# Ardından üzerine satır eklemek istediğimiz dataframemize append metodu kullanarak sonradan oluşturduğumuz \n",
    "# dataframemizi ekliyoruz ve çıktımız istediğimiz gibi oluyor."
   ]
  },
  {
   "cell_type": "code",
   "execution_count": 34,
   "metadata": {},
   "outputs": [
    {
     "name": "stdout",
     "output_type": "stream",
     "text": [
      "           Hale Ahmet Fatma\n",
      "age          25    32    40\n",
      "gender        F     M     M\n",
      "department   CE    EE    TT\n",
      "weight       61    83    55\n"
     ]
    }
   ],
   "source": [
    "students = {\"Hale\" : pd.Series(data= [25, \"F\", \"CE\", 61], index= [\"age\", \"gender\", \"department\", \"weight\"]),\n",
    "    \"Ahmet\" : pd.Series(data= [32, \"M\", \"EE\", 83], index= [\"age\", \"gender\", \"department\", \"weight\"]),\n",
    "    \"Fatma\" : pd.Series(data= [40, \"M\", \"TT\", 55], index= [\"age\", \"gender\", \"department\", \"weight\"])\n",
    "}\n",
    "\n",
    "df_students = pd.DataFrame(students)\n",
    "\n",
    "print(df_students)\n",
    "\n",
    "# Orjinal dataframemimizi gözden kaybetmemek için tekrardan buraya aldım."
   ]
  },
  {
   "cell_type": "code",
   "execution_count": 35,
   "metadata": {},
   "outputs": [
    {
     "name": "stdout",
     "output_type": "stream",
     "text": [
      "           Hale Fatma\n",
      "age          25    40\n",
      "gender        F     M\n",
      "department   CE    TT\n",
      "weight       61    55\n"
     ]
    }
   ],
   "source": [
    "# pop -> sadece sütunları çıkarabiliriz.\n",
    "# drop -> hem sütun hem satırları çıkarabiliriz.\n",
    "\n",
    "df_students.pop(\"Ahmet\")\n",
    "\n",
    "print(df_students)\n",
    "\n",
    "# Gördüğünüz gibi sütun çıkarma işlemini çok basit bir şekilde yapabiliyoruz.\n",
    "# Ancak satır çıkarma işlemini yapamaması bu metodun zayıf yanıdır."
   ]
  },
  {
   "cell_type": "code",
   "execution_count": 37,
   "metadata": {},
   "outputs": [
    {
     "name": "stdout",
     "output_type": "stream",
     "text": [
      "           Fatma\n",
      "age           40\n",
      "gender         M\n",
      "department    TT\n",
      "weight        55\n"
     ]
    }
   ],
   "source": [
    "df_students = df_students.drop(\"Hale\", axis= 1)\n",
    "\n",
    "print(df_students)\n",
    "\n",
    "# pop metodundan farklı olarak drop metodu ana ögemizde değişiklik yapmıyor.\n",
    "# Bu yüzden drop kullanırken onu bir değişkene atamamız gerekiyor aksi takdirde kalıcı değişiklik yapmış olmuyoruz.\n",
    "# axis= 1 kullanarak sütunda silme işlemi yapacağımızı belirttik. Yoksa hata alırız."
   ]
  },
  {
   "cell_type": "code",
   "execution_count": 38,
   "metadata": {},
   "outputs": [
    {
     "name": "stdout",
     "output_type": "stream",
     "text": [
      "       Fatma\n",
      "age       40\n",
      "gender     M\n",
      "weight    55\n"
     ]
    }
   ],
   "source": [
    "df_students = df_students.drop(\"department\", axis= 0)\n",
    "\n",
    "print(df_students)\n",
    "\n",
    "# Sütunumuzu zaten silmiştik bu seferde axis parametresine 0 değerini atayarak\n",
    "# Satırda silme işlemi yapacağımızı belirttik ve department adlı satırımızı sildik."
   ]
  },
  {
   "cell_type": "code",
   "execution_count": 44,
   "metadata": {},
   "outputs": [
    {
     "name": "stdout",
     "output_type": "stream",
     "text": [
      "           Hale Ahmet Fatma\n",
      "age          25    32    40\n",
      "gender        F     M     M\n",
      "department   CE    EE    TT\n",
      "weight       61    83    55\n"
     ]
    }
   ],
   "source": [
    "students = {\"Hale\" : pd.Series(data= [25, \"F\", \"CE\", 61], index= [\"age\", \"gender\", \"department\", \"weight\"]),\n",
    "    \"Ahmet\" : pd.Series(data= [32, \"M\", \"EE\", 83], index= [\"age\", \"gender\", \"department\", \"weight\"]),\n",
    "    \"Fatma\" : pd.Series(data= [40, \"M\", \"TT\", 55], index= [\"age\", \"gender\", \"department\", \"weight\"])\n",
    "}\n",
    "\n",
    "df_students = pd.DataFrame(students)\n",
    "\n",
    "print(df_students)\n",
    "\n",
    "# Orjinal dataframemimizi gözden kaybetmemek için tekrardan buraya aldım."
   ]
  },
  {
   "cell_type": "code",
   "execution_count": 45,
   "metadata": {},
   "outputs": [
    {
     "name": "stdout",
     "output_type": "stream",
     "text": [
      "           Ahmet\n",
      "age           32\n",
      "gender         M\n",
      "department    EE\n",
      "weight        83\n"
     ]
    }
   ],
   "source": [
    "df_students = df_students.drop([\"Hale\", \"Fatma\"], axis= 1)\n",
    "\n",
    "print(df_students)\n",
    "\n",
    "# Birden fazla silme işlemini de aynı zamanda yapabiliriz.\n",
    "# Bunun için sadece sileceğimiz sütun adlarını liste parantezine almamız gerekiyor."
   ]
  },
  {
   "cell_type": "code",
   "execution_count": 46,
   "metadata": {},
   "outputs": [
    {
     "name": "stdout",
     "output_type": "stream",
     "text": [
      "       Ahmet\n",
      "age       32\n",
      "gender     M\n"
     ]
    }
   ],
   "source": [
    "df_students = df_students.drop([\"department\", \"weight\"], axis= 0)\n",
    "\n",
    "print(df_students)\n",
    "\n",
    "# Sütunda yaptığımız gibi bu işlemi satırda da aynı şekilde kullanabiliyoruz."
   ]
  },
  {
   "cell_type": "code",
   "execution_count": null,
   "metadata": {},
   "outputs": [],
   "source": []
  }
 ],
 "metadata": {
  "kernelspec": {
   "display_name": "Python 3.11.0 64-bit",
   "language": "python",
   "name": "python3"
  },
  "language_info": {
   "codemirror_mode": {
    "name": "ipython",
    "version": 3
   },
   "file_extension": ".py",
   "mimetype": "text/x-python",
   "name": "python",
   "nbconvert_exporter": "python",
   "pygments_lexer": "ipython3",
   "version": "3.11.0"
  },
  "orig_nbformat": 4,
  "vscode": {
   "interpreter": {
    "hash": "7c542dbbc07e6010b76b61de8a453dc04d29cd1fae7fbaa29851ecbad9aefb83"
   }
  }
 },
 "nbformat": 4,
 "nbformat_minor": 2
}
