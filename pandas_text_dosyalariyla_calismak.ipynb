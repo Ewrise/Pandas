{
 "cells": [
  {
   "cell_type": "code",
   "execution_count": 1,
   "metadata": {},
   "outputs": [],
   "source": [
    "import pandas as pd"
   ]
  },
  {
   "cell_type": "code",
   "execution_count": 2,
   "metadata": {},
   "outputs": [
    {
     "name": "stdout",
     "output_type": "stream",
     "text": [
      "     Review ID Review Date                                     Review Content  \\\n",
      "0      4055629  2012-10-06  Very nice accommodation in an aesthetically pl...   \n",
      "1     25329416  2013-11-03  Me and my friends had such a nice time at Dott...   \n",
      "2     21705849  2014-11-27  I stayed for 4night.She gave us a lot of snuck...   \n",
      "3     41133812  2012-05-08  The apartment was situated on the first floor ...   \n",
      "4      7465026  2013-08-16  Even though it was only for one night, we had ...   \n",
      "..         ...         ...                                                ...   \n",
      "995   44498863  2012-08-30  I loved staying here during my time in Paris. ...   \n",
      "996   30544438  2013-02-28  Highly recommend this as a place to stay if yo...   \n",
      "997   46642535  2014-08-30  John was a great host.  I came in on a red eye...   \n",
      "998   21403195  2014-12-26  Very good experiance had a comfortable stay. V...   \n",
      "999   38944752  2013-10-15  Thank you for the wonderful stay!   It was a c...   \n",
      "\n",
      "                           Listing Title            Neighbourhood  \\\n",
      "0    Nottinghill Portobello  Artist Flat   Kensington and Chelsea   \n",
      "1     Quiet Pink Studio in the PIJP area  De Pijp - Rivierenbuurt   \n",
      "2    PRIVATE Room in Spacious, Quiet Apt                   Harlem   \n",
      "3         Bonito estudio en pleno centro              Universidad   \n",
      "4          Acropolis Apartment brand new                 ΑΚΡΟΠΟΛΗ   \n",
      "..                                   ...                      ...   \n",
      "995              A typical parisian flat        Buttes-Montmartre   \n",
      "996     The Venice Roost on Abbot Kinney                   Venice   \n",
      "997      Top Floor Renovated 1 BR / 1BA              West Roxbury   \n",
      "998  NR LGA/JFK & City Studio W/Bathroom          Jackson Heights   \n",
      "999            15 Minutes from Manhattan                 Woodside   \n",
      "\n",
      "              City                State          Country        Room Type  \\\n",
      "0           London              England   United Kingdom  Entire home/apt   \n",
      "1        Amsterdam        North Holland  The Netherlands     Private room   \n",
      "2    New York City             New York    United States     Private room   \n",
      "3           Madrid  Comunidad de Madrid            Spain  Entire home/apt   \n",
      "4           Athens               Attica           Greece  Entire home/apt   \n",
      "..             ...                  ...              ...              ...   \n",
      "995          Paris        Île-de-France           France     Private room   \n",
      "996    Los Angeles           California    United States  Entire home/apt   \n",
      "997         Boston        Massachusetts    United States  Entire home/apt   \n",
      "998  New York City             New York    United States     Private room   \n",
      "999  New York City             New York    United States     Private room   \n",
      "\n",
      "     Room Price  Room Availability  \n",
      "0           100                338  \n",
      "1            80                 10  \n",
      "2            57                268  \n",
      "3            38                274  \n",
      "4            62                281  \n",
      "..          ...                ...  \n",
      "995          35                329  \n",
      "996         191                309  \n",
      "997          95                 10  \n",
      "998          75                357  \n",
      "999         110                329  \n",
      "\n",
      "[1000 rows x 11 columns]\n"
     ]
    }
   ],
   "source": [
    "review = pd.read_csv(\"ReviewContent.csv\")\n",
    "\n",
    "print(review)\n",
    "\n",
    "# Dataframe dosyamızı pandas sayesinde okuttuk ve yazdırdık."
   ]
  },
  {
   "cell_type": "code",
   "execution_count": 4,
   "metadata": {},
   "outputs": [
    {
     "name": "stdout",
     "output_type": "stream",
     "text": [
      "0       United Kingdom\n",
      "1      The Netherlands\n",
      "2        United States\n",
      "3                Spain\n",
      "4               Greece\n",
      "            ...       \n",
      "995             France\n",
      "996      United States\n",
      "997      United States\n",
      "998      United States\n",
      "999      United States\n",
      "Name: Country, Length: 1000, dtype: object\n",
      "<class 'pandas.core.series.Series'>\n"
     ]
    }
   ],
   "source": [
    "print(review[\"Country\"])\n",
    "print(type(review[\"Country\"]))\n",
    "\n",
    "# Belirlediğimiz bir sütunu yazdırıyoruz.\n",
    "# Bu verimizin de tipinin ne olduğu önemlidir. Kullanacağımız metotlar buna göre belirlenir."
   ]
  },
  {
   "cell_type": "code",
   "execution_count": 5,
   "metadata": {},
   "outputs": [
    {
     "name": "stdout",
     "output_type": "stream",
     "text": [
      "0       UNITED KINGDOM\n",
      "1      THE NETHERLANDS\n",
      "2        UNITED STATES\n",
      "3                SPAIN\n",
      "4               GREECE\n",
      "            ...       \n",
      "995             FRANCE\n",
      "996      UNITED STATES\n",
      "997      UNITED STATES\n",
      "998      UNITED STATES\n",
      "999      UNITED STATES\n",
      "Name: Country, Length: 1000, dtype: object\n"
     ]
    }
   ],
   "source": [
    "# upper(), lower(), title(), len() metotları\n",
    "\n",
    "print(review[\"Country\"].str.upper())\n",
    "\n",
    "# Pandasta bu metotlar tek başına kullanılmaz. \n",
    "# Bunların başına str özelliği getirilmesi gerekir.\n",
    "# Bütün verileri büyük harflerle yazdırdık."
   ]
  },
  {
   "cell_type": "code",
   "execution_count": 6,
   "metadata": {},
   "outputs": [
    {
     "name": "stdout",
     "output_type": "stream",
     "text": [
      "0       united kingdom\n",
      "1      the netherlands\n",
      "2        united states\n",
      "3                spain\n",
      "4               greece\n",
      "            ...       \n",
      "995             france\n",
      "996      united states\n",
      "997      united states\n",
      "998      united states\n",
      "999      united states\n",
      "Name: Country, Length: 1000, dtype: object\n"
     ]
    }
   ],
   "source": [
    "print(review[\"Country\"].str.lower())\n",
    "\n",
    "# Bütün verileri küçük harflerle yazdırdık."
   ]
  },
  {
   "cell_type": "code",
   "execution_count": 7,
   "metadata": {},
   "outputs": [
    {
     "name": "stdout",
     "output_type": "stream",
     "text": [
      "0       United Kingdom\n",
      "1      The Netherlands\n",
      "2        United States\n",
      "3                Spain\n",
      "4               Greece\n",
      "            ...       \n",
      "995             France\n",
      "996      United States\n",
      "997      United States\n",
      "998      United States\n",
      "999      United States\n",
      "Name: Country, Length: 1000, dtype: object\n"
     ]
    }
   ],
   "source": [
    "print(review[\"Country\"].str.title())\n",
    "\n",
    "# Bütün verilerin ilk harfini büyük gerisini küçük şekilde yazdırdık.\n",
    "# Bu hiçbiri kalıcı değildir."
   ]
  },
  {
   "cell_type": "code",
   "execution_count": 8,
   "metadata": {},
   "outputs": [
    {
     "name": "stdout",
     "output_type": "stream",
     "text": [
      "     Review ID Review Date                                     Review Content  \\\n",
      "0      4055629  2012-10-06  Very nice accommodation in an aesthetically pl...   \n",
      "1     25329416  2013-11-03  Me and my friends had such a nice time at Dott...   \n",
      "2     21705849  2014-11-27  I stayed for 4night.She gave us a lot of snuck...   \n",
      "3     41133812  2012-05-08  The apartment was situated on the first floor ...   \n",
      "4      7465026  2013-08-16  Even though it was only for one night, we had ...   \n",
      "..         ...         ...                                                ...   \n",
      "995   44498863  2012-08-30  I loved staying here during my time in Paris. ...   \n",
      "996   30544438  2013-02-28  Highly recommend this as a place to stay if yo...   \n",
      "997   46642535  2014-08-30  John was a great host.  I came in on a red eye...   \n",
      "998   21403195  2014-12-26  Very good experiance had a comfortable stay. V...   \n",
      "999   38944752  2013-10-15  Thank you for the wonderful stay!   It was a c...   \n",
      "\n",
      "                           Listing Title            Neighbourhood  \\\n",
      "0    Nottinghill Portobello  Artist Flat   Kensington and Chelsea   \n",
      "1     Quiet Pink Studio in the PIJP area  De Pijp - Rivierenbuurt   \n",
      "2    PRIVATE Room in Spacious, Quiet Apt                   Harlem   \n",
      "3         Bonito estudio en pleno centro              Universidad   \n",
      "4          Acropolis Apartment brand new                 ΑΚΡΟΠΟΛΗ   \n",
      "..                                   ...                      ...   \n",
      "995              A typical parisian flat        Buttes-Montmartre   \n",
      "996     The Venice Roost on Abbot Kinney                   Venice   \n",
      "997      Top Floor Renovated 1 BR / 1BA              West Roxbury   \n",
      "998  NR LGA/JFK & City Studio W/Bathroom          Jackson Heights   \n",
      "999            15 Minutes from Manhattan                 Woodside   \n",
      "\n",
      "              City                State          Country        Room Type  \\\n",
      "0           London              England   UNITED KINGDOM  Entire home/apt   \n",
      "1        Amsterdam        North Holland  THE NETHERLANDS     Private room   \n",
      "2    New York City             New York    UNITED STATES     Private room   \n",
      "3           Madrid  Comunidad de Madrid            SPAIN  Entire home/apt   \n",
      "4           Athens               Attica           GREECE  Entire home/apt   \n",
      "..             ...                  ...              ...              ...   \n",
      "995          Paris        Île-de-France           FRANCE     Private room   \n",
      "996    Los Angeles           California    UNITED STATES  Entire home/apt   \n",
      "997         Boston        Massachusetts    UNITED STATES  Entire home/apt   \n",
      "998  New York City             New York    UNITED STATES     Private room   \n",
      "999  New York City             New York    UNITED STATES     Private room   \n",
      "\n",
      "     Room Price  Room Availability  \n",
      "0           100                338  \n",
      "1            80                 10  \n",
      "2            57                268  \n",
      "3            38                274  \n",
      "4            62                281  \n",
      "..          ...                ...  \n",
      "995          35                329  \n",
      "996         191                309  \n",
      "997          95                 10  \n",
      "998          75                357  \n",
      "999         110                329  \n",
      "\n",
      "[1000 rows x 11 columns]\n"
     ]
    }
   ],
   "source": [
    "review[\"Country\"] = review[\"Country\"].str.upper()\n",
    "\n",
    "print(review)\n",
    "\n",
    "# Bu şekilde değişiklikleri kalıcı hale getirebiliriz."
   ]
  },
  {
   "cell_type": "code",
   "execution_count": 10,
   "metadata": {},
   "outputs": [
    {
     "name": "stdout",
     "output_type": "stream",
     "text": [
      "     Review ID Review Date                                     Review Content  \\\n",
      "0      4055629  2012-10-06  Very nice accommodation in an aesthetically pl...   \n",
      "1     25329416  2013-11-03  Me and my friends had such a nice time at Dott...   \n",
      "2     21705849  2014-11-27  I stayed for 4night.She gave us a lot of snuck...   \n",
      "3     41133812  2012-05-08  The apartment was situated on the first floor ...   \n",
      "4      7465026  2013-08-16  Even though it was only for one night, we had ...   \n",
      "..         ...         ...                                                ...   \n",
      "995   44498863  2012-08-30  I loved staying here during my time in Paris. ...   \n",
      "996   30544438  2013-02-28  Highly recommend this as a place to stay if yo...   \n",
      "997   46642535  2014-08-30  John was a great host.  I came in on a red eye...   \n",
      "998   21403195  2014-12-26  Very good experiance had a comfortable stay. V...   \n",
      "999   38944752  2013-10-15  Thank you for the wonderful stay!   It was a c...   \n",
      "\n",
      "                           Listing Title            Neighbourhood  \\\n",
      "0    Nottinghill Portobello  Artist Flat   Kensington and Chelsea   \n",
      "1     Quiet Pink Studio in the PIJP area  De Pijp - Rivierenbuurt   \n",
      "2    PRIVATE Room in Spacious, Quiet Apt                   Harlem   \n",
      "3         Bonito estudio en pleno centro              Universidad   \n",
      "4          Acropolis Apartment brand new                 ΑΚΡΟΠΟΛΗ   \n",
      "..                                   ...                      ...   \n",
      "995              A typical parisian flat        Buttes-Montmartre   \n",
      "996     The Venice Roost on Abbot Kinney                   Venice   \n",
      "997      Top Floor Renovated 1 BR / 1BA              West Roxbury   \n",
      "998  NR LGA/JFK & City Studio W/Bathroom          Jackson Heights   \n",
      "999            15 Minutes from Manhattan                 Woodside   \n",
      "\n",
      "              City                State          Country        Room Type  \\\n",
      "0           London              England   United Kingdom  Entire home/apt   \n",
      "1        Amsterdam        North Holland  The Netherlands     Private room   \n",
      "2    New York City             New York    United States     Private room   \n",
      "3           Madrid  Comunidad de Madrid            Spain  Entire home/apt   \n",
      "4           Athens               Attica           Greece  Entire home/apt   \n",
      "..             ...                  ...              ...              ...   \n",
      "995          Paris        Île-de-France           France     Private room   \n",
      "996    Los Angeles           California    United States  Entire home/apt   \n",
      "997         Boston        Massachusetts    United States  Entire home/apt   \n",
      "998  New York City             New York    United States     Private room   \n",
      "999  New York City             New York    United States     Private room   \n",
      "\n",
      "     Room Price  Room Availability  \n",
      "0           100                338  \n",
      "1            80                 10  \n",
      "2            57                268  \n",
      "3            38                274  \n",
      "4            62                281  \n",
      "..          ...                ...  \n",
      "995          35                329  \n",
      "996         191                309  \n",
      "997          95                 10  \n",
      "998          75                357  \n",
      "999         110                329  \n",
      "\n",
      "[1000 rows x 11 columns]\n"
     ]
    }
   ],
   "source": [
    "review = pd.read_csv(\"ReviewContent.csv\")\n",
    "\n",
    "print(review)\n",
    "\n",
    "# Dataframe dosyamızı pandas sayesinde okuttuk ve yazdırdık."
   ]
  },
  {
   "cell_type": "code",
   "execution_count": 11,
   "metadata": {},
   "outputs": [
    {
     "name": "stdout",
     "output_type": "stream",
     "text": [
      "16\n"
     ]
    }
   ],
   "source": [
    "print(len(\"benim adım sonay\"))\n",
    "\n",
    "# Bildiğiniz gibi uzunluğu bu şekilde ölçebiliyoruz."
   ]
  },
  {
   "cell_type": "code",
   "execution_count": 12,
   "metadata": {},
   "outputs": [
    {
     "name": "stdout",
     "output_type": "stream",
     "text": [
      "1000\n"
     ]
    }
   ],
   "source": [
    "print(len(review[\"Country\"]))\n",
    "\n",
    "# Aynı şeyi dataframe üzerinde de kullanabiliriz.\n",
    "# Bize sütundaki satır sayısını verir."
   ]
  },
  {
   "cell_type": "code",
   "execution_count": 13,
   "metadata": {},
   "outputs": [
    {
     "name": "stdout",
     "output_type": "stream",
     "text": [
      "0      14\n",
      "1      15\n",
      "2      13\n",
      "3       5\n",
      "4       6\n",
      "       ..\n",
      "995     6\n",
      "996    13\n",
      "997    13\n",
      "998    13\n",
      "999    13\n",
      "Name: Country, Length: 1000, dtype: int64\n"
     ]
    }
   ],
   "source": [
    "print(review[\"Country\"].str.len())\n",
    "\n",
    "# Bu şekilde de her bir satırdaki verilerin uzunluğuna erişebiliyoruz."
   ]
  },
  {
   "cell_type": "code",
   "execution_count": 14,
   "metadata": {},
   "outputs": [
    {
     "name": "stdout",
     "output_type": "stream",
     "text": [
      "sonay yazIlIm\n"
     ]
    }
   ],
   "source": [
    "# replace() metodu\n",
    "\n",
    "print(\"sonay yazilim\".replace(\"i\", \"I\"))\n",
    "\n",
    "# Normal string ifadelerde replace kullanımı bu şekilde oluyor.\n",
    "# Bir karakterin yerine belirlediğimiz başka bir karakteri koyabiliyorduk."
   ]
  },
  {
   "cell_type": "code",
   "execution_count": 15,
   "metadata": {},
   "outputs": [
    {
     "name": "stdout",
     "output_type": "stream",
     "text": [
      "0      Entire home/apt\n",
      "1         Private room\n",
      "2         Private room\n",
      "3      Entire home/apt\n",
      "4      Entire home/apt\n",
      "            ...       \n",
      "995       Private room\n",
      "996    Entire home/apt\n",
      "997    Entire home/apt\n",
      "998       Private room\n",
      "999       Private room\n",
      "Name: Room Type, Length: 1000, dtype: object\n"
     ]
    }
   ],
   "source": [
    "print(review[\"Room Type\"])\n",
    "\n",
    "# Room Type satırına eriştik."
   ]
  },
  {
   "cell_type": "code",
   "execution_count": 16,
   "metadata": {},
   "outputs": [
    {
     "name": "stdout",
     "output_type": "stream",
     "text": [
      "0      Entire home/apt\n",
      "1         Private Room\n",
      "2         Private Room\n",
      "3      Entire home/apt\n",
      "4      Entire home/apt\n",
      "            ...       \n",
      "995       Private Room\n",
      "996    Entire home/apt\n",
      "997    Entire home/apt\n",
      "998       Private Room\n",
      "999       Private Room\n",
      "Name: Room Type, Length: 1000, dtype: object\n"
     ]
    }
   ],
   "source": [
    "print(review[\"Room Type\"].str.replace(\"room\", \"Room\"))\n",
    "\n",
    "# Dataframe'de kullanımı da bu şekilde oluyor.\n",
    "# Aslında kullanımında hiçbir fark yok.\n",
    "# Sadece başına pandasın str özelliğini getirmemiz gerekiyor."
   ]
  },
  {
   "cell_type": "code",
   "execution_count": 17,
   "metadata": {},
   "outputs": [
    {
     "name": "stdout",
     "output_type": "stream",
     "text": [
      "0             London\n",
      "1          Amsterdam\n",
      "2      New York City\n",
      "3             Madrid\n",
      "4             Athens\n",
      "           ...      \n",
      "995            Paris\n",
      "996      Los Angeles\n",
      "997           Boston\n",
      "998    New York City\n",
      "999    New York City\n",
      "Name: City, Length: 1000, dtype: object\n"
     ]
    }
   ],
   "source": [
    "print(review[\"City\"])\n",
    "\n",
    "# City sütunumuza eriştik."
   ]
  },
  {
   "cell_type": "code",
   "execution_count": 19,
   "metadata": {},
   "outputs": [
    {
     "name": "stdout",
     "output_type": "stream",
     "text": [
      "0      False\n",
      "1      False\n",
      "2       True\n",
      "3      False\n",
      "4      False\n",
      "       ...  \n",
      "995    False\n",
      "996    False\n",
      "997    False\n",
      "998     True\n",
      "999     True\n",
      "Name: City, Length: 1000, dtype: bool\n"
     ]
    }
   ],
   "source": [
    "print(review[\"City\"].str.upper().str.contains(\"YORK\"))\n",
    "\n",
    "# City sütunumuzdaki elemanların hepsini büyük harf yazdırdık.\n",
    "# Sonra da YORK olan elemanları aradık.\n",
    "# Olanları bize True olarak döndürdü.\n",
    "# contains metodunun ne işe yaradığını anlamışsınızdır."
   ]
  },
  {
   "cell_type": "code",
   "execution_count": 20,
   "metadata": {},
   "outputs": [
    {
     "name": "stdout",
     "output_type": "stream",
     "text": [
      "     Review ID Review Date                                     Review Content  \\\n",
      "2     21705849  2014-11-27  I stayed for 4night.She gave us a lot of snuck...   \n",
      "14    12792771  2013-08-22  Usman is a great host, the apartment is as des...   \n",
      "18     9329281  2013-12-03  This is not our first time to NYC, but this is...   \n",
      "25    22419996  2014-11-17  Apartment was clean and as described. Bed was ...   \n",
      "34    42823968  2013-04-25  We stayed at Tim’s and Ellen’s beautiful apart...   \n",
      "..         ...         ...                                                ...   \n",
      "956    7940278  2014-10-17  Scott's apartment is such a havon in the bustl...   \n",
      "974   37762569  2013-12-30  Susanne provides a comfortable room in a spaci...   \n",
      "983    2018617  2013-12-22  Ysaira and Jose are the sweetest people. They ...   \n",
      "998   21403195  2014-12-26  Very good experiance had a comfortable stay. V...   \n",
      "999   38944752  2013-10-15  Thank you for the wonderful stay!   It was a c...   \n",
      "\n",
      "                           Listing Title     Neighbourhood           City  \\\n",
      "2    PRIVATE Room in Spacious, Quiet Apt            Harlem  New York City   \n",
      "14     Massive Apartment in West Village      West Village  New York City   \n",
      "18    FANTASTIC TIMES SQUARE ONE BEDROOM  Theater District  New York City   \n",
      "25     Charming, Exposed Brick SoHo Loft            Nolita  New York City   \n",
      "34       Grand Brownstone Owner's Duplex      Clinton Hill  New York City   \n",
      "..                                   ...               ...            ...   \n",
      "956   1BR, 1BTH Duplex W/ LRG OUTD SPACE          Kips Bay  New York City   \n",
      "974          Sunny Space in Williamsburg      Williamsburg  New York City   \n",
      "983     Bronx Room Near Yankees & Harlem    Morris Heights  New York City   \n",
      "998  NR LGA/JFK & City Studio W/Bathroom   Jackson Heights  New York City   \n",
      "999            15 Minutes from Manhattan          Woodside  New York City   \n",
      "\n",
      "        State        Country        Room Type  Room Price  Room Availability  \n",
      "2    New York  United States     Private room          57                268  \n",
      "14   New York  United States  Entire home/apt         600                334  \n",
      "18   New York  United States  Entire home/apt         260                291  \n",
      "25   New York  United States  Entire home/apt         199                313  \n",
      "34   New York  United States  Entire home/apt         195                249  \n",
      "..        ...            ...              ...         ...                ...  \n",
      "956  New York  United States  Entire home/apt         250                312  \n",
      "974  New York  United States     Private room         100                278  \n",
      "983  New York  United States     Private room          40                302  \n",
      "998  New York  United States     Private room          75                357  \n",
      "999  New York  United States     Private room         110                329  \n",
      "\n",
      "[135 rows x 11 columns]\n"
     ]
    }
   ],
   "source": [
    "mask = (review[\"City\"].str.upper().str.contains(\"YORK\"))\n",
    "\n",
    "print(review[mask])\n",
    "\n",
    "# mask değerine atayarak bu işlemleri True False değeri değilde direkt satırın orjinal halini yazdırabiliriz.\n",
    "# False olan değerler ekrana yazdırılmaz."
   ]
  },
  {
   "cell_type": "code",
   "execution_count": 21,
   "metadata": {},
   "outputs": [
    {
     "name": "stdout",
     "output_type": "stream",
     "text": [
      "     Review ID Review Date                                     Review Content  \\\n",
      "17     7568387  2013-02-01  Kristina and Ekaterine were lovley hosts. They...   \n",
      "22    33973256  2013-03-30  Pros: Parking inside property. Convenient Loca...   \n",
      "35    43930287  2012-03-31  Wilson’s apartment is great – one of the nices...   \n",
      "36    35333712  2012-07-27  Aj is really nice , and kind guy.. It was good...   \n",
      "56    34209660  2014-12-12  Bir was a great host... left everything that w...   \n",
      "..         ...         ...                                                ...   \n",
      "928   38052964  2012-10-18  so, this is what it says in the listing: 'We h...   \n",
      "940   37536009  2014-09-23  Kathryn was a lovely host, and she answered al...   \n",
      "976   22716033  2012-12-23  Natalie was a pleasant and great host. I could...   \n",
      "978   29660564  2013-03-22  Jess was easily the best host we had during ou...   \n",
      "996   30544438  2013-02-28  Highly recommend this as a place to stay if yo...   \n",
      "\n",
      "                           Listing Title    Neighbourhood         City  \\\n",
      "17   Hollywood Furnished Private Bedroom        Hollywood  Los Angeles   \n",
      "22        Private room4 historical house  Harvard Heights  Los Angeles   \n",
      "35   Corner Loft Amazing Views! Downtown         Downtown  Los Angeles   \n",
      "36               Modern & Comfy in LA!!!     Mid-Wilshire  Los Angeles   \n",
      "56   Sweet Apartment in ❤Heart❤ of WeHo!   West Hollywood  Los Angeles   \n",
      "..                                   ...              ...          ...   \n",
      "928   Serene Garden Room by the Beach!!!     Santa Monica  Los Angeles   \n",
      "940    stay in the heart of santa monica     Santa Monica  Los Angeles   \n",
      "976  Eagle Rock home- great neighborhood       Eagle Rock  Los Angeles   \n",
      "978  CHARMING IN HEART OF WEST HOLLYWOOD    Beverly Grove  Los Angeles   \n",
      "996     The Venice Roost on Abbot Kinney           Venice  Los Angeles   \n",
      "\n",
      "          State        Country        Room Type  Room Price  Room Availability  \n",
      "17   California  United States     Private room          99                244  \n",
      "22   California  United States     Private room          46                357  \n",
      "35   California  United States  Entire home/apt         130                179  \n",
      "36   California  United States     Private room          94                254  \n",
      "56   California  United States  Entire home/apt         139                 85  \n",
      "..          ...            ...              ...         ...                ...  \n",
      "928  California  United States     Private room          80                 82  \n",
      "940  California  United States     Private room          89                361  \n",
      "976  California  United States  Entire home/apt         105                296  \n",
      "978  California  United States  Entire home/apt         125                303  \n",
      "996  California  United States  Entire home/apt         191                309  \n",
      "\n",
      "[68 rows x 11 columns]\n"
     ]
    }
   ],
   "source": [
    "mask = (review[\"City\"].str.upper().str.startswith(\"LOS\"))\n",
    "\n",
    "print(review[mask])\n",
    "\n",
    "# Pythonda da aynı metot bulunuyor.\n",
    "# LOS ile başlayan verilerimizin yazdırılmasını istedik."
   ]
  },
  {
   "cell_type": "code",
   "execution_count": 22,
   "metadata": {},
   "outputs": [
    {
     "name": "stdout",
     "output_type": "stream",
     "text": [
      "Empty DataFrame\n",
      "Columns: [Review ID, Review Date, Review Content, Listing Title, Neighbourhood, City, State, Country, Room Type, Room Price, Room Availability]\n",
      "Index: []\n"
     ]
    }
   ],
   "source": [
    "mask = (review[\"City\"].str.upper().str.endswith(\"LOS\"))\n",
    "\n",
    "print(review[mask])\n",
    "\n",
    "# Aynısının baştan aramasını değilde sondan aramasını da yapabiliriz.\n",
    "# LOS ile biten şehir olmadığı için boş bir dataframe ile sonucumuzu almış olduk."
   ]
  },
  {
   "cell_type": "code",
   "execution_count": 23,
   "metadata": {},
   "outputs": [
    {
     "name": "stdout",
     "output_type": "stream",
     "text": [
      "     Review ID Review Date                                     Review Content  \\\n",
      "0      4055629  2012-10-06  Very nice accommodation in an aesthetically pl...   \n",
      "7     10787310  2013-06-02  Carolines room is perfectly located to discove...   \n",
      "10    24326991  2014-10-19  Many thanks Annabel, our stay was perfect! We ...   \n",
      "20    38360407  2013-12-31  Nice contact. Very friendly and supportive. Th...   \n",
      "27    37847700  2014-02-02  Wannie was very accommodating and allowed us t...   \n",
      "..         ...         ...                                                ...   \n",
      "943   30716660  2013-04-21  The flat was very clean and centrally located....   \n",
      "963   37527770  2012-08-16  Karen was a great host! She was extremely frie...   \n",
      "966   11444280  2013-04-01  You couldn't ask for friendlier hosts! I had a...   \n",
      "967   31488970  2014-10-18  Serena was very welcoming and the place was qu...   \n",
      "971   21709517  2013-07-03  Anders is a great host. The flat is exactly as...   \n",
      "\n",
      "                           Listing Title           Neighbourhood    City  \\\n",
      "0    Nottinghill Portobello  Artist Flat  Kensington and Chelsea  London   \n",
      "7          Private room - Central London             Westminster  London   \n",
      "10       Light 2 bedroom in Notting Hill  Kensington and Chelsea  London   \n",
      "20   Curved wall Studio ST4 with Kitchen           Tower Hamlets  London   \n",
      "27   Prime location near BigBen Victoria             Westminster  London   \n",
      "..                                   ...                     ...     ...   \n",
      "943     \"Paige\" apartment, 2B, free wifi           Tower Hamlets  London   \n",
      "963          Homely Triple Room London 3                 Lambeth  London   \n",
      "966  On Offer!! Camden Town / St Pancras                  Camden  London   \n",
      "967   Hackney / Dalston / London Fields                  Hackney  London   \n",
      "971  East London/Shoreditch-Superb 2 bed                 Hackney  London   \n",
      "\n",
      "       State         Country        Room Type  Room Price  Room Availability  \n",
      "0    England  United Kingdom  Entire home/apt         100                338  \n",
      "7    England  United Kingdom     Private room          60                351  \n",
      "10   England  United Kingdom  Entire home/apt         140                151  \n",
      "20   England  United Kingdom  Entire home/apt          85                344  \n",
      "27   England  United Kingdom  Entire home/apt         129                279  \n",
      "..       ...             ...              ...         ...                ...  \n",
      "943  England  United Kingdom  Entire home/apt         350                345  \n",
      "963  England  United Kingdom     Private room          27                362  \n",
      "966  England  United Kingdom     Private room          49                128  \n",
      "967  England  United Kingdom     Private room          39                365  \n",
      "971  England  United Kingdom  Entire home/apt         165                301  \n",
      "\n",
      "[104 rows x 11 columns]\n"
     ]
    }
   ],
   "source": [
    "mask = (review[\"City\"].str.upper().str.endswith(\"DON\"))\n",
    "\n",
    "print(review[mask])\n",
    "\n",
    "# Bu da başka bir örnek."
   ]
  },
  {
   "cell_type": "code",
   "execution_count": 24,
   "metadata": {},
   "outputs": [
    {
     "name": "stdout",
     "output_type": "stream",
     "text": [
      "0             London\n",
      "1          Amsterdam\n",
      "2      New York City\n",
      "3             Madrid\n",
      "4             Athens\n",
      "           ...      \n",
      "995            Paris\n",
      "996      Los Angeles\n",
      "997           Boston\n",
      "998    New York City\n",
      "999    New York City\n",
      "Name: City, Length: 1000, dtype: object\n"
     ]
    }
   ],
   "source": [
    "print(review[\"City\"])\n",
    "\n",
    "# City sütunumuza eriştik."
   ]
  },
  {
   "cell_type": "code",
   "execution_count": 25,
   "metadata": {},
   "outputs": [
    {
     "name": "stdout",
     "output_type": "stream",
     "text": [
      "0             London\n",
      "1          Amsterdam\n",
      "2      New York City\n",
      "3             Madrid\n",
      "4             Athens\n",
      "           ...      \n",
      "995            Paris\n",
      "996      Los Angeles\n",
      "997           Boston\n",
      "998    New York City\n",
      "999    New York City\n",
      "Name: City, Length: 1000, dtype: object\n"
     ]
    }
   ],
   "source": [
    "print(review[\"City\"].str.strip())\n",
    "\n",
    "# Yine pythonda olan bir metot.\n",
    "# Verimizin başında veya sonunda boşluk varsa onlardan kurtularak yazdırır."
   ]
  },
  {
   "cell_type": "code",
   "execution_count": 26,
   "metadata": {},
   "outputs": [
    {
     "name": "stdout",
     "output_type": "stream",
     "text": [
      "ben sonay\n"
     ]
    }
   ],
   "source": [
    "print(\"        ben sonay          \".strip())\n",
    "\n",
    "# Bu şekilde yaptığı işlemi daha iyi görebilirsiniz."
   ]
  },
  {
   "cell_type": "code",
   "execution_count": 27,
   "metadata": {},
   "outputs": [],
   "source": [
    "# strip metodunun lstrip veya rstrip gibi iki farklı hali de vardır.\n",
    "# lstripte sol taraftaki boşluklardan\n",
    "# rstripte sağ taraftaki boşluklardan kurtulabiliriz.\n",
    "# Bunlar için ayrı örnek yazmıyorum. \n",
    "# Gayet iyi anlaşılmıştır umarım."
   ]
  },
  {
   "cell_type": "code",
   "execution_count": 28,
   "metadata": {},
   "outputs": [
    {
     "name": "stdout",
     "output_type": "stream",
     "text": [
      "['benim', 'adım', 'sonay']\n"
     ]
    }
   ],
   "source": [
    "print(\"benim adım sonay\".split(\" \"))\n",
    "\n",
    "# Pythonda olan bir metot daha split ayırma işlemi yapan bir metot.\n",
    "# \" \" yani boşluk karakterinden ayrılmasını istedik ve bize liste olarak bunların ayrılmış halini verdi."
   ]
  },
  {
   "cell_type": "code",
   "execution_count": 29,
   "metadata": {},
   "outputs": [
    {
     "name": "stdout",
     "output_type": "stream",
     "text": [
      "['benim', 'adım', 'sonay']\n"
     ]
    }
   ],
   "source": [
    "print(\"benim-adım-sonay\".split(\"-\"))\n",
    "\n",
    "# Boşlukta belki anlamamışsınızdır.\n",
    "# Buradan yaptığı işlemi daha iyi anlarsınız."
   ]
  },
  {
   "cell_type": "code",
   "execution_count": 30,
   "metadata": {},
   "outputs": [
    {
     "name": "stdout",
     "output_type": "stream",
     "text": [
      "0               [London]\n",
      "1            [Amsterdam]\n",
      "2      [New, York, City]\n",
      "3               [Madrid]\n",
      "4               [Athens]\n",
      "             ...        \n",
      "995              [Paris]\n",
      "996       [Los, Angeles]\n",
      "997             [Boston]\n",
      "998    [New, York, City]\n",
      "999    [New, York, City]\n",
      "Name: City, Length: 1000, dtype: object\n"
     ]
    }
   ],
   "source": [
    "print(review[\"City\"].str.split(\" \"))\n",
    "\n",
    "# Aynı işlemi str özelliğini kullanarak pandasta da kullanabiliriz.\n",
    "# Örneğin New York City şehrini boşluklardan böldü ve liste haline getirdi."
   ]
  },
  {
   "cell_type": "code",
   "execution_count": 31,
   "metadata": {},
   "outputs": [
    {
     "name": "stdout",
     "output_type": "stream",
     "text": [
      "0         London\n",
      "1      Amsterdam\n",
      "2            New\n",
      "3         Madrid\n",
      "4         Athens\n",
      "         ...    \n",
      "995        Paris\n",
      "996          Los\n",
      "997       Boston\n",
      "998          New\n",
      "999          New\n",
      "Name: City, Length: 1000, dtype: object\n"
     ]
    }
   ],
   "source": [
    "print(review[\"City\"].str.split(\" \").str.get(0))\n",
    "\n",
    "# get metoduyla da 0'ıncı indexteki elemanları alabiliriz.\n",
    "# split metoduyla gayet iyi giden bir metottur."
   ]
  },
  {
   "cell_type": "code",
   "execution_count": 32,
   "metadata": {},
   "outputs": [
    {
     "name": "stdout",
     "output_type": "stream",
     "text": [
      "             0        1     2\n",
      "0       London     None  None\n",
      "1    Amsterdam     None  None\n",
      "2          New     York  City\n",
      "3       Madrid     None  None\n",
      "4       Athens     None  None\n",
      "..         ...      ...   ...\n",
      "995      Paris     None  None\n",
      "996        Los  Angeles  None\n",
      "997     Boston     None  None\n",
      "998        New     York  City\n",
      "999        New     York  City\n",
      "\n",
      "[1000 rows x 3 columns]\n"
     ]
    }
   ],
   "source": [
    "print(review[\"City\"].str.split(\" \", expand= True))\n",
    "\n",
    "# Eğer split metodunun bize liste olarak değilde dataframe olarak döndürmesini istersek\n",
    "# expand parametresi ekleyip True değeri verirsek\n",
    "# İstediğimiz gibi bir dataframe olarak sonuç alırız."
   ]
  },
  {
   "cell_type": "code",
   "execution_count": null,
   "metadata": {},
   "outputs": [],
   "source": []
  }
 ],
 "metadata": {
  "kernelspec": {
   "display_name": "Python 3.11.0 64-bit",
   "language": "python",
   "name": "python3"
  },
  "language_info": {
   "codemirror_mode": {
    "name": "ipython",
    "version": 3
   },
   "file_extension": ".py",
   "mimetype": "text/x-python",
   "name": "python",
   "nbconvert_exporter": "python",
   "pygments_lexer": "ipython3",
   "version": "3.11.0"
  },
  "orig_nbformat": 4,
  "vscode": {
   "interpreter": {
    "hash": "7c542dbbc07e6010b76b61de8a453dc04d29cd1fae7fbaa29851ecbad9aefb83"
   }
  }
 },
 "nbformat": 4,
 "nbformat_minor": 2
}
