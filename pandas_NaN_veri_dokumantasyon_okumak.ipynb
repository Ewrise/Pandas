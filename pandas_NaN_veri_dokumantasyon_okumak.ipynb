{
 "cells": [
  {
   "cell_type": "code",
   "execution_count": 1,
   "metadata": {},
   "outputs": [],
   "source": [
    "import pandas as pd"
   ]
  },
  {
   "cell_type": "code",
   "execution_count": 3,
   "metadata": {},
   "outputs": [
    {
     "name": "stdout",
     "output_type": "stream",
     "text": [
      "             Hale Ahmet   Fatma\n",
      "age            25    32      40\n",
      "department     CE    EE      TT\n",
      "gender        NaN     M     NaN\n",
      "height        161   NaN     175\n",
      "surname     Çetin   NaN  Gülşen\n",
      "weight        NaN    83     NaN\n"
     ]
    }
   ],
   "source": [
    "students = {\"Hale\" : pd.Series(data= [25, \"Çetin\", \"CE\", 161], index= [\"age\", \"surname\", \"department\", \"height\"]),\n",
    "    \"Ahmet\" : pd.Series(data= [32, \"M\", \"EE\", 83], index= [\"age\", \"gender\", \"department\", \"weight\"]),\n",
    "    \"Fatma\" : pd.Series(data= [40, \"Gülşen\", \"TT\", 175], index= [\"age\", \"surname\", \"department\", \"height\"])\n",
    "}\n",
    "\n",
    "df_students = pd.DataFrame(students)\n",
    "\n",
    "print(df_students)\n",
    "\n",
    "# dataframe atamamızı yaptık.\n",
    "# Gördüğünüz gibi eksik verilerimiz var ve bunlar NaN olarak yazdırılıyor."
   ]
  },
  {
   "cell_type": "code",
   "execution_count": 5,
   "metadata": {},
   "outputs": [
    {
     "name": "stdout",
     "output_type": "stream",
     "text": [
      "             Hale  Ahmet  Fatma\n",
      "age         False  False  False\n",
      "department  False  False  False\n",
      "gender       True  False   True\n",
      "height      False   True  False\n",
      "surname     False   True  False\n",
      "weight       True  False   True\n",
      "<class 'pandas.core.frame.DataFrame'>\n"
     ]
    }
   ],
   "source": [
    "# isnull() metodu\n",
    "\n",
    "x = df_students.isnull()\n",
    "\n",
    "print(x)\n",
    "print(type(x))\n",
    "\n",
    "# isnull metodu bir sorgulama metodudur.\n",
    "# Pandasa verinin var olup olmadığını soruyoruz.\n",
    "# Eğer veri varsa False, veri yoksa True ifadelerini yazdırıyor.\n",
    "# ve isnull metodumuz dataframe'imizin tipini değiştirmiyor. Hala dataframe olduğunu görebiliriz."
   ]
  },
  {
   "cell_type": "code",
   "execution_count": 6,
   "metadata": {},
   "outputs": [
    {
     "name": "stdout",
     "output_type": "stream",
     "text": [
      "Hale     2\n",
      "Ahmet    2\n",
      "Fatma    2\n",
      "dtype: int64\n",
      "<class 'pandas.core.series.Series'>\n"
     ]
    }
   ],
   "source": [
    "y = df_students.isnull().sum()\n",
    "\n",
    "print(y)\n",
    "print(type(y))\n",
    "\n",
    "# Sorgulayıcı metodumuzda sum metodu ile toplama yaparak kaç tane True değeri olduğunu öğrendik.\n",
    "# ve bunun sonucunda bize bir Series döndürüldü."
   ]
  },
  {
   "cell_type": "code",
   "execution_count": 7,
   "metadata": {},
   "outputs": [
    {
     "name": "stdout",
     "output_type": "stream",
     "text": [
      "6\n",
      "<class 'numpy.int64'>\n"
     ]
    }
   ],
   "source": [
    "z = df_students.isnull().sum().sum()\n",
    "\n",
    "print(z)\n",
    "print(type(z))\n",
    "\n",
    "# sum metodunu art arda kullanarak 6 tane boş verimiz yani NaN değerimizi bulduk.\n",
    "# Bu da bize numpy değeri olarak geri döndü."
   ]
  },
  {
   "cell_type": "code",
   "execution_count": 9,
   "metadata": {},
   "outputs": [
    {
     "name": "stdout",
     "output_type": "stream",
     "text": [
      "             Hale  Ahmet  Fatma\n",
      "age          True   True   True\n",
      "department   True   True   True\n",
      "gender      False   True  False\n",
      "height       True  False   True\n",
      "surname      True  False   True\n",
      "weight      False   True  False\n",
      "<class 'pandas.core.frame.DataFrame'>\n"
     ]
    }
   ],
   "source": [
    "# notnull() metodu\n",
    "\n",
    "x = df_students.notnull()\n",
    "\n",
    "print(x)\n",
    "print(type(x))\n",
    "\n",
    "# notnull metodu bir sorgulama metodudur.\n",
    "# Pandasa verinin var olup olmadığını soruyoruz.\n",
    "# Eğer veri varsa True, veri yoksa False ifadelerini yazdırıyor.\n",
    "# ve notnull metodumuz dataframe'imizin tipini değiştirmiyor. Hala dataframe olduğunu görebiliriz."
   ]
  },
  {
   "cell_type": "code",
   "execution_count": 10,
   "metadata": {},
   "outputs": [
    {
     "name": "stdout",
     "output_type": "stream",
     "text": [
      "Hale     4\n",
      "Ahmet    4\n",
      "Fatma    4\n",
      "dtype: int64\n",
      "<class 'pandas.core.series.Series'>\n"
     ]
    }
   ],
   "source": [
    "y = df_students.notnull().sum()\n",
    "\n",
    "print(y)\n",
    "print(type(y))\n",
    "\n",
    "# Sorgulayıcı metodumuzda sum metodu ile toplama yaparak kaç tane True değeri olduğunu öğrendik.\n",
    "# ve bunun sonucunda bize bir Series döndürüldü."
   ]
  },
  {
   "cell_type": "code",
   "execution_count": 11,
   "metadata": {},
   "outputs": [
    {
     "name": "stdout",
     "output_type": "stream",
     "text": [
      "12\n",
      "<class 'numpy.int64'>\n"
     ]
    }
   ],
   "source": [
    "z = df_students.notnull().sum().sum()\n",
    "\n",
    "print(z)\n",
    "print(type(z))\n",
    "\n",
    "# sum metodunu art arda kullanarak 6 tane dolu verimiz olduğunu bulduk.\n",
    "# Bu da bize numpy değeri olarak geri döndü.\n",
    "# Sizinde anladığınız gibi notnull metodumuz isnull metodumuzun tam tersi sonuç veriyor."
   ]
  },
  {
   "cell_type": "code",
   "execution_count": 12,
   "metadata": {},
   "outputs": [
    {
     "name": "stdout",
     "output_type": "stream",
     "text": [
      "Hale     4\n",
      "Ahmet    4\n",
      "Fatma    4\n",
      "dtype: int64\n",
      "<class 'pandas.core.series.Series'>\n"
     ]
    }
   ],
   "source": [
    "# count() metodu\n",
    "\n",
    "x = df_students.count()\n",
    "\n",
    "print(x)\n",
    "print(type(x))\n",
    "\n",
    "# count metodu da isnull ve notnull gibi görev görür.\n",
    "# Sütunlarda kaç tane veri bulunuyor bize onu saydı.\n",
    "# Ancak isnull ve notnulldan farklı olarak sum metodu kullanmadan bize veri tipini Series olarak döndürdü."
   ]
  },
  {
   "cell_type": "code",
   "execution_count": 13,
   "metadata": {},
   "outputs": [
    {
     "name": "stdout",
     "output_type": "stream",
     "text": [
      "12\n",
      "<class 'numpy.int64'>\n"
     ]
    }
   ],
   "source": [
    "y = df_students.count().sum()\n",
    "\n",
    "print(y)\n",
    "print(type(y))\n",
    "\n",
    "# Bir kere sum metodu kullandığımızda numpy veri tipine ulaşmış oldu."
   ]
  },
  {
   "cell_type": "code",
   "execution_count": 15,
   "metadata": {},
   "outputs": [
    {
     "name": "stdout",
     "output_type": "stream",
     "text": [
      "12\n",
      "<class 'numpy.int64'>\n"
     ]
    }
   ],
   "source": [
    "z = df_students.count().sum().sum()\n",
    "\n",
    "print(z)\n",
    "print(type(z))\n",
    "\n",
    "# isnull ve notnullda olduğu gibi count metodunda ikinci bir sum kullanmamızın hiçbir gereği yoktur.\n",
    "# Tek sum metodu kullandığımızda aldığımız sonuçta farklı bir sonuç almayız."
   ]
  },
  {
   "cell_type": "code",
   "execution_count": 17,
   "metadata": {},
   "outputs": [
    {
     "name": "stdout",
     "output_type": "stream",
     "text": [
      "             Hale Ahmet   Fatma\n",
      "age            25    32      40\n",
      "department     CE    EE      TT\n",
      "gender        NaN     M     NaN\n",
      "height        161   NaN     175\n",
      "surname     Çetin   NaN  Gülşen\n",
      "weight        NaN    83     NaN\n"
     ]
    }
   ],
   "source": [
    "students = {\"Hale\" : pd.Series(data= [25, \"Çetin\", \"CE\", 161], index= [\"age\", \"surname\", \"department\", \"height\"]),\n",
    "    \"Ahmet\" : pd.Series(data= [32, \"M\", \"EE\", 83], index= [\"age\", \"gender\", \"department\", \"weight\"]),\n",
    "    \"Fatma\" : pd.Series(data= [40, \"Gülşen\", \"TT\", 175], index= [\"age\", \"surname\", \"department\", \"height\"])\n",
    "}\n",
    "\n",
    "df_students = pd.DataFrame(students)\n",
    "\n",
    "print(df_students)\n",
    "\n",
    "# dataframe atamamızı gözden kaybetmemek için tekrar buraya aldım."
   ]
  },
  {
   "cell_type": "code",
   "execution_count": 18,
   "metadata": {},
   "outputs": [
    {
     "name": "stdout",
     "output_type": "stream",
     "text": [
      "           Hale Ahmet Fatma\n",
      "age          25    32    40\n",
      "department   CE    EE    TT\n",
      "<class 'pandas.core.frame.DataFrame'>\n"
     ]
    }
   ],
   "source": [
    "# dropna() metodu\n",
    "\n",
    "x = df_students.dropna()\n",
    "\n",
    "print(x)\n",
    "print(type(x))\n",
    "\n",
    "# NaN değeri bulunan bütün satırları silip bize sadece bütün verilerin olduğu şekilde dataframe'imizi yazdırdı.\n",
    "# Dataframe'imizin önceki haline bakarsak gender, height, surname ve weight satırlarında NaN mevcut."
   ]
  },
  {
   "cell_type": "code",
   "execution_count": 19,
   "metadata": {},
   "outputs": [
    {
     "name": "stdout",
     "output_type": "stream",
     "text": [
      "             Hale Ahmet   Fatma\n",
      "age            25    32      40\n",
      "department     CE    EE      TT\n",
      "gender        NaN     M     NaN\n",
      "height        161   NaN     175\n",
      "surname     Çetin   NaN  Gülşen\n",
      "weight        NaN    83     NaN\n"
     ]
    }
   ],
   "source": [
    "students = {\"Hale\" : pd.Series(data= [25, \"Çetin\", \"CE\", 161], index= [\"age\", \"surname\", \"department\", \"height\"]),\n",
    "    \"Ahmet\" : pd.Series(data= [32, \"M\", \"EE\", 83], index= [\"age\", \"gender\", \"department\", \"weight\"]),\n",
    "    \"Fatma\" : pd.Series(data= [40, \"Gülşen\", \"TT\", 175], index= [\"age\", \"surname\", \"department\", \"height\"])\n",
    "}\n",
    "\n",
    "df_students = pd.DataFrame(students)\n",
    "\n",
    "print(df_students)\n",
    "\n",
    "# dataframe atamamızı gözden kaybetmemek için tekrar buraya aldım."
   ]
  },
  {
   "cell_type": "code",
   "execution_count": 20,
   "metadata": {},
   "outputs": [
    {
     "name": "stdout",
     "output_type": "stream",
     "text": [
      "             Hale Ahmet   Fatma\n",
      "age            25    32      40\n",
      "department     CE    EE      TT\n",
      "gender        NaN     M     NaN\n",
      "height        161   NaN     175\n",
      "surname     Çetin   NaN  Gülşen\n",
      "weight        NaN    83     NaN\n"
     ]
    }
   ],
   "source": [
    "df_students.dropna()\n",
    "\n",
    "print(df_students)\n",
    "\n",
    "# dropna metodu bizim orjinal dataframe'imizin üzerinde bir değişiklik yapmaz."
   ]
  },
  {
   "cell_type": "code",
   "execution_count": 21,
   "metadata": {},
   "outputs": [
    {
     "name": "stdout",
     "output_type": "stream",
     "text": [
      "             Hale Ahmet   Fatma\n",
      "age            25    32      40\n",
      "department     CE    EE      TT\n",
      "gender        NaN     M     NaN\n",
      "height        161   NaN     175\n",
      "surname     Çetin   NaN  Gülşen\n",
      "weight        NaN    83     NaN\n",
      "<class 'pandas.core.frame.DataFrame'>\n"
     ]
    }
   ],
   "source": [
    "x = df_students.dropna(how= \"all\")\n",
    "\n",
    "print(x)\n",
    "print(type(x))\n",
    "\n",
    "# dropna metoduna parametre olarak how= \"all\" kullanırsak \n",
    "# Sadece satırdaki bütün verilerin NaN olması durumunda silmesi gerektiğini söyledik.\n",
    "# Böyle bir verimiz olmadığı için dataframe üzerinde değişiklik olmadan yazdırıldı."
   ]
  },
  {
   "cell_type": "code",
   "execution_count": 22,
   "metadata": {},
   "outputs": [
    {
     "name": "stdout",
     "output_type": "stream",
     "text": [
      "             Hale Ahmet   Fatma\n",
      "age            25    32      40\n",
      "department     CE    EE      TT\n",
      "gender        NaN     M     NaN\n",
      "height        161   NaN     175\n",
      "surname     Çetin   NaN  Gülşen\n",
      "weight        NaN  None     NaN\n"
     ]
    }
   ],
   "source": [
    "df_students[\"Ahmet\"][\"weight\"] = None\n",
    "\n",
    "print(df_students)\n",
    "\n",
    "# weight satırımızda Ahmet sütununda dolu olan verimize None atayarak boş görünmesini sağladık.\n",
    "# Şimdi tekrardan how= \"all\" kullanarak ne olduğuna bakalım."
   ]
  },
  {
   "cell_type": "code",
   "execution_count": 23,
   "metadata": {},
   "outputs": [
    {
     "name": "stdout",
     "output_type": "stream",
     "text": [
      "             Hale Ahmet   Fatma\n",
      "age            25    32      40\n",
      "department     CE    EE      TT\n",
      "gender        NaN     M     NaN\n",
      "height        161   NaN     175\n",
      "surname     Çetin   NaN  Gülşen\n",
      "<class 'pandas.core.frame.DataFrame'>\n"
     ]
    }
   ],
   "source": [
    "x = df_students.dropna(how= \"all\")\n",
    "\n",
    "print(x)\n",
    "print(type(x))\n",
    "\n",
    "# Söylediğim gibi weight satırında dolu olan hiçbir sütun kalmadığı için weight satırını silip yazdırdı."
   ]
  },
  {
   "cell_type": "code",
   "execution_count": 25,
   "metadata": {},
   "outputs": [
    {
     "name": "stdout",
     "output_type": "stream",
     "text": [
      "             Hale Ahmet   Fatma\n",
      "age            25    32      40\n",
      "department     CE    EE      TT\n",
      "gender        NaN     M     NaN\n",
      "height        161   NaN     175\n",
      "surname     Çetin   NaN  Gülşen\n",
      "weight        NaN    83     NaN\n"
     ]
    }
   ],
   "source": [
    "students = {\"Hale\" : pd.Series(data= [25, \"Çetin\", \"CE\", 161], index= [\"age\", \"surname\", \"department\", \"height\"]),\n",
    "    \"Ahmet\" : pd.Series(data= [32, \"M\", \"EE\", 83], index= [\"age\", \"gender\", \"department\", \"weight\"]),\n",
    "    \"Fatma\" : pd.Series(data= [40, \"Gülşen\", \"TT\", 175], index= [\"age\", \"surname\", \"department\", \"height\"])\n",
    "}\n",
    "\n",
    "df_students = pd.DataFrame(students)\n",
    "\n",
    "print(df_students)\n",
    "\n",
    "# dataframe atamamızı gözden kaybetmemek için tekrar buraya aldım."
   ]
  },
  {
   "cell_type": "code",
   "execution_count": 26,
   "metadata": {},
   "outputs": [
    {
     "name": "stdout",
     "output_type": "stream",
     "text": [
      "             Hale Ahmet   Fatma\n",
      "age            25    32      40\n",
      "department     CE    EE      TT\n",
      "gender        NaN     M     NaN\n",
      "height        161   NaN     175\n",
      "surname     Çetin   NaN  Gülşen\n",
      "weight        NaN    83     NaN\n",
      "<class 'pandas.core.frame.DataFrame'>\n"
     ]
    }
   ],
   "source": [
    "x = df_students.dropna(thresh= 1)\n",
    "\n",
    "print(x)\n",
    "print(type(x))\n",
    "\n",
    "# thresh= 1 parametresi kullandığımızda hiçbir değişiklik olmadı.\n",
    "# Çünkü thresh= 1 parametresi NaN ifadelerine izin verir."
   ]
  },
  {
   "cell_type": "code",
   "execution_count": 27,
   "metadata": {},
   "outputs": [
    {
     "name": "stdout",
     "output_type": "stream",
     "text": [
      "             Hale Ahmet   Fatma\n",
      "age            25    32      40\n",
      "department     CE    EE      TT\n",
      "height        161   NaN     175\n",
      "surname     Çetin   NaN  Gülşen\n",
      "<class 'pandas.core.frame.DataFrame'>\n"
     ]
    }
   ],
   "source": [
    "x = df_students.dropna(thresh= 2)\n",
    "\n",
    "print(x)\n",
    "print(type(x))\n",
    "\n",
    "# Ancak ben thresh= 1'i thresh= 2 yaparsam \n",
    "# Bu kez satırda 2 tane NaN değeri olan satırları silip yazdırır.\n",
    "# gender ve weight satırlarında 2 adet NaN olduğu için silindiler."
   ]
  },
  {
   "cell_type": "code",
   "execution_count": 28,
   "metadata": {},
   "outputs": [
    {
     "name": "stdout",
     "output_type": "stream",
     "text": [
      "             Hale Ahmet   Fatma\n",
      "age            25    32      40\n",
      "department     CE    EE      TT\n",
      "gender        NaN     M     NaN\n",
      "height        161   NaN     175\n",
      "surname     Çetin   NaN  Gülşen\n",
      "weight        NaN    83     NaN\n"
     ]
    }
   ],
   "source": [
    "students = {\"Hale\" : pd.Series(data= [25, \"Çetin\", \"CE\", 161], index= [\"age\", \"surname\", \"department\", \"height\"]),\n",
    "    \"Ahmet\" : pd.Series(data= [32, \"M\", \"EE\", 83], index= [\"age\", \"gender\", \"department\", \"weight\"]),\n",
    "    \"Fatma\" : pd.Series(data= [40, \"Gülşen\", \"TT\", 175], index= [\"age\", \"surname\", \"department\", \"height\"])\n",
    "}\n",
    "\n",
    "df_students = pd.DataFrame(students)\n",
    "\n",
    "print(df_students)\n",
    "\n",
    "# dataframe atamamızı gözden kaybetmemek için tekrar buraya aldım."
   ]
  },
  {
   "cell_type": "code",
   "execution_count": 29,
   "metadata": {},
   "outputs": [
    {
     "name": "stdout",
     "output_type": "stream",
     "text": [
      "           Hale Ahmet Fatma\n",
      "age          25    32    40\n",
      "department   CE    EE    TT\n",
      "<class 'pandas.core.frame.DataFrame'>\n"
     ]
    }
   ],
   "source": [
    "x = df_students.dropna(axis= 0)\n",
    "\n",
    "print(x)\n",
    "print(type(x))\n",
    "\n",
    "# dropna metodumuzuda axis parametresi de verilebilir.\n",
    "# axis= 0 dediğimizde NaN olan satırların hepsi siliniyor."
   ]
  },
  {
   "cell_type": "code",
   "execution_count": 30,
   "metadata": {},
   "outputs": [
    {
     "name": "stdout",
     "output_type": "stream",
     "text": [
      "Empty DataFrame\n",
      "Columns: []\n",
      "Index: [age, department, gender, height, surname, weight]\n",
      "<class 'pandas.core.frame.DataFrame'>\n"
     ]
    }
   ],
   "source": [
    "y = df_students.dropna(axis= 1)\n",
    "\n",
    "print(y)\n",
    "print(type(y))\n",
    "\n",
    "# axis= 1 dediğimizde NaN olan bütün sütunları siliyor. \n",
    "# NaN değeri olmayan sütun olmadığı için bize boş bir dataframe geri döndürüldü."
   ]
  },
  {
   "cell_type": "code",
   "execution_count": 31,
   "metadata": {},
   "outputs": [],
   "source": [
    "# pandas.pydata.org sitesinden bu ve bunlar gibi bir sürü metot \n",
    "# ve o metotların parametrelerinin nasıl kullanıldığını \n",
    "# ve ne işe yaradığını öğrenebilirsiniz."
   ]
  },
  {
   "cell_type": "code",
   "execution_count": 33,
   "metadata": {},
   "outputs": [
    {
     "name": "stdout",
     "output_type": "stream",
     "text": [
      "             Hale Ahmet   Fatma\n",
      "age            25    32      40\n",
      "department     CE    EE      TT\n",
      "gender        NaN     M     NaN\n",
      "height        161   NaN     175\n",
      "surname     Çetin   NaN  Gülşen\n",
      "weight        NaN    83     NaN\n"
     ]
    }
   ],
   "source": [
    "students = {\"Hale\" : pd.Series(data= [25, \"Çetin\", \"CE\", 161], index= [\"age\", \"surname\", \"department\", \"height\"]),\n",
    "    \"Ahmet\" : pd.Series(data= [32, \"M\", \"EE\", 83], index= [\"age\", \"gender\", \"department\", \"weight\"]),\n",
    "    \"Fatma\" : pd.Series(data= [40, \"Gülşen\", \"TT\", 175], index= [\"age\", \"surname\", \"department\", \"height\"])\n",
    "}\n",
    "\n",
    "df_students = pd.DataFrame(students)\n",
    "\n",
    "print(df_students)\n",
    "\n",
    "# dataframe atamamızı gözden kaybetmemek için tekrar buraya aldım."
   ]
  },
  {
   "cell_type": "code",
   "execution_count": 34,
   "metadata": {},
   "outputs": [
    {
     "name": "stdout",
     "output_type": "stream",
     "text": [
      "           Hale Ahmet Fatma\n",
      "age          25    32    40\n",
      "department   CE    EE    TT\n"
     ]
    }
   ],
   "source": [
    "df_students.dropna(inplace= True)\n",
    "\n",
    "print(df_students)\n",
    "\n",
    "# inplace= True parametresiyle orjinal dataframemimizi değiştirilebilir hale getirdik.\n",
    "# Bu sayede başka değere atamadan df_students 'ı yazdırdığımızda bu çıktıyı aldık."
   ]
  },
  {
   "cell_type": "code",
   "execution_count": 35,
   "metadata": {},
   "outputs": [
    {
     "name": "stdout",
     "output_type": "stream",
     "text": [
      "             Hale Ahmet   Fatma\n",
      "age            25    32      40\n",
      "department     CE    EE      TT\n",
      "gender        NaN     M     NaN\n",
      "height        161   NaN     175\n",
      "surname     Çetin   NaN  Gülşen\n",
      "weight        NaN    83     NaN\n"
     ]
    }
   ],
   "source": [
    "students = {\"Hale\" : pd.Series(data= [25, \"Çetin\", \"CE\", 161], index= [\"age\", \"surname\", \"department\", \"height\"]),\n",
    "    \"Ahmet\" : pd.Series(data= [32, \"M\", \"EE\", 83], index= [\"age\", \"gender\", \"department\", \"weight\"]),\n",
    "    \"Fatma\" : pd.Series(data= [40, \"Gülşen\", \"TT\", 175], index= [\"age\", \"surname\", \"department\", \"height\"])\n",
    "}\n",
    "\n",
    "df_students = pd.DataFrame(students)\n",
    "\n",
    "print(df_students)\n",
    "\n",
    "# dataframe atamamızı gözden kaybetmemek için tekrar buraya aldım."
   ]
  },
  {
   "cell_type": "code",
   "execution_count": 36,
   "metadata": {},
   "outputs": [
    {
     "name": "stdout",
     "output_type": "stream",
     "text": [
      "             Hale Ahmet   Fatma\n",
      "age            25    32      40\n",
      "department     CE    EE      TT\n",
      "gender         CE     M      TT\n",
      "height        161     M     175\n",
      "surname     Çetin     M  Gülşen\n",
      "weight      Çetin    83  Gülşen\n"
     ]
    }
   ],
   "source": [
    "x = df_students.fillna(method= \"ffill\", axis= 0)\n",
    "\n",
    "print(x)\n",
    "\n",
    "# NaN değerleri yerine bir önceki satırda hangi değer varsa onu kopyalıp NaN yerine yazmış oluyor.\n",
    "# Dediğim gibi dökümantasyon okumak çok önemli \n",
    "# Bu ders notlarınında bir çoğunu oradan öğrenerek deniyorum.\n",
    "# Sizde pandas.pydata.org sitesinden dökümantasyonları okuyabilirsiniz."
   ]
  },
  {
   "cell_type": "code",
   "execution_count": 37,
   "metadata": {},
   "outputs": [
    {
     "name": "stdout",
     "output_type": "stream",
     "text": [
      "             Hale  Ahmet   Fatma\n",
      "age            25     32      40\n",
      "department     CE     EE      TT\n",
      "gender        NaN      M       M\n",
      "height        161    161     175\n",
      "surname     Çetin  Çetin  Gülşen\n",
      "weight        NaN     83      83\n"
     ]
    }
   ],
   "source": [
    "x = df_students.fillna(method= \"ffill\", axis= 1)\n",
    "\n",
    "print(x)\n",
    "\n",
    "# axis 'i değiştirdiğimiz için satırdan kopyalama yapmıyor da sütundan kopyalama yapıyor.\n",
    "# Hale sütunundan önce sütun olmadığı için onun değerleri NaN olarak kaldı."
   ]
  },
  {
   "cell_type": "code",
   "execution_count": 38,
   "metadata": {},
   "outputs": [
    {
     "name": "stdout",
     "output_type": "stream",
     "text": [
      "             Hale   Ahmet   Fatma\n",
      "age            25      32      40\n",
      "department     CE      EE      TT\n",
      "gender          M       M     NaN\n",
      "height        161     175     175\n",
      "surname     Çetin  Gülşen  Gülşen\n",
      "weight         83      83     NaN\n"
     ]
    }
   ],
   "source": [
    "x = df_students.fillna(method= \"bfill\", axis= 1)\n",
    "\n",
    "print(x)\n",
    "\n",
    "# method= 'u değiştirip bfill yaparsak bu kezde bir sonraki sütundan kopyalama yapar.\n",
    "# Fatmadan sonra sütun olmadığı için onun değerleri NaN olarak kalmıştır."
   ]
  },
  {
   "cell_type": "code",
   "execution_count": null,
   "metadata": {},
   "outputs": [],
   "source": []
  }
 ],
 "metadata": {
  "kernelspec": {
   "display_name": "Python 3.11.0 64-bit",
   "language": "python",
   "name": "python3"
  },
  "language_info": {
   "codemirror_mode": {
    "name": "ipython",
    "version": 3
   },
   "file_extension": ".py",
   "mimetype": "text/x-python",
   "name": "python",
   "nbconvert_exporter": "python",
   "pygments_lexer": "ipython3",
   "version": "3.11.0"
  },
  "orig_nbformat": 4,
  "vscode": {
   "interpreter": {
    "hash": "7c542dbbc07e6010b76b61de8a453dc04d29cd1fae7fbaa29851ecbad9aefb83"
   }
  }
 },
 "nbformat": 4,
 "nbformat_minor": 2
}
