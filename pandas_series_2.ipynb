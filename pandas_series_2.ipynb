{
 "cells": [
  {
   "cell_type": "code",
   "execution_count": 1,
   "metadata": {},
   "outputs": [],
   "source": [
    "import pandas as pd"
   ]
  },
  {
   "cell_type": "code",
   "execution_count": 3,
   "metadata": {},
   "outputs": [
    {
     "name": "stdout",
     "output_type": "stream",
     "text": [
      "     Review ID Review Date                                     Review Content  \\\n",
      "0      4055629  2012-10-06  Very nice accommodation in an aesthetically pl...   \n",
      "1     25329416  2013-11-03  Me and my friends had such a nice time at Dott...   \n",
      "2     21705849  2014-11-27  I stayed for 4night.She gave us a lot of snuck...   \n",
      "3     41133812  2012-05-08  The apartment was situated on the first floor ...   \n",
      "4      7465026  2013-08-16  Even though it was only for one night, we had ...   \n",
      "..         ...         ...                                                ...   \n",
      "995   44498863  2012-08-30  I loved staying here during my time in Paris. ...   \n",
      "996   30544438  2013-02-28  Highly recommend this as a place to stay if yo...   \n",
      "997   46642535  2014-08-30  John was a great host.  I came in on a red eye...   \n",
      "998   21403195  2014-12-26  Very good experiance had a comfortable stay. V...   \n",
      "999   38944752  2013-10-15  Thank you for the wonderful stay!   It was a c...   \n",
      "\n",
      "                           Listing Title            Neighbourhood  \\\n",
      "0    Nottinghill Portobello  Artist Flat   Kensington and Chelsea   \n",
      "1     Quiet Pink Studio in the PIJP area  De Pijp - Rivierenbuurt   \n",
      "2    PRIVATE Room in Spacious, Quiet Apt                   Harlem   \n",
      "3         Bonito estudio en pleno centro              Universidad   \n",
      "4          Acropolis Apartment brand new                 ΑΚΡΟΠΟΛΗ   \n",
      "..                                   ...                      ...   \n",
      "995              A typical parisian flat        Buttes-Montmartre   \n",
      "996     The Venice Roost on Abbot Kinney                   Venice   \n",
      "997      Top Floor Renovated 1 BR / 1BA              West Roxbury   \n",
      "998  NR LGA/JFK & City Studio W/Bathroom          Jackson Heights   \n",
      "999            15 Minutes from Manhattan                 Woodside   \n",
      "\n",
      "              City                State          Country        Room Type  \\\n",
      "0           London              England   United Kingdom  Entire home/apt   \n",
      "1        Amsterdam        North Holland  The Netherlands     Private room   \n",
      "2    New York City             New York    United States     Private room   \n",
      "3           Madrid  Comunidad de Madrid            Spain  Entire home/apt   \n",
      "4           Athens               Attica           Greece  Entire home/apt   \n",
      "..             ...                  ...              ...              ...   \n",
      "995          Paris        Île-de-France           France     Private room   \n",
      "996    Los Angeles           California    United States  Entire home/apt   \n",
      "997         Boston        Massachusetts    United States  Entire home/apt   \n",
      "998  New York City             New York    United States     Private room   \n",
      "999  New York City             New York    United States     Private room   \n",
      "\n",
      "     Room Price  Room Availability  \n",
      "0           100                338  \n",
      "1            80                 10  \n",
      "2            57                268  \n",
      "3            38                274  \n",
      "4            62                281  \n",
      "..          ...                ...  \n",
      "995          35                329  \n",
      "996         191                309  \n",
      "997          95                 10  \n",
      "998          75                357  \n",
      "999         110                329  \n",
      "\n",
      "[1000 rows x 11 columns]\n"
     ]
    }
   ],
   "source": [
    "print(pd.read_csv(\"ReviewContent.csv\", encoding= \"utf-8\", engine= \"python\"))\n",
    "\n",
    "# Dosyamızın içinde bulunan ReviewContent.csv dosyasını okuttuk."
   ]
  },
  {
   "cell_type": "code",
   "execution_count": 4,
   "metadata": {},
   "outputs": [
    {
     "name": "stdout",
     "output_type": "stream",
     "text": [
      "<class 'pandas.core.frame.DataFrame'>\n"
     ]
    }
   ],
   "source": [
    "review_content = pd.read_csv(\"ReviewContent.csv\", encoding= \"utf-8\", engine= \"python\")\n",
    "\n",
    "print(type(review_content))\n",
    "\n",
    "# 11 columns yani 11 sütunlu olduğu için class name olarak dataframe aldık.\n",
    "# DataFrame pandastaki çok boyutlu listelerdir.\n",
    "# Biz şu an Series olarak çalışıyoruz."
   ]
  },
  {
   "cell_type": "code",
   "execution_count": 5,
   "metadata": {},
   "outputs": [
    {
     "name": "stdout",
     "output_type": "stream",
     "text": [
      "<class 'pandas.core.frame.DataFrame'>\n"
     ]
    },
    {
     "name": "stderr",
     "output_type": "stream",
     "text": [
      "C:\\Users\\Fallrytme\\AppData\\Local\\Temp\\ipykernel_3112\\2546972236.py:1: FutureWarning: The squeeze argument has been deprecated and will be removed in a future version. Append .squeeze(\"columns\") to the call to squeeze.\n",
      "\n",
      "\n",
      "  review_content = pd.read_csv(\"ReviewContent.csv\", squeeze= True, encoding= \"utf-8\", engine= \"python\")\n"
     ]
    }
   ],
   "source": [
    "review_content = pd.read_csv(\"ReviewContent.csv\", squeeze= True, encoding= \"utf-8\", engine= \"python\")\n",
    "\n",
    "print(type(review_content))\n",
    "\n",
    "# squeeze parametresi eklememize rağmen hala dataframe olarak gözüküyor.\n",
    "# çünkü hala 1den fazla sütunumuz mevcut."
   ]
  },
  {
   "cell_type": "code",
   "execution_count": 6,
   "metadata": {},
   "outputs": [
    {
     "name": "stdout",
     "output_type": "stream",
     "text": [
      "<class 'pandas.core.series.Series'>\n"
     ]
    },
    {
     "name": "stderr",
     "output_type": "stream",
     "text": [
      "C:\\Users\\Fallrytme\\AppData\\Local\\Temp\\ipykernel_3112\\149493139.py:1: FutureWarning: The squeeze argument has been deprecated and will be removed in a future version. Append .squeeze(\"columns\") to the call to squeeze.\n",
      "\n",
      "\n",
      "  review_content = pd.read_csv(\"ReviewContent.csv\", usecols= [\"Review ID\"], squeeze= True, encoding= \"utf-8\", engine= \"python\")\n"
     ]
    }
   ],
   "source": [
    "review_content = pd.read_csv(\"ReviewContent.csv\", usecols= [\"Review ID\"], squeeze= True, encoding= \"utf-8\", engine= \"python\")\n",
    "\n",
    "print(type(review_content))\n",
    "\n",
    "# usecols parametresiyle çalışacağımız sütunu belirttiğimizde artık class olarak Series cevabını alabildik."
   ]
  },
  {
   "cell_type": "code",
   "execution_count": 7,
   "metadata": {},
   "outputs": [
    {
     "name": "stdout",
     "output_type": "stream",
     "text": [
      "0       4055629\n",
      "1      25329416\n",
      "2      21705849\n",
      "3      41133812\n",
      "4       7465026\n",
      "         ...   \n",
      "995    44498863\n",
      "996    30544438\n",
      "997    46642535\n",
      "998    21403195\n",
      "999    38944752\n",
      "Name: Review ID, Length: 1000, dtype: int64\n"
     ]
    }
   ],
   "source": [
    "print(review_content)\n",
    "\n",
    "# Gördüğünüz gibi artık sadece review id'leri gösterebildik."
   ]
  },
  {
   "cell_type": "code",
   "execution_count": 9,
   "metadata": {},
   "outputs": [
    {
     "name": "stdout",
     "output_type": "stream",
     "text": [
      "0      Very nice accommodation in an aesthetically pl...\n",
      "1      Me and my friends had such a nice time at Dott...\n",
      "2      I stayed for 4night.She gave us a lot of snuck...\n",
      "3      The apartment was situated on the first floor ...\n",
      "4      Even though it was only for one night, we had ...\n",
      "                             ...                        \n",
      "995    I loved staying here during my time in Paris. ...\n",
      "996    Highly recommend this as a place to stay if yo...\n",
      "997    John was a great host.  I came in on a red eye...\n",
      "998    Very good experiance had a comfortable stay. V...\n",
      "999    Thank you for the wonderful stay!   It was a c...\n",
      "Name: Review Content, Length: 1000, dtype: object\n"
     ]
    },
    {
     "name": "stderr",
     "output_type": "stream",
     "text": [
      "C:\\Users\\Fallrytme\\AppData\\Local\\Temp\\ipykernel_3112\\3879708487.py:1: FutureWarning: The squeeze argument has been deprecated and will be removed in a future version. Append .squeeze(\"columns\") to the call to squeeze.\n",
      "\n",
      "\n",
      "  review_content = pd.read_csv(\"ReviewContent.csv\", usecols= [\"Review Content\"], squeeze= True, encoding= \"utf-8\", engine= \"python\")\n"
     ]
    }
   ],
   "source": [
    "review_content = pd.read_csv(\"ReviewContent.csv\", usecols= [\"Review Content\"], squeeze= True, encoding= \"utf-8\", engine= \"python\")\n",
    "\n",
    "print(review_content)\n",
    "\n",
    "# usecolsta istediğimiz sütunu belirterek farklı sütunları tek tek alarak üzerinde çalışabiliyoruz."
   ]
  },
  {
   "cell_type": "code",
   "execution_count": 11,
   "metadata": {},
   "outputs": [
    {
     "name": "stdout",
     "output_type": "stream",
     "text": [
      "<class 'pandas.core.frame.DataFrame'>\n"
     ]
    },
    {
     "name": "stderr",
     "output_type": "stream",
     "text": [
      "C:\\Users\\Fallrytme\\AppData\\Local\\Temp\\ipykernel_3112\\842530650.py:1: FutureWarning: The squeeze argument has been deprecated and will be removed in a future version. Append .squeeze(\"columns\") to the call to squeeze.\n",
      "\n",
      "\n",
      "  review_content = pd.read_csv(\"ReviewContent.csv\", usecols= [\"Review ID\"], squeeze= False, encoding= \"utf-8\", engine= \"python\")\n"
     ]
    }
   ],
   "source": [
    "review_content = pd.read_csv(\"ReviewContent.csv\", usecols= [\"Review ID\"], squeeze= False, encoding= \"utf-8\", engine= \"python\")\n",
    "\n",
    "print(type(review_content))\n",
    "\n",
    "# squeeze parametresi False'a çevirdik. O False olduğu sürece verimiz dataframe olur."
   ]
  },
  {
   "cell_type": "code",
   "execution_count": 18,
   "metadata": {},
   "outputs": [
    {
     "name": "stdout",
     "output_type": "stream",
     "text": [
      "     Review ID\n",
      "0      4055629\n",
      "1     25329416\n",
      "2     21705849\n",
      "3     41133812\n",
      "4      7465026\n",
      "..         ...\n",
      "995   44498863\n",
      "996   30544438\n",
      "997   46642535\n",
      "998   21403195\n",
      "999   38944752\n",
      "\n",
      "[1000 rows x 1 columns]\n"
     ]
    },
    {
     "name": "stderr",
     "output_type": "stream",
     "text": [
      "C:\\Users\\Fallrytme\\AppData\\Local\\Temp\\ipykernel_3112\\1719313706.py:1: FutureWarning: The squeeze argument has been deprecated and will be removed in a future version. Append .squeeze(\"columns\") to the call to squeeze.\n",
      "\n",
      "\n",
      "  review_content = pd.read_csv(\"ReviewContent.csv\", usecols= [\"Review ID\"], squeeze= False, encoding= \"utf-8\", engine= \"python\")\n"
     ]
    }
   ],
   "source": [
    "review_content = pd.read_csv(\"ReviewContent.csv\", usecols= [\"Review ID\"], squeeze= False, encoding= \"utf-8\", engine= \"python\")\n",
    "\n",
    "print(review_content)"
   ]
  },
  {
   "cell_type": "code",
   "execution_count": 19,
   "metadata": {},
   "outputs": [
    {
     "name": "stdout",
     "output_type": "stream",
     "text": [
      "   Review ID\n",
      "0    4055629\n",
      "1   25329416\n",
      "2   21705849\n",
      "3   41133812\n",
      "4    7465026\n"
     ]
    },
    {
     "name": "stderr",
     "output_type": "stream",
     "text": [
      "C:\\Users\\Fallrytme\\AppData\\Local\\Temp\\ipykernel_3112\\2651858663.py:1: FutureWarning: The squeeze argument has been deprecated and will be removed in a future version. Append .squeeze(\"columns\") to the call to squeeze.\n",
      "\n",
      "\n",
      "  review_content = pd.read_csv(\"ReviewContent.csv\", usecols= [\"Review ID\"], squeeze= False, encoding= \"utf-8\", engine= \"python\")\n"
     ]
    }
   ],
   "source": [
    "review_content = pd.read_csv(\"ReviewContent.csv\", usecols= [\"Review ID\"], squeeze= False, encoding= \"utf-8\", engine= \"python\")\n",
    "\n",
    "print(review_content.head())\n",
    "\n",
    "# head parametresiyle sadece ilk 5 veriyi görebiliyoruz."
   ]
  },
  {
   "cell_type": "code",
   "execution_count": 20,
   "metadata": {},
   "outputs": [
    {
     "name": "stdout",
     "output_type": "stream",
     "text": [
      "   Review ID\n",
      "0    4055629\n",
      "1   25329416\n",
      "2   21705849\n"
     ]
    },
    {
     "name": "stderr",
     "output_type": "stream",
     "text": [
      "C:\\Users\\Fallrytme\\AppData\\Local\\Temp\\ipykernel_3112\\2886164878.py:1: FutureWarning: The squeeze argument has been deprecated and will be removed in a future version. Append .squeeze(\"columns\") to the call to squeeze.\n",
      "\n",
      "\n",
      "  review_content = pd.read_csv(\"ReviewContent.csv\", usecols= [\"Review ID\"], squeeze= False, encoding= \"utf-8\", engine= \"python\")\n"
     ]
    }
   ],
   "source": [
    "review_content = pd.read_csv(\"ReviewContent.csv\", usecols= [\"Review ID\"], squeeze= False, encoding= \"utf-8\", engine= \"python\")\n",
    "\n",
    "print(review_content.head(3))\n",
    "\n",
    "# eğer head parametresinin içini doldurursak kaç yazdıysak başından itibaren o kadar veriyi bize gösterir."
   ]
  },
  {
   "cell_type": "code",
   "execution_count": 21,
   "metadata": {},
   "outputs": [
    {
     "name": "stdout",
     "output_type": "stream",
     "text": [
      "    Review ID\n",
      "0     4055629\n",
      "1    25329416\n",
      "2    21705849\n",
      "3    41133812\n",
      "4     7465026\n",
      "5    11372151\n",
      "6    20417380\n",
      "7    10787310\n",
      "8    37085487\n",
      "9    15542291\n",
      "10   24326991\n",
      "11   28951458\n",
      "12   22408370\n"
     ]
    },
    {
     "name": "stderr",
     "output_type": "stream",
     "text": [
      "C:\\Users\\Fallrytme\\AppData\\Local\\Temp\\ipykernel_3112\\3270520129.py:1: FutureWarning: The squeeze argument has been deprecated and will be removed in a future version. Append .squeeze(\"columns\") to the call to squeeze.\n",
      "\n",
      "\n",
      "  review_content = pd.read_csv(\"ReviewContent.csv\", usecols= [\"Review ID\"], squeeze= False, encoding= \"utf-8\", engine= \"python\")\n"
     ]
    }
   ],
   "source": [
    "review_content = pd.read_csv(\"ReviewContent.csv\", usecols= [\"Review ID\"], squeeze= False, encoding= \"utf-8\", engine= \"python\")\n",
    "\n",
    "print(review_content.head(13))\n",
    "\n",
    "# Bu da başka bir örnektir."
   ]
  },
  {
   "cell_type": "code",
   "execution_count": 22,
   "metadata": {},
   "outputs": [
    {
     "name": "stdout",
     "output_type": "stream",
     "text": [
      "     Review ID\n",
      "995   44498863\n",
      "996   30544438\n",
      "997   46642535\n",
      "998   21403195\n",
      "999   38944752\n"
     ]
    }
   ],
   "source": [
    "print(review_content.tail())\n",
    "\n",
    "# tail metodu da bize sondan itibaren 5 veriyi göstermeye başlar."
   ]
  },
  {
   "cell_type": "code",
   "execution_count": 23,
   "metadata": {},
   "outputs": [
    {
     "name": "stdout",
     "output_type": "stream",
     "text": [
      "     Review ID\n",
      "992   13423090\n",
      "993   27392171\n",
      "994   28605533\n",
      "995   44498863\n",
      "996   30544438\n",
      "997   46642535\n",
      "998   21403195\n",
      "999   38944752\n"
     ]
    }
   ],
   "source": [
    "print(review_content.tail(8))\n",
    "\n",
    "# Eğer tail metodunun parametresini doldurursak yazdığımız sayı kadar sondan veri alırız."
   ]
  },
  {
   "cell_type": "code",
   "execution_count": 32,
   "metadata": {},
   "outputs": [
    {
     "name": "stdout",
     "output_type": "stream",
     "text": [
      "0     4055629\n",
      "1    25329416\n",
      "2    21705849\n",
      "3    41133812\n",
      "4     7465026\n",
      "5    11372151\n",
      "6    20417380\n",
      "7    10787310\n",
      "8    37085487\n",
      "9    15542291\n",
      "Name: Review ID, dtype: int64\n"
     ]
    },
    {
     "name": "stderr",
     "output_type": "stream",
     "text": [
      "C:\\Users\\Fallrytme\\AppData\\Local\\Temp\\ipykernel_3112\\2060009196.py:1: FutureWarning: The squeeze argument has been deprecated and will be removed in a future version. Append .squeeze(\"columns\") to the call to squeeze.\n",
      "\n",
      "\n",
      "  review_content = pd.read_csv(\"ReviewContent.csv\", usecols= [\"Review ID\"], squeeze= True, encoding= \"utf-8\", engine= \"python\")\n"
     ]
    }
   ],
   "source": [
    "review_content = pd.read_csv(\"ReviewContent.csv\", usecols= [\"Review ID\"], squeeze= True, encoding= \"utf-8\", engine= \"python\")\n",
    "\n",
    "print(review_content.head(10))\n",
    "\n",
    "# Burada index numarasına göre en küçük 10 sayıyı yazdırıyor."
   ]
  },
  {
   "cell_type": "code",
   "execution_count": 34,
   "metadata": {},
   "outputs": [
    {
     "name": "stdout",
     "output_type": "stream",
     "text": [
      "516     41756\n",
      "535     67176\n",
      "766     97586\n",
      "741    123549\n",
      "560    151811\n",
      "847    205942\n",
      "188    432284\n",
      "65     443786\n",
      "954    499085\n",
      "453    503200\n",
      "Name: Review ID, dtype: int64\n"
     ]
    }
   ],
   "source": [
    "print(review_content.sort_values().head(10))\n",
    "\n",
    "# Burada ise verileri Review Id'sine göre sıralayıp en küçük 10 veriyi bize yazdırdı."
   ]
  },
  {
   "cell_type": "code",
   "execution_count": 35,
   "metadata": {},
   "outputs": [
    {
     "name": "stdout",
     "output_type": "stream",
     "text": [
      "516     41756\n",
      "535     67176\n",
      "766     97586\n",
      "741    123549\n",
      "560    151811\n",
      "847    205942\n",
      "188    432284\n",
      "65     443786\n",
      "954    499085\n",
      "453    503200\n",
      "Name: Review ID, dtype: int64\n"
     ]
    }
   ],
   "source": [
    "review_content.sort_values(inplace= True)\n",
    "\n",
    "print(review_content.head(10))\n",
    "\n",
    "# Yapılan sıralamayı artık ana Seriesimize kaydettik."
   ]
  },
  {
   "cell_type": "code",
   "execution_count": 36,
   "metadata": {},
   "outputs": [
    {
     "name": "stdout",
     "output_type": "stream",
     "text": [
      "516       41756\n",
      "535       67176\n",
      "766       97586\n",
      "741      123549\n",
      "560      151811\n",
      "         ...   \n",
      "950    50633128\n",
      "851    51458116\n",
      "708    52109736\n",
      "669    52202396\n",
      "458    53103380\n",
      "Name: Review ID, Length: 1000, dtype: int64\n"
     ]
    }
   ],
   "source": [
    "print(review_content)\n",
    "\n",
    "# Buradan da değişimi görebilirsiniz."
   ]
  },
  {
   "cell_type": "code",
   "execution_count": 37,
   "metadata": {},
   "outputs": [
    {
     "name": "stdout",
     "output_type": "stream",
     "text": [
      "458    53103380\n",
      "669    52202396\n",
      "708    52109736\n",
      "851    51458116\n",
      "950    50633128\n",
      "593    50312111\n",
      "185    50131316\n",
      "835    49038595\n",
      "922    48937030\n",
      "327    48827512\n",
      "Name: Review ID, dtype: int64\n"
     ]
    }
   ],
   "source": [
    "review_content.sort_values(inplace= True, ascending= False)\n",
    "\n",
    "print(review_content.head(10))\n",
    "\n",
    "# Sıralamayı ascending parametresi ile büyükten küçüğe şeklinde yaptık."
   ]
  },
  {
   "cell_type": "code",
   "execution_count": 39,
   "metadata": {},
   "outputs": [
    {
     "name": "stdout",
     "output_type": "stream",
     "text": [
      "0     4055629\n",
      "1    25329416\n",
      "2    21705849\n",
      "3    41133812\n",
      "4     7465026\n",
      "5    11372151\n",
      "6    20417380\n",
      "7    10787310\n",
      "8    37085487\n",
      "9    15542291\n",
      "Name: Review ID, dtype: int64\n"
     ]
    },
    {
     "name": "stderr",
     "output_type": "stream",
     "text": [
      "C:\\Users\\Fallrytme\\AppData\\Local\\Temp\\ipykernel_3112\\2060009196.py:1: FutureWarning: The squeeze argument has been deprecated and will be removed in a future version. Append .squeeze(\"columns\") to the call to squeeze.\n",
      "\n",
      "\n",
      "  review_content = pd.read_csv(\"ReviewContent.csv\", usecols= [\"Review ID\"], squeeze= True, encoding= \"utf-8\", engine= \"python\")\n"
     ]
    }
   ],
   "source": [
    "review_content = pd.read_csv(\"ReviewContent.csv\", usecols= [\"Review ID\"], squeeze= True, encoding= \"utf-8\", engine= \"python\")\n",
    "\n",
    "print(review_content.head(10))"
   ]
  },
  {
   "cell_type": "code",
   "execution_count": 40,
   "metadata": {},
   "outputs": [
    {
     "name": "stdout",
     "output_type": "stream",
     "text": [
      "999    38944752\n",
      "998    21403195\n",
      "997    46642535\n",
      "996    30544438\n",
      "995    44498863\n",
      "         ...   \n",
      "4       7465026\n",
      "3      41133812\n",
      "2      21705849\n",
      "1      25329416\n",
      "0       4055629\n",
      "Name: Review ID, Length: 1000, dtype: int64\n"
     ]
    }
   ],
   "source": [
    "review_content.sort_index(ascending= False, inplace= True)\n",
    "\n",
    "print(review_content)\n",
    "\n",
    "# İndexe göre sıralama yaptık.\n",
    "# ascending parametresiyle sıralamayı ters çevirdik.\n",
    "# inplace parametresiyle de bu sıralamayı kalıcı hale getirdik."
   ]
  },
  {
   "cell_type": "code",
   "execution_count": 41,
   "metadata": {},
   "outputs": [
    {
     "name": "stdout",
     "output_type": "stream",
     "text": [
      "0     4055629\n",
      "1    25329416\n",
      "2    21705849\n",
      "3    41133812\n",
      "4     7465026\n",
      "5    11372151\n",
      "6    20417380\n",
      "7    10787310\n",
      "8    37085487\n",
      "9    15542291\n",
      "Name: Review ID, dtype: int64\n"
     ]
    },
    {
     "name": "stderr",
     "output_type": "stream",
     "text": [
      "C:\\Users\\Fallrytme\\AppData\\Local\\Temp\\ipykernel_3112\\2060009196.py:1: FutureWarning: The squeeze argument has been deprecated and will be removed in a future version. Append .squeeze(\"columns\") to the call to squeeze.\n",
      "\n",
      "\n",
      "  review_content = pd.read_csv(\"ReviewContent.csv\", usecols= [\"Review ID\"], squeeze= True, encoding= \"utf-8\", engine= \"python\")\n"
     ]
    }
   ],
   "source": [
    "review_content = pd.read_csv(\"ReviewContent.csv\", usecols= [\"Review ID\"], squeeze= True, encoding= \"utf-8\", engine= \"python\")\n",
    "\n",
    "print(review_content.head(10))"
   ]
  },
  {
   "cell_type": "code",
   "execution_count": 42,
   "metadata": {},
   "outputs": [
    {
     "name": "stdout",
     "output_type": "stream",
     "text": [
      "516       41756\n",
      "535       67176\n",
      "766       97586\n",
      "741      123549\n",
      "560      151811\n",
      "         ...   \n",
      "950    50633128\n",
      "851    51458116\n",
      "708    52109736\n",
      "669    52202396\n",
      "458    53103380\n",
      "Name: Review ID, Length: 1000, dtype: int64\n"
     ]
    }
   ],
   "source": [
    "review_content.sort_values(inplace= True)\n",
    "\n",
    "print(review_content)\n",
    "\n",
    "# Veriye göre sıralama yaptık."
   ]
  },
  {
   "cell_type": "code",
   "execution_count": 44,
   "metadata": {},
   "outputs": [
    {
     "name": "stdout",
     "output_type": "stream",
     "text": [
      "0       4055629\n",
      "1      25329416\n",
      "2      21705849\n",
      "3      41133812\n",
      "4       7465026\n",
      "         ...   \n",
      "995    44498863\n",
      "996    30544438\n",
      "997    46642535\n",
      "998    21403195\n",
      "999    38944752\n",
      "Name: Review ID, Length: 1000, dtype: int64\n"
     ]
    }
   ],
   "source": [
    "review_content.sort_index(inplace= True)\n",
    "\n",
    "print(review_content)\n",
    "\n",
    "# İndexe göre sıralama yaptık."
   ]
  },
  {
   "cell_type": "code",
   "execution_count": 45,
   "metadata": {},
   "outputs": [
    {
     "name": "stdout",
     "output_type": "stream",
     "text": [
      "7465026\n"
     ]
    }
   ],
   "source": [
    "print(review_content[4])\n",
    "\n",
    "# index numarasıyla veriye ulaşmayı başardık."
   ]
  },
  {
   "cell_type": "code",
   "execution_count": 46,
   "metadata": {},
   "outputs": [
    {
     "name": "stdout",
     "output_type": "stream",
     "text": [
      "7465026\n"
     ]
    }
   ],
   "source": [
    "print(review_content.get(4))\n",
    "\n",
    "# Aynı işlemi get metodu yardımıyla da yapabiliyoruz."
   ]
  },
  {
   "cell_type": "code",
   "execution_count": 47,
   "metadata": {},
   "outputs": [
    {
     "ename": "KeyError",
     "evalue": "1004",
     "output_type": "error",
     "traceback": [
      "\u001b[1;31m---------------------------------------------------------------------------\u001b[0m",
      "\u001b[1;31mKeyError\u001b[0m                                  Traceback (most recent call last)",
      "File \u001b[1;32mc:\\Users\\Fallrytme\\AppData\\Local\\Programs\\Python\\Python311\\Lib\\site-packages\\pandas\\core\\indexes\\base.py:3802\u001b[0m, in \u001b[0;36mIndex.get_loc\u001b[1;34m(self, key, method, tolerance)\u001b[0m\n\u001b[0;32m   3801\u001b[0m \u001b[39mtry\u001b[39;00m:\n\u001b[1;32m-> 3802\u001b[0m     \u001b[39mreturn\u001b[39;00m \u001b[39mself\u001b[39;49m\u001b[39m.\u001b[39;49m_engine\u001b[39m.\u001b[39;49mget_loc(casted_key)\n\u001b[0;32m   3803\u001b[0m \u001b[39mexcept\u001b[39;00m \u001b[39mKeyError\u001b[39;00m \u001b[39mas\u001b[39;00m err:\n",
      "File \u001b[1;32mc:\\Users\\Fallrytme\\AppData\\Local\\Programs\\Python\\Python311\\Lib\\site-packages\\pandas\\_libs\\index.pyx:138\u001b[0m, in \u001b[0;36mpandas._libs.index.IndexEngine.get_loc\u001b[1;34m()\u001b[0m\n",
      "File \u001b[1;32mc:\\Users\\Fallrytme\\AppData\\Local\\Programs\\Python\\Python311\\Lib\\site-packages\\pandas\\_libs\\index.pyx:165\u001b[0m, in \u001b[0;36mpandas._libs.index.IndexEngine.get_loc\u001b[1;34m()\u001b[0m\n",
      "File \u001b[1;32mpandas\\_libs\\hashtable_class_helper.pxi:2263\u001b[0m, in \u001b[0;36mpandas._libs.hashtable.Int64HashTable.get_item\u001b[1;34m()\u001b[0m\n",
      "File \u001b[1;32mpandas\\_libs\\hashtable_class_helper.pxi:2273\u001b[0m, in \u001b[0;36mpandas._libs.hashtable.Int64HashTable.get_item\u001b[1;34m()\u001b[0m\n",
      "\u001b[1;31mKeyError\u001b[0m: 1004",
      "\nThe above exception was the direct cause of the following exception:\n",
      "\u001b[1;31mKeyError\u001b[0m                                  Traceback (most recent call last)",
      "Cell \u001b[1;32mIn [47], line 1\u001b[0m\n\u001b[1;32m----> 1\u001b[0m \u001b[39mprint\u001b[39m(review_content[\u001b[39m1004\u001b[39;49m])\n\u001b[0;32m      3\u001b[0m \u001b[39m# 1004 elemanımız olmadığı için hata alıyoruz.\u001b[39;00m\n",
      "File \u001b[1;32mc:\\Users\\Fallrytme\\AppData\\Local\\Programs\\Python\\Python311\\Lib\\site-packages\\pandas\\core\\series.py:981\u001b[0m, in \u001b[0;36mSeries.__getitem__\u001b[1;34m(self, key)\u001b[0m\n\u001b[0;32m    978\u001b[0m     \u001b[39mreturn\u001b[39;00m \u001b[39mself\u001b[39m\u001b[39m.\u001b[39m_values[key]\n\u001b[0;32m    980\u001b[0m \u001b[39melif\u001b[39;00m key_is_scalar:\n\u001b[1;32m--> 981\u001b[0m     \u001b[39mreturn\u001b[39;00m \u001b[39mself\u001b[39;49m\u001b[39m.\u001b[39;49m_get_value(key)\n\u001b[0;32m    983\u001b[0m \u001b[39mif\u001b[39;00m is_hashable(key):\n\u001b[0;32m    984\u001b[0m     \u001b[39m# Otherwise index.get_value will raise InvalidIndexError\u001b[39;00m\n\u001b[0;32m    985\u001b[0m     \u001b[39mtry\u001b[39;00m:\n\u001b[0;32m    986\u001b[0m         \u001b[39m# For labels that don't resolve as scalars like tuples and frozensets\u001b[39;00m\n",
      "File \u001b[1;32mc:\\Users\\Fallrytme\\AppData\\Local\\Programs\\Python\\Python311\\Lib\\site-packages\\pandas\\core\\series.py:1089\u001b[0m, in \u001b[0;36mSeries._get_value\u001b[1;34m(self, label, takeable)\u001b[0m\n\u001b[0;32m   1086\u001b[0m     \u001b[39mreturn\u001b[39;00m \u001b[39mself\u001b[39m\u001b[39m.\u001b[39m_values[label]\n\u001b[0;32m   1088\u001b[0m \u001b[39m# Similar to Index.get_value, but we do not fall back to positional\u001b[39;00m\n\u001b[1;32m-> 1089\u001b[0m loc \u001b[39m=\u001b[39m \u001b[39mself\u001b[39;49m\u001b[39m.\u001b[39;49mindex\u001b[39m.\u001b[39;49mget_loc(label)\n\u001b[0;32m   1090\u001b[0m \u001b[39mreturn\u001b[39;00m \u001b[39mself\u001b[39m\u001b[39m.\u001b[39mindex\u001b[39m.\u001b[39m_get_values_for_loc(\u001b[39mself\u001b[39m, loc, label)\n",
      "File \u001b[1;32mc:\\Users\\Fallrytme\\AppData\\Local\\Programs\\Python\\Python311\\Lib\\site-packages\\pandas\\core\\indexes\\base.py:3804\u001b[0m, in \u001b[0;36mIndex.get_loc\u001b[1;34m(self, key, method, tolerance)\u001b[0m\n\u001b[0;32m   3802\u001b[0m     \u001b[39mreturn\u001b[39;00m \u001b[39mself\u001b[39m\u001b[39m.\u001b[39m_engine\u001b[39m.\u001b[39mget_loc(casted_key)\n\u001b[0;32m   3803\u001b[0m \u001b[39mexcept\u001b[39;00m \u001b[39mKeyError\u001b[39;00m \u001b[39mas\u001b[39;00m err:\n\u001b[1;32m-> 3804\u001b[0m     \u001b[39mraise\u001b[39;00m \u001b[39mKeyError\u001b[39;00m(key) \u001b[39mfrom\u001b[39;00m \u001b[39merr\u001b[39;00m\n\u001b[0;32m   3805\u001b[0m \u001b[39mexcept\u001b[39;00m \u001b[39mTypeError\u001b[39;00m:\n\u001b[0;32m   3806\u001b[0m     \u001b[39m# If we have a listlike key, _check_indexing_error will raise\u001b[39;00m\n\u001b[0;32m   3807\u001b[0m     \u001b[39m#  InvalidIndexError. Otherwise we fall through and re-raise\u001b[39;00m\n\u001b[0;32m   3808\u001b[0m     \u001b[39m#  the TypeError.\u001b[39;00m\n\u001b[0;32m   3809\u001b[0m     \u001b[39mself\u001b[39m\u001b[39m.\u001b[39m_check_indexing_error(key)\n",
      "\u001b[1;31mKeyError\u001b[0m: 1004"
     ]
    }
   ],
   "source": [
    "print(review_content[1004])\n",
    "\n",
    "# 1004 elemanımız olmadığı için hata alıyoruz."
   ]
  },
  {
   "cell_type": "code",
   "execution_count": 48,
   "metadata": {},
   "outputs": [
    {
     "name": "stdout",
     "output_type": "stream",
     "text": [
      "None\n"
     ]
    }
   ],
   "source": [
    "print(review_content.get(1004))\n",
    "\n",
    "# get metodunda ise bize hata vermek yerine None değerini geri döndürüyor."
   ]
  },
  {
   "cell_type": "code",
   "execution_count": 49,
   "metadata": {},
   "outputs": [
    {
     "name": "stdout",
     "output_type": "stream",
     "text": [
      "Eleman yok!\n"
     ]
    }
   ],
   "source": [
    "print(review_content.get(1004, default= \"Eleman yok!\"))\n",
    "\n",
    "# Eleman olmayan yerlere de default parametresiyle istediğimiz veriyi girebiliriz."
   ]
  },
  {
   "cell_type": "code",
   "execution_count": 50,
   "metadata": {},
   "outputs": [
    {
     "name": "stdout",
     "output_type": "stream",
     "text": [
      "<class 'numpy.int64'>\n",
      "<class 'numpy.int64'>\n"
     ]
    }
   ],
   "source": [
    "print(type(review_content[4]))\n",
    "\n",
    "print(type(review_content.get(4)))\n",
    "\n",
    "# pandas Series'imizin içinde olan tek bir değer gördüğünüz gibi numpy tanımlı olduğunu görebiliyoruz."
   ]
  },
  {
   "cell_type": "code",
   "execution_count": 51,
   "metadata": {},
   "outputs": [
    {
     "name": "stdout",
     "output_type": "stream",
     "text": [
      "0    4055629\n",
      "4    7465026\n",
      "Name: Review ID, dtype: int64\n"
     ]
    }
   ],
   "source": [
    "print(review_content.get([0, 4]))\n",
    "\n",
    "# get metodunun parametrelerini liste içine alarak birden fazla veriye çağırma işlemi yapabiliriz."
   ]
  },
  {
   "cell_type": "code",
   "execution_count": 52,
   "metadata": {},
   "outputs": [
    {
     "name": "stdout",
     "output_type": "stream",
     "text": [
      "<class 'pandas.core.series.Series'>\n"
     ]
    }
   ],
   "source": [
    "print(type(review_content.get([0, 4])))\n",
    "\n",
    "# Birden fazla değer olduğu için artık bu numpy değil pandas Series sayılır."
   ]
  },
  {
   "cell_type": "code",
   "execution_count": null,
   "metadata": {},
   "outputs": [],
   "source": []
  }
 ],
 "metadata": {
  "kernelspec": {
   "display_name": "Python 3.11.0 64-bit",
   "language": "python",
   "name": "python3"
  },
  "language_info": {
   "codemirror_mode": {
    "name": "ipython",
    "version": 3
   },
   "file_extension": ".py",
   "mimetype": "text/x-python",
   "name": "python",
   "nbconvert_exporter": "python",
   "pygments_lexer": "ipython3",
   "version": "3.11.0"
  },
  "orig_nbformat": 4,
  "vscode": {
   "interpreter": {
    "hash": "7c542dbbc07e6010b76b61de8a453dc04d29cd1fae7fbaa29851ecbad9aefb83"
   }
  }
 },
 "nbformat": 4,
 "nbformat_minor": 2
}
