{
 "cells": [
  {
   "cell_type": "code",
   "execution_count": 1,
   "metadata": {},
   "outputs": [],
   "source": [
    "import pandas as pd"
   ]
  },
  {
   "cell_type": "code",
   "execution_count": 9,
   "metadata": {},
   "outputs": [
    {
     "name": "stdout",
     "output_type": "stream",
     "text": [
      "     Review ID Review Date                                     Review Content  \\\n",
      "0      4055629  2012-10-06  Very nice accommodation in an aesthetically pl...   \n",
      "1     25329416  2013-11-03  Me and my friends had such a nice time at Dott...   \n",
      "2     21705849  2014-11-27  I stayed for 4night.She gave us a lot of snuck...   \n",
      "3     41133812  2012-05-08  The apartment was situated on the first floor ...   \n",
      "4      7465026  2013-08-16  Even though it was only for one night, we had ...   \n",
      "..         ...         ...                                                ...   \n",
      "995   44498863  2012-08-30  I loved staying here during my time in Paris. ...   \n",
      "996   30544438  2013-02-28  Highly recommend this as a place to stay if yo...   \n",
      "997   46642535  2014-08-30  John was a great host.  I came in on a red eye...   \n",
      "998   21403195  2014-12-26  Very good experiance had a comfortable stay. V...   \n",
      "999   38944752  2013-10-15  Thank you for the wonderful stay!   It was a c...   \n",
      "\n",
      "                           Listing Title            Neighbourhood  \\\n",
      "0    Nottinghill Portobello  Artist Flat   Kensington and Chelsea   \n",
      "1     Quiet Pink Studio in the PIJP area  De Pijp - Rivierenbuurt   \n",
      "2    PRIVATE Room in Spacious, Quiet Apt                   Harlem   \n",
      "3         Bonito estudio en pleno centro              Universidad   \n",
      "4          Acropolis Apartment brand new                 ΑΚΡΟΠΟΛΗ   \n",
      "..                                   ...                      ...   \n",
      "995              A typical parisian flat        Buttes-Montmartre   \n",
      "996     The Venice Roost on Abbot Kinney                   Venice   \n",
      "997      Top Floor Renovated 1 BR / 1BA              West Roxbury   \n",
      "998  NR LGA/JFK & City Studio W/Bathroom          Jackson Heights   \n",
      "999            15 Minutes from Manhattan                 Woodside   \n",
      "\n",
      "              City                State          Country        Room Type  \\\n",
      "0           London              England   United Kingdom  Entire home/apt   \n",
      "1        Amsterdam        North Holland  The Netherlands     Private room   \n",
      "2    New York City             New York    United States     Private room   \n",
      "3           Madrid  Comunidad de Madrid            Spain  Entire home/apt   \n",
      "4           Athens               Attica           Greece  Entire home/apt   \n",
      "..             ...                  ...              ...              ...   \n",
      "995          Paris        Île-de-France           France     Private room   \n",
      "996    Los Angeles           California    United States  Entire home/apt   \n",
      "997         Boston        Massachusetts    United States  Entire home/apt   \n",
      "998  New York City             New York    United States     Private room   \n",
      "999  New York City             New York    United States     Private room   \n",
      "\n",
      "     Room Price  Room Availability  \n",
      "0           100                338  \n",
      "1            80                 10  \n",
      "2            57                268  \n",
      "3            38                274  \n",
      "4            62                281  \n",
      "..          ...                ...  \n",
      "995          35                329  \n",
      "996         191                309  \n",
      "997          95                 10  \n",
      "998          75                357  \n",
      "999         110                329  \n",
      "\n",
      "[1000 rows x 11 columns]\n"
     ]
    }
   ],
   "source": [
    "review = pd.read_csv(\"ReviewContent.csv\")\n",
    "\n",
    "print(review)\n",
    "\n",
    "# csv dosyamızı pandas metodu olan read_csv ile python içine aktardık."
   ]
  },
  {
   "cell_type": "code",
   "execution_count": 3,
   "metadata": {},
   "outputs": [
    {
     "name": "stdout",
     "output_type": "stream",
     "text": [
      "<class 'pandas.core.frame.DataFrame'>\n"
     ]
    }
   ],
   "source": [
    "print(type(review))\n",
    "\n",
    "# Tabi ki birden fazla sütunlu ve boyutlu olduğu için bu bir dataframe 'dir."
   ]
  },
  {
   "cell_type": "code",
   "execution_count": 10,
   "metadata": {},
   "outputs": [
    {
     "name": "stdout",
     "output_type": "stream",
     "text": [
      "<class 'pandas.core.frame.DataFrame'>\n",
      "RangeIndex: 1000 entries, 0 to 999\n",
      "Data columns (total 11 columns):\n",
      " #   Column             Non-Null Count  Dtype \n",
      "---  ------             --------------  ----- \n",
      " 0   Review ID          1000 non-null   int64 \n",
      " 1   Review Date        1000 non-null   object\n",
      " 2   Review Content     1000 non-null   object\n",
      " 3   Listing Title      1000 non-null   object\n",
      " 4   Neighbourhood      1000 non-null   object\n",
      " 5   City               1000 non-null   object\n",
      " 6   State              1000 non-null   object\n",
      " 7   Country            1000 non-null   object\n",
      " 8   Room Type          1000 non-null   object\n",
      " 9   Room Price         1000 non-null   int64 \n",
      " 10  Room Availability  1000 non-null   int64 \n",
      "dtypes: int64(3), object(8)\n",
      "memory usage: 86.1+ KB\n",
      "None\n"
     ]
    }
   ],
   "source": [
    "print(review.info())\n",
    "\n",
    "# Bize review 'de bulunan sütunları, o sütunlarda kaç veri olduğunu ve sütunlardaki verilerin hangi veri tipinde\n",
    "# olduğu bilgilerini bize veriyor.\n",
    "# Saydıklarımın yanında da bir sürü veri verdiğini görebilirsiniz."
   ]
  },
  {
   "cell_type": "code",
   "execution_count": 11,
   "metadata": {},
   "outputs": [
    {
     "name": "stdout",
     "output_type": "stream",
     "text": [
      "   Review ID Review Date                                     Review Content  \\\n",
      "0    4055629  2012-10-06  Very nice accommodation in an aesthetically pl...   \n",
      "1   25329416  2013-11-03  Me and my friends had such a nice time at Dott...   \n",
      "2   21705849  2014-11-27  I stayed for 4night.She gave us a lot of snuck...   \n",
      "3   41133812  2012-05-08  The apartment was situated on the first floor ...   \n",
      "4    7465026  2013-08-16  Even though it was only for one night, we had ...   \n",
      "\n",
      "                         Listing Title            Neighbourhood  \\\n",
      "0  Nottinghill Portobello  Artist Flat   Kensington and Chelsea   \n",
      "1   Quiet Pink Studio in the PIJP area  De Pijp - Rivierenbuurt   \n",
      "2  PRIVATE Room in Spacious, Quiet Apt                   Harlem   \n",
      "3       Bonito estudio en pleno centro              Universidad   \n",
      "4        Acropolis Apartment brand new                 ΑΚΡΟΠΟΛΗ   \n",
      "\n",
      "            City                State          Country        Room Type  \\\n",
      "0         London              England   United Kingdom  Entire home/apt   \n",
      "1      Amsterdam        North Holland  The Netherlands     Private room   \n",
      "2  New York City             New York    United States     Private room   \n",
      "3         Madrid  Comunidad de Madrid            Spain  Entire home/apt   \n",
      "4         Athens               Attica           Greece  Entire home/apt   \n",
      "\n",
      "   Room Price  Room Availability  \n",
      "0         100                338  \n",
      "1          80                 10  \n",
      "2          57                268  \n",
      "3          38                274  \n",
      "4          62                281  \n"
     ]
    }
   ],
   "source": [
    "print(review.head())\n",
    "\n",
    "# review 'deki ilk beş değeri bize yazdırdı."
   ]
  },
  {
   "cell_type": "code",
   "execution_count": 12,
   "metadata": {},
   "outputs": [
    {
     "name": "stdout",
     "output_type": "stream",
     "text": [
      "     Review ID Review Date                                     Review Content  \\\n",
      "995   44498863  2012-08-30  I loved staying here during my time in Paris. ...   \n",
      "996   30544438  2013-02-28  Highly recommend this as a place to stay if yo...   \n",
      "997   46642535  2014-08-30  John was a great host.  I came in on a red eye...   \n",
      "998   21403195  2014-12-26  Very good experiance had a comfortable stay. V...   \n",
      "999   38944752  2013-10-15  Thank you for the wonderful stay!   It was a c...   \n",
      "\n",
      "                           Listing Title      Neighbourhood           City  \\\n",
      "995              A typical parisian flat  Buttes-Montmartre          Paris   \n",
      "996     The Venice Roost on Abbot Kinney             Venice    Los Angeles   \n",
      "997      Top Floor Renovated 1 BR / 1BA        West Roxbury         Boston   \n",
      "998  NR LGA/JFK & City Studio W/Bathroom    Jackson Heights  New York City   \n",
      "999            15 Minutes from Manhattan           Woodside  New York City   \n",
      "\n",
      "             State        Country        Room Type  Room Price  \\\n",
      "995  Île-de-France         France     Private room          35   \n",
      "996     California  United States  Entire home/apt         191   \n",
      "997  Massachusetts  United States  Entire home/apt          95   \n",
      "998       New York  United States     Private room          75   \n",
      "999       New York  United States     Private room         110   \n",
      "\n",
      "     Room Availability  \n",
      "995                329  \n",
      "996                309  \n",
      "997                 10  \n",
      "998                357  \n",
      "999                329  \n"
     ]
    }
   ],
   "source": [
    "print(review.tail())\n",
    "\n",
    "# review 'deki son beş değeri bize yazdırdı."
   ]
  },
  {
   "cell_type": "code",
   "execution_count": 13,
   "metadata": {},
   "outputs": [
    {
     "name": "stdout",
     "output_type": "stream",
     "text": [
      "Review ID             int64\n",
      "Review Date          object\n",
      "Review Content       object\n",
      "Listing Title        object\n",
      "Neighbourhood        object\n",
      "City                 object\n",
      "State                object\n",
      "Country              object\n",
      "Room Type            object\n",
      "Room Price            int64\n",
      "Room Availability     int64\n",
      "dtype: object\n"
     ]
    }
   ],
   "source": [
    "print(review.dtypes)\n",
    "\n",
    "# Bize sütunların data tiplerini gösterir."
   ]
  },
  {
   "cell_type": "code",
   "execution_count": 14,
   "metadata": {},
   "outputs": [
    {
     "name": "stdout",
     "output_type": "stream",
     "text": [
      "2\n"
     ]
    }
   ],
   "source": [
    "print(review.ndim)\n",
    "\n",
    "# review dataframe 'inin boyutunu gösterir."
   ]
  },
  {
   "cell_type": "code",
   "execution_count": 15,
   "metadata": {},
   "outputs": [
    {
     "name": "stdout",
     "output_type": "stream",
     "text": [
      "Index(['Review ID', 'Review Date', 'Review Content', 'Listing Title',\n",
      "       'Neighbourhood', 'City', 'State', 'Country', 'Room Type', 'Room Price',\n",
      "       'Room Availability'],\n",
      "      dtype='object')\n"
     ]
    }
   ],
   "source": [
    "print(review.columns)\n",
    "\n",
    "# Sütunların hepsini bir liste içerisinde bize yazdırıyor.\n",
    "# Bu colums özelliği sadece dataframe 'lerde bulunuyor.\n",
    "# Serieslerde kullanamazsınız."
   ]
  },
  {
   "cell_type": "code",
   "execution_count": 16,
   "metadata": {},
   "outputs": [
    {
     "name": "stdout",
     "output_type": "stream",
     "text": [
      "Index                 128\n",
      "Review ID            8000\n",
      "Review Date          8000\n",
      "Review Content       8000\n",
      "Listing Title        8000\n",
      "Neighbourhood        8000\n",
      "City                 8000\n",
      "State                8000\n",
      "Country              8000\n",
      "Room Type            8000\n",
      "Room Price           8000\n",
      "Room Availability    8000\n",
      "dtype: int64\n"
     ]
    }
   ],
   "source": [
    "print(review.memory_usage())\n",
    "\n",
    "# Bu metotla bize her sütunda kullanılan hafıza miktarını gösterir."
   ]
  },
  {
   "cell_type": "code",
   "execution_count": 19,
   "metadata": {},
   "outputs": [
    {
     "name": "stdout",
     "output_type": "stream",
     "text": [
      "118048\n"
     ]
    }
   ],
   "source": [
    "print(review[\"Room Price\"].sum())\n",
    "\n",
    "# Roam Price sütunundaki bütün değerlerin toplamını aldık."
   ]
  },
  {
   "cell_type": "code",
   "execution_count": 26,
   "metadata": {},
   "outputs": [
    {
     "name": "stdout",
     "output_type": "stream",
     "text": [
      "Review ID                                                  23758497050\n",
      "Review Date          2012-10-062013-11-032014-11-272012-05-082013-0...\n",
      "Review Content       Very nice accommodation in an aesthetically pl...\n",
      "Listing Title        Nottinghill Portobello  Artist FlatQuiet Pink ...\n",
      "Neighbourhood        Kensington and ChelseaDe Pijp - RivierenbuurtH...\n",
      "City                 LondonAmsterdamNew York CityMadridAthensPortla...\n",
      "State                EnglandNorth HollandNew YorkComunidad de Madri...\n",
      "Country              United KingdomThe NetherlandsUnited StatesSpai...\n",
      "Room Type            Entire home/aptPrivate roomPrivate roomEntire ...\n",
      "Room Price                                                      118048\n",
      "Room Availability                                               253651\n",
      "dtype: object\n"
     ]
    }
   ],
   "source": [
    "print(review.sum())\n",
    "\n",
    "# Tüm değerleri topladık.\n",
    "# Ancak görmüş olduğunuz gibi object yani str olan verilerde istenilen sonucun çok dışındayız."
   ]
  },
  {
   "cell_type": "code",
   "execution_count": 28,
   "metadata": {},
   "outputs": [
    {
     "name": "stdout",
     "output_type": "stream",
     "text": [
      "0      338\n",
      "1       10\n",
      "2      268\n",
      "3      274\n",
      "4      281\n",
      "      ... \n",
      "995    329\n",
      "996    309\n",
      "997     10\n",
      "998    357\n",
      "999    329\n",
      "Name: Room Availability, Length: 1000, dtype: int64\n",
      "<class 'pandas.core.series.Series'>\n"
     ]
    }
   ],
   "source": [
    "print(review[\"Room Availability\"])\n",
    "print(type(review[\"Room Availability\"]))\n",
    "\n",
    "# Room Availability adlı sütunumuzdaki verilere ulaştık.\n",
    "# Tabi ki tek sütunu yazdırdığımız için tipi Series olarak gösteriliyor."
   ]
  },
  {
   "cell_type": "code",
   "execution_count": 30,
   "metadata": {},
   "outputs": [
    {
     "name": "stdout",
     "output_type": "stream",
     "text": [
      "0      348\n",
      "1       20\n",
      "2      278\n",
      "3      284\n",
      "4      291\n",
      "      ... \n",
      "995    339\n",
      "996    319\n",
      "997     20\n",
      "998    367\n",
      "999    339\n",
      "Name: Room Availability, Length: 1000, dtype: int64\n"
     ]
    }
   ],
   "source": [
    "print(review[\"Room Availability\"].add(10))\n",
    "\n",
    "# Orjinal haliyle bu halini karşılaştırırsanız add metodunun sütundaki her veriye biz 10 yazdığımız için\n",
    "# 10 eklediğini görebiliriz."
   ]
  },
  {
   "cell_type": "code",
   "execution_count": 31,
   "metadata": {},
   "outputs": [
    {
     "name": "stdout",
     "output_type": "stream",
     "text": [
      "0      348\n",
      "1       20\n",
      "2      278\n",
      "3      284\n",
      "4      291\n",
      "      ... \n",
      "995    339\n",
      "996    319\n",
      "997     20\n",
      "998    367\n",
      "999    339\n",
      "Name: Room Availability, Length: 1000, dtype: int64\n"
     ]
    }
   ],
   "source": [
    "print(review[\"Room Availability\"] + 10)\n",
    "\n",
    "# Bu şekilde de aynı ekleme işlemini yapabiliriz.\n",
    "# Ancak bu yöntemi sadece Series 'te kullanabiliriz."
   ]
  },
  {
   "cell_type": "code",
   "execution_count": 32,
   "metadata": {},
   "outputs": [
    {
     "name": "stdout",
     "output_type": "stream",
     "text": [
      "0             London\n",
      "1          Amsterdam\n",
      "2      New York City\n",
      "3             Madrid\n",
      "4             Athens\n",
      "           ...      \n",
      "995            Paris\n",
      "996      Los Angeles\n",
      "997           Boston\n",
      "998    New York City\n",
      "999    New York City\n",
      "Name: City, Length: 1000, dtype: object\n"
     ]
    }
   ],
   "source": [
    "print(review[\"City\"])\n",
    "\n",
    "# City sütununu yazdırdık.\n",
    "# Gördüğünüz gibi aynı şehirlerden birden fazla var."
   ]
  },
  {
   "cell_type": "code",
   "execution_count": 33,
   "metadata": {},
   "outputs": [
    {
     "name": "stdout",
     "output_type": "stream",
     "text": [
      "New York City    135\n",
      "London           104\n",
      "Paris            101\n",
      "Los Angeles       68\n",
      "Barcelona         61\n",
      "San Francisco     59\n",
      "Berlin            56\n",
      "Amsterdam         45\n",
      "Sydney            33\n",
      "Madrid            28\n",
      "Portland          28\n",
      "Montreal          27\n",
      "Brussels          23\n",
      "Toronto           23\n",
      "Seattle           23\n",
      "New Orleans       22\n",
      "Austin            22\n",
      "Chicago           21\n",
      "Venice            21\n",
      "Boston            21\n",
      "Washington        18\n",
      "Vienna            14\n",
      "Melbourne         14\n",
      "Nashville         13\n",
      "Athens            10\n",
      "Antwerp            5\n",
      "Oakland            5\n",
      "Name: City, dtype: int64\n"
     ]
    }
   ],
   "source": [
    "# value_counts() metodu\n",
    "\n",
    "print(review[\"City\"].value_counts())\n",
    "\n",
    "# value_counts() metodunu kullanarak verilerimiz içinde hangi verilerin ne kadar tekrar ettiğini görebiliyoruz.\n",
    "# Örneğim New York City 135 kere City sütunundaki verilerimizin içinde bulunmuş."
   ]
  },
  {
   "cell_type": "code",
   "execution_count": 34,
   "metadata": {},
   "outputs": [
    {
     "name": "stdout",
     "output_type": "stream",
     "text": [
      "Entire home/apt    648\n",
      "Private room       340\n",
      "Shared room         12\n",
      "Name: Room Type, dtype: int64\n"
     ]
    }
   ],
   "source": [
    "print(review[\"Room Type\"].value_counts())\n",
    "\n",
    "# Bu da başka bir sütunun örneği."
   ]
  },
  {
   "cell_type": "code",
   "execution_count": 35,
   "metadata": {},
   "outputs": [
    {
     "name": "stdout",
     "output_type": "stream",
     "text": [
      "80     32\n",
      "120    31\n",
      "75     27\n",
      "95     27\n",
      "55     26\n",
      "       ..\n",
      "360     1\n",
      "775     1\n",
      "500     1\n",
      "265     1\n",
      "191     1\n",
      "Name: Room Price, Length: 180, dtype: int64\n"
     ]
    }
   ],
   "source": [
    "print(review[\"Room Price\"].value_counts())\n",
    "\n",
    "# Bu da başka bir sütunun örneği."
   ]
  },
  {
   "cell_type": "code",
   "execution_count": 36,
   "metadata": {},
   "outputs": [
    {
     "name": "stdout",
     "output_type": "stream",
     "text": [
      "80     32\n",
      "120    31\n",
      "75     27\n",
      "95     27\n",
      "55     26\n",
      "Name: Room Price, dtype: int64\n"
     ]
    }
   ],
   "source": [
    "print(review[\"Room Price\"].value_counts().head())\n",
    "\n",
    "# head metoduyla ilk beş veriyi yazdırabiliriz.\n",
    "# Ama benim istediğim en yüksek ücretli 5 odadan kaç tane olduğunu yazdırmak."
   ]
  },
  {
   "cell_type": "code",
   "execution_count": 40,
   "metadata": {},
   "outputs": [
    {
     "name": "stdout",
     "output_type": "stream",
     "text": [
      "799    1500\n",
      "489     800\n",
      "518     775\n",
      "613     725\n",
      "555     650\n",
      "       ... \n",
      "576      22\n",
      "452      19\n",
      "306      19\n",
      "718      16\n",
      "740      16\n",
      "Name: Room Price, Length: 1000, dtype: int64\n"
     ]
    }
   ],
   "source": [
    "print(review[\"Room Price\"].sort_values(ascending= False))\n",
    "\n",
    "# sort_values ile sıralama yapabiliyoruz.\n",
    "# Ancak bu metodun ön tanımlı değeri olduğu için küçükten büyüğe sıralıyor.\n",
    "# Biz en büyükleri görmek istediğimiz için ascending parametresini False değeri vererek.\n",
    "# Bu ön tanımlı küçükten büyüğe sıralama olayını reverse etmiş oluyoruz."
   ]
  }
 ],
 "metadata": {
  "kernelspec": {
   "display_name": "Python 3.11.0 64-bit",
   "language": "python",
   "name": "python3"
  },
  "language_info": {
   "codemirror_mode": {
    "name": "ipython",
    "version": 3
   },
   "file_extension": ".py",
   "mimetype": "text/x-python",
   "name": "python",
   "nbconvert_exporter": "python",
   "pygments_lexer": "ipython3",
   "version": "3.11.0"
  },
  "orig_nbformat": 4,
  "vscode": {
   "interpreter": {
    "hash": "7c542dbbc07e6010b76b61de8a453dc04d29cd1fae7fbaa29851ecbad9aefb83"
   }
  }
 },
 "nbformat": 4,
 "nbformat_minor": 2
}
