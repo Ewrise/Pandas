{
 "cells": [
  {
   "cell_type": "code",
   "execution_count": 2,
   "metadata": {},
   "outputs": [
    {
     "name": "stdout",
     "output_type": "stream",
     "text": [
      "           Hale Ahmet Fatma\n",
      "age          25    32    40\n",
      "gender        F     M     M\n",
      "department   CE    EE    TT\n",
      "weight       61    83    55\n",
      "\n",
      "Satır sayısı: 4, Sütun sayısı: 3\n"
     ]
    }
   ],
   "source": [
    "import pandas as pd\n",
    "\n",
    "# 1- Bir Dataframe'in satır ve sütun sayısını nasıl bulabilirsiniz.\n",
    "\n",
    "students = {\"Hale\" : pd.Series(data= [25, \"F\", \"CE\", 61], index= [\"age\", \"gender\", \"department\", \"weight\"]),\n",
    "    \"Ahmet\" : pd.Series(data= [32, \"M\", \"EE\", 83], index= [\"age\", \"gender\", \"department\", \"weight\"]),\n",
    "    \"Fatma\" : pd.Series(data= [40, \"M\", \"TT\", 55], index= [\"age\", \"gender\", \"department\", \"weight\"])\n",
    "}\n",
    "\n",
    "students = pd.DataFrame(students)\n",
    "print(students)\n",
    "print()\n",
    "print(f\"Satır sayısı: {students.shape[0]}, Sütun sayısı: {students.shape[1]}\")"
   ]
  },
  {
   "cell_type": "code",
   "execution_count": 23,
   "metadata": {},
   "outputs": [
    {
     "name": "stdout",
     "output_type": "stream",
     "text": [
      "           Ahmet\n",
      "age           32\n",
      "gender         M\n",
      "department    EE\n",
      "weight        83\n"
     ]
    }
   ],
   "source": [
    "# Bir DataFrame'deki belirli bir sütunu nasıl seçersiniz?(tip column seciniz)\n",
    "\n",
    "students = {\"Hale\" : pd.Series(data= [25, \"F\", \"CE\", 61], index= [\"age\", \"gender\", \"department\", \"weight\"]),\n",
    "    \"Ahmet\" : pd.Series(data= [32, \"M\", \"EE\", 83], index= [\"age\", \"gender\", \"department\", \"weight\"]),\n",
    "    \"Fatma\" : pd.Series(data= [40, \"M\", \"TT\", 55], index= [\"age\", \"gender\", \"department\", \"weight\"])\n",
    "}\n",
    "\n",
    "print(pd.DataFrame(students, columns= [\"Ahmet\"]))"
   ]
  },
  {
   "cell_type": "code",
   "execution_count": 26,
   "metadata": {},
   "outputs": [
    {
     "name": "stdout",
     "output_type": "stream",
     "text": [
      "    Review ID Review Date                                     Review Content  \\\n",
      "15    2977581  2013-06-16  Lovely apartment in a great location for explo...   \n",
      "\n",
      "                  Listing Title Neighbourhood       City          State  \\\n",
      "15  ★ Inner City Centre Loft #4  Centrum-West  Amsterdam  North Holland   \n",
      "\n",
      "            Country        Room Type  Room Price  Room Availability  \n",
      "15  The Netherlands  Entire home/apt         275                243  \n"
     ]
    }
   ],
   "source": [
    "# 3- Bir DataFrame'deki belirli bir satırı nasıl seçersiniz?(15.satir)\n",
    "\n",
    "students1 = pd.read_csv(\"ReviewContent.csv\")\n",
    "\n",
    "students_index = pd.DataFrame(students1, index= [15])\n",
    "print(students_index)"
   ]
  },
  {
   "cell_type": "code",
   "execution_count": 31,
   "metadata": {},
   "outputs": [
    {
     "name": "stdout",
     "output_type": "stream",
     "text": [
      "       Ahmet\n",
      "gender     M\n"
     ]
    }
   ],
   "source": [
    "# 4- Bir DataFrame'deki belirli bir satırın belirli bir sütunundaki değeri nasıl seçersiniz?\n",
    "\n",
    "students = {\"Hale\" : pd.Series(data= [25, \"F\", \"CE\", 61], index= [\"age\", \"gender\", \"department\", \"weight\"]),\n",
    "    \"Ahmet\" : pd.Series(data= [32, \"M\", \"EE\", 83], index= [\"age\", \"gender\", \"department\", \"weight\"]),\n",
    "    \"Fatma\" : pd.Series(data= [40, \"M\", \"TT\", 55], index= [\"age\", \"gender\", \"department\", \"weight\"])\n",
    "}\n",
    "\n",
    "students_spesifik = pd.DataFrame(students, index= [\"gender\"], columns= [\"Ahmet\"])\n",
    "\n",
    "print(students_spesifik)"
   ]
  },
  {
   "cell_type": "code",
   "execution_count": 49,
   "metadata": {},
   "outputs": [
    {
     "name": "stdout",
     "output_type": "stream",
     "text": [
      "Index(['Hale', 'Ahmet', 'Fatma'], dtype='object')\n"
     ]
    }
   ],
   "source": [
    "# 5- Bir DataFrame'deki tüm sütunların adlarını nasıl alırsınız?(columns)\n",
    "\n",
    "students = {\"Hale\" : pd.Series(data= [25, \"F\", \"CE\", 61], index= [\"age\", \"gender\", \"department\", \"weight\"]),\n",
    "    \"Ahmet\" : pd.Series(data= [32, \"M\", \"EE\", 83], index= [\"age\", \"gender\", \"department\", \"weight\"]),\n",
    "    \"Fatma\" : pd.Series(data= [40, \"M\", \"TT\", 55], index= [\"age\", \"gender\", \"department\", \"weight\"])\n",
    "}\n",
    "\n",
    "students = pd.DataFrame(students)\n",
    "\n",
    "print(students.keys())"
   ]
  },
  {
   "cell_type": "code",
   "execution_count": 47,
   "metadata": {},
   "outputs": [
    {
     "name": "stdout",
     "output_type": "stream",
     "text": [
      "object\n"
     ]
    }
   ],
   "source": [
    "# 6- Bir DataFrame'deki tüm sütunların veri tiplerini nasıl alırsınız?(dtypes)\n",
    "\n",
    "students = {\"Hale\" : pd.Series(data= [25, \"F\", \"CE\", 61], index= [\"age\", \"gender\", \"department\", \"weight\"]),\n",
    "    \"Ahmet\" : pd.Series(data= [32, \"M\", \"EE\", 83], index= [\"age\", \"gender\", \"department\", \"weight\"]),\n",
    "    \"Fatma\" : pd.Series(data= [40, \"M\", \"TT\", 55], index= [\"age\", \"gender\", \"department\", \"weight\"])\n",
    "}\n",
    "\n",
    "students = pd.DataFrame(students)\n",
    "\n",
    "print((students.keys()).dtype)"
   ]
  },
  {
   "cell_type": "code",
   "execution_count": 7,
   "metadata": {},
   "outputs": [
    {
     "name": "stdout",
     "output_type": "stream",
     "text": [
      "[32 'M' 'EE' 83]\n"
     ]
    }
   ],
   "source": [
    "# 7- Bir DataFrame'deki tüm satırların bir sütunundaki tekil değerleri nasıl alırsınız?(unique() methodunu kullaniniz)\n",
    "\n",
    "students = {\"Hale\" : pd.Series(data= [25, \"F\", \"CE\", 61], index= [\"age\", \"gender\", \"department\", \"weight\"]),\n",
    "    \"Ahmet\" : pd.Series(data= [32, \"M\", \"EE\", 83], index= [\"age\", \"gender\", \"department\", \"weight\"]),\n",
    "    \"Fatma\" : pd.Series(data= [40, \"M\", \"TT\", 55], index= [\"age\", \"gender\", \"department\", \"weight\"])\n",
    "}\n",
    "\n",
    "students = pd.DataFrame(students)\n",
    "\n",
    "print((students[:][\"Ahmet\"]).unique())"
   ]
  },
  {
   "cell_type": "code",
   "execution_count": 12,
   "metadata": {},
   "outputs": [
    {
     "name": "stdout",
     "output_type": "stream",
     "text": [
      "46.5\n"
     ]
    }
   ],
   "source": [
    "# 8- Bir DataFrame'deki belirli bir sütundaki tüm değerlerin ortalamasını nasıl hesaplayabilirsiniz?\n",
    "\n",
    "students = {\"Hale\" : pd.Series(data= [25, 38, 62, 61], index= [\"age\", \"gender\", \"department\", \"weight\"]),\n",
    "    \"Ahmet\" : pd.Series(data= [32, \"M\", \"EE\", 83], index= [\"age\", \"gender\", \"department\", \"weight\"]),\n",
    "    \"Fatma\" : pd.Series(data= [40, \"M\", \"TT\", 55], index= [\"age\", \"gender\", \"department\", \"weight\"])\n",
    "}\n",
    "\n",
    "students = pd.DataFrame(students)\n",
    "\n",
    "print(students[\"Hale\"].mean())"
   ]
  },
  {
   "cell_type": "code",
   "execution_count": 13,
   "metadata": {},
   "outputs": [
    {
     "name": "stdout",
     "output_type": "stream",
     "text": [
      "18.119970566569176\n"
     ]
    }
   ],
   "source": [
    "# 9- Bir DataFrame'deki belirli bir sütundaki tüm değerlerin standart sapmasını nasıl hesaplayabilirsiniz?\n",
    "\n",
    "students = {\"Hale\" : pd.Series(data= [25, 38, 62, 61], index= [\"age\", \"gender\", \"department\", \"weight\"]),\n",
    "    \"Ahmet\" : pd.Series(data= [32, \"M\", \"EE\", 83], index= [\"age\", \"gender\", \"department\", \"weight\"]),\n",
    "    \"Fatma\" : pd.Series(data= [40, \"M\", \"TT\", 55], index= [\"age\", \"gender\", \"department\", \"weight\"])\n",
    "}\n",
    "\n",
    "students = pd.DataFrame(students)\n",
    "\n",
    "print(students[\"Hale\"].std())"
   ]
  },
  {
   "cell_type": "code",
   "execution_count": 14,
   "metadata": {},
   "outputs": [
    {
     "name": "stdout",
     "output_type": "stream",
     "text": [
      "62\n"
     ]
    }
   ],
   "source": [
    "# 10- Bir DataFrame'deki belirli bir sütunun en büyük değerini nasıl bulabilirsiniz?(total_tip icin yapiniz)\n",
    "\n",
    "students = {\"Hale\" : pd.Series(data= [25, 38, 62, 61], index= [\"age\", \"gender\", \"department\", \"weight\"]),\n",
    "    \"Ahmet\" : pd.Series(data= [32, \"M\", \"EE\", 83], index= [\"age\", \"gender\", \"department\", \"weight\"]),\n",
    "    \"Fatma\" : pd.Series(data= [40, \"M\", \"TT\", 55], index= [\"age\", \"gender\", \"department\", \"weight\"])\n",
    "}\n",
    "\n",
    "students = pd.DataFrame(students)\n",
    "\n",
    "print(students[\"Hale\"].max())"
   ]
  },
  {
   "cell_type": "code",
   "execution_count": 15,
   "metadata": {},
   "outputs": [
    {
     "name": "stdout",
     "output_type": "stream",
     "text": [
      "25\n"
     ]
    }
   ],
   "source": [
    "# 11- Bir DataFrame'deki belirli bir sütunun en küçük değerini nasıl bulabilirsiniz?(tip sutunu icin yapiniz)\n",
    "\n",
    "students = {\"Hale\" : pd.Series(data= [25, 38, 62, 61], index= [\"age\", \"gender\", \"department\", \"weight\"]),\n",
    "    \"Ahmet\" : pd.Series(data= [32, \"M\", \"EE\", 83], index= [\"age\", \"gender\", \"department\", \"weight\"]),\n",
    "    \"Fatma\" : pd.Series(data= [40, \"M\", \"TT\", 55], index= [\"age\", \"gender\", \"department\", \"weight\"])\n",
    "}\n",
    "\n",
    "students = pd.DataFrame(students)\n",
    "\n",
    "print(students[\"Hale\"].min())"
   ]
  },
  {
   "cell_type": "code",
   "execution_count": 20,
   "metadata": {},
   "outputs": [
    {
     "name": "stdout",
     "output_type": "stream",
     "text": [
      "4\n"
     ]
    }
   ],
   "source": [
    "# 11- Bir DataFrame'deki belirli bir sütundaki değerlerin sayısını nasıl hesaplayabilirsiniz?(count method)\n",
    "\n",
    "students = {\"Hale\" : pd.Series(data= [25, 25, 62, 61], index= [\"age\", \"gender\", \"department\", \"weight\"]),\n",
    "    \"Ahmet\" : pd.Series(data= [32, \"M\", \"EE\", 83], index= [\"age\", \"gender\", \"department\", \"weight\"]),\n",
    "    \"Fatma\" : pd.Series(data= [40, \"M\", \"TT\", 55], index= [\"age\", \"gender\", \"department\", \"weight\"])\n",
    "}\n",
    "\n",
    "students = pd.DataFrame(students)\n",
    "\n",
    "print(students[\"Hale\"].count())"
   ]
  },
  {
   "cell_type": "code",
   "execution_count": 21,
   "metadata": {},
   "outputs": [
    {
     "name": "stdout",
     "output_type": "stream",
     "text": [
      "43.0\n"
     ]
    }
   ],
   "source": [
    "# 12- Bir DataFrame'deki belirli bir sütunun medyanını nasıl hesaplayabilirsiniz?(median)\n",
    "\n",
    "students = {\"Hale\" : pd.Series(data= [25, 25, 62, 61], index= [\"age\", \"gender\", \"department\", \"weight\"]),\n",
    "    \"Ahmet\" : pd.Series(data= [32, \"M\", \"EE\", 83], index= [\"age\", \"gender\", \"department\", \"weight\"]),\n",
    "    \"Fatma\" : pd.Series(data= [40, \"M\", \"TT\", 55], index= [\"age\", \"gender\", \"department\", \"weight\"])\n",
    "}\n",
    "\n",
    "students = pd.DataFrame(students)\n",
    "\n",
    "print(students[\"Hale\"].median())"
   ]
  },
  {
   "cell_type": "code",
   "execution_count": 25,
   "metadata": {},
   "outputs": [
    {
     "name": "stdout",
     "output_type": "stream",
     "text": [
      "0    25\n",
      "Name: Hale, dtype: int64\n"
     ]
    }
   ],
   "source": [
    "# 13- Bir DataFrame'deki belirli bir sütundaki en sık tekrar eden değeri nasıl bulabilirsiniz?(mode kullaniniz)\n",
    "\n",
    "students = {\"Hale\" : pd.Series(data= [25, 25, 62, 61], index= [\"age\", \"gender\", \"department\", \"weight\"]),\n",
    "    \"Ahmet\" : pd.Series(data= [32, \"M\", \"EE\", 83], index= [\"age\", \"gender\", \"department\", \"weight\"]),\n",
    "    \"Fatma\" : pd.Series(data= [40, \"M\", \"TT\", 55], index= [\"age\", \"gender\", \"department\", \"weight\"])\n",
    "}\n",
    "\n",
    "students = pd.DataFrame(students)\n",
    "\n",
    "print(students[\"Hale\"].mode())"
   ]
  },
  {
   "cell_type": "code",
   "execution_count": 26,
   "metadata": {},
   "outputs": [
    {
     "name": "stdout",
     "output_type": "stream",
     "text": [
      "gender        23\n",
      "age           25\n",
      "weight        61\n",
      "department    62\n",
      "Name: Hale, dtype: int64\n"
     ]
    }
   ],
   "source": [
    "# 14- Bir DataFrame'deki belirli bir sütunu küçükten büyüğe nasıl sıralayabilirsiniz?\n",
    "\n",
    "students = {\"Hale\" : pd.Series(data= [25, 23, 62, 61], index= [\"age\", \"gender\", \"department\", \"weight\"]),\n",
    "    \"Ahmet\" : pd.Series(data= [32, \"M\", \"EE\", 83], index= [\"age\", \"gender\", \"department\", \"weight\"]),\n",
    "    \"Fatma\" : pd.Series(data= [40, \"M\", \"TT\", 55], index= [\"age\", \"gender\", \"department\", \"weight\"])\n",
    "}\n",
    "\n",
    "students = pd.DataFrame(students)\n",
    "\n",
    "print(students[\"Hale\"].sort_values())"
   ]
  },
  {
   "cell_type": "code",
   "execution_count": 27,
   "metadata": {},
   "outputs": [
    {
     "name": "stdout",
     "output_type": "stream",
     "text": [
      "department    62\n",
      "weight        61\n",
      "age           25\n",
      "gender        23\n",
      "Name: Hale, dtype: int64\n"
     ]
    }
   ],
   "source": [
    "# 15- Bir DataFrame'deki belirli bir sütunu büyükten küçüğe nasıl sıralayabilirsiniz?\n",
    "\n",
    "students = {\"Hale\" : pd.Series(data= [25, 23, 62, 61], index= [\"age\", \"gender\", \"department\", \"weight\"]),\n",
    "    \"Ahmet\" : pd.Series(data= [32, \"M\", \"EE\", 83], index= [\"age\", \"gender\", \"department\", \"weight\"]),\n",
    "    \"Fatma\" : pd.Series(data= [40, \"M\", \"TT\", 55], index= [\"age\", \"gender\", \"department\", \"weight\"])\n",
    "}\n",
    "\n",
    "students = pd.DataFrame(students)\n",
    "\n",
    "print(students[\"Hale\"].sort_values(ascending= False))"
   ]
  },
  {
   "cell_type": "code",
   "execution_count": 39,
   "metadata": {},
   "outputs": [
    {
     "name": "stdout",
     "output_type": "stream",
     "text": [
      "age       25\n",
      "weight    61\n",
      "Name: Hale, dtype: int64\n"
     ]
    }
   ],
   "source": [
    "# 16- Bir DataFrame'deki belirli bir sütunda belirli bir koşulu sağlayan değerleri nasıl seçebilirsiniz?(tip>2 icin sorgulayin)\n",
    "\n",
    "students = {\"Hale\" : pd.Series(data= [25, 23, 62, 61], index= [\"age\", \"gender\", \"department\", \"weight\"]),\n",
    "    \"Ahmet\" : pd.Series(data= [32, \"M\", \"EE\", 83], index= [\"age\", \"gender\", \"department\", \"weight\"]),\n",
    "    \"Fatma\" : pd.Series(data= [40, \"M\", \"TT\", 55], index= [\"age\", \"gender\", \"department\", \"weight\"])\n",
    "}\n",
    "\n",
    "students = pd.DataFrame(students)\n",
    "\n",
    "mask = (students[\"Hale\"] > 24) & (students[\"Hale\"] < 62)\n",
    "\n",
    "print(students[mask][\"Hale\"])"
   ]
  },
  {
   "cell_type": "code",
   "execution_count": null,
   "metadata": {},
   "outputs": [],
   "source": []
  }
 ],
 "metadata": {
  "kernelspec": {
   "display_name": "Python 3.11.0 64-bit",
   "language": "python",
   "name": "python3"
  },
  "language_info": {
   "codemirror_mode": {
    "name": "ipython",
    "version": 3
   },
   "file_extension": ".py",
   "mimetype": "text/x-python",
   "name": "python",
   "nbconvert_exporter": "python",
   "pygments_lexer": "ipython3",
   "version": "3.11.0"
  },
  "orig_nbformat": 4,
  "vscode": {
   "interpreter": {
    "hash": "7c542dbbc07e6010b76b61de8a453dc04d29cd1fae7fbaa29851ecbad9aefb83"
   }
  }
 },
 "nbformat": 4,
 "nbformat_minor": 2
}
